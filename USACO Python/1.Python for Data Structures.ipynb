{
 "cells": [
  {
   "cell_type": "markdown",
   "metadata": {},
   "source": [
    "# Karatsuba algorithm"
   ]
  },
  {
   "cell_type": "code",
   "execution_count": 9,
   "metadata": {},
   "outputs": [],
   "source": [
    "from math import log10\n",
    "import math\n",
    "def karatsuba(x,y):\n",
    "    if x<10 or y<10:\n",
    "        return x * y\n",
    "    \n",
    "    n = max(int(log10(x)+1), int(log10(y)+1))\n",
    "    n_2 = int(math.ceil(n/2.0))\n",
    "    \n",
    "    n = n if n%2 ==0 else n+1\n",
    "    a,b = divmod(x,10**n_2)\n",
    "    c,d = divmod(y,10**n_2)\n",
    "    ac = karatsuba(a,c)\n",
    "    bd = karatsuba(b,d)\n",
    "    ad_bc = karatsuba((a+b),(c+d)) - ac - bd\n",
    "    return (((10**n)*ac)+ bd+ ((10**n_2)*(ad_bc)))\n"
   ]
  },
  {
   "cell_type": "code",
   "execution_count": 11,
   "metadata": {},
   "outputs": [
    {
     "data": {
      "text/plain": [
       "'OK'"
      ]
     },
     "execution_count": 11,
     "metadata": {},
     "output_type": "execute_result"
    }
   ],
   "source": [
    "import random\n",
    "def test():\n",
    "    for i in range(1000):\n",
    "        x = random.randint(1,10**5)\n",
    "        y = random.randint(1,10**5)\n",
    "        expected = x*y\n",
    "        result = karatsuba(x,y)\n",
    "        if result != expected:\n",
    "            return(\"failed\")\n",
    "    return(\"OK\")\n",
    "test()"
   ]
  },
  {
   "cell_type": "markdown",
   "metadata": {},
   "source": [
    "# Merge Sort Algorithm"
   ]
  },
  {
   "cell_type": "code",
   "execution_count": 15,
   "metadata": {},
   "outputs": [],
   "source": [
    "def mergesort(A):\n",
    "    if len(A)>1:\n",
    "        print('Splitting A')\n",
    "        mid = len(A)//2\n",
    "        left = A[:mid]\n",
    "        right = A[mid:]\n",
    "        mergesort(left)\n",
    "        mergesort(right)\n",
    "        i = j = k=0\n",
    "        while i<len(left) and j<len(right):\n",
    "            if left[i] <right[j]:\n",
    "                A[k]= left[i]\n",
    "                i = i+1\n",
    "            else:\n",
    "                A[k] = right[j]\n",
    "                j = j+1\n",
    "            k = k+1\n",
    "        while i<len(left):\n",
    "            A[k] = left[i]\n",
    "            i=i+1\n",
    "            k= k+1\n",
    "        while j<len(right):\n",
    "            A[k] = right[j]\n",
    "            j=j+1\n",
    "            k= k+1\n",
    "        print(\"Merging A\",A)\n",
    "        return(A)"
   ]
  },
  {
   "cell_type": "code",
   "execution_count": 16,
   "metadata": {},
   "outputs": [
    {
     "name": "stdout",
     "output_type": "stream",
     "text": [
      "Splitting A\n",
      "Splitting A\n",
      "Merging A [12, 43]\n",
      "Splitting A\n",
      "Splitting A\n",
      "Merging A [52, 7721]\n",
      "Merging A [35, 52, 7721]\n",
      "Merging A [12, 35, 43, 52, 7721]\n"
     ]
    },
    {
     "data": {
      "text/plain": [
       "[12, 35, 43, 52, 7721]"
      ]
     },
     "execution_count": 16,
     "metadata": {},
     "output_type": "execute_result"
    }
   ],
   "source": [
    "a= [12,43,35,7721,52]\n",
    "mergesort(a)"
   ]
  },
  {
   "cell_type": "code",
   "execution_count": 18,
   "metadata": {},
   "outputs": [],
   "source": [
    "import timeit"
   ]
  },
  {
   "cell_type": "code",
   "execution_count": 20,
   "metadata": {},
   "outputs": [],
   "source": [
    "def test2(n):\n",
    "    ls=[]\n",
    "    for n in range(n):\n",
    "        t = timeit.timeit(\"nest(\"+ str(n)+\")\",setup=\"from __main__import nest\",number = 1)\n",
    "        ls.append(t)\n",
    "    return ls\n",
    "                          "
   ]
  },
  {
   "cell_type": "code",
   "execution_count": 22,
   "metadata": {},
   "outputs": [],
   "source": [
    "from IPython.display import Image"
   ]
  },
  {
   "cell_type": "code",
   "execution_count": 23,
   "metadata": {},
   "outputs": [
    {
     "data": {
      "image/png": "[encoded data removed]",
      "text/plain": [
       "<IPython.core.display.Image object>"
      ]
     },
     "execution_count": 23,
     "metadata": {},
     "output_type": "execute_result"
    }
   ],
   "source": [
    "Image(\"tower-of-hanoi.png\")"
   ]
  },
  {
   "cell_type": "code",
   "execution_count": 33,
   "metadata": {},
   "outputs": [],
   "source": [
    "def TaworOfHanoi(n,source,destination,auxiliary):\n",
    "    if n ==1:\n",
    "        print(\" Move disk 1 from source \",source,\" to destination \",destination)\n",
    "        return \n",
    "    TaworOfHanoi(n-1,source,auxiliary,destination)\n",
    "    print(\"Move Disk \",n,\" from source \",source,\" to destination \",destination)\n",
    "    TaworOfHanoi(n-1,auxiliary,destination,source)"
   ]
  },
  {
   "cell_type": "code",
   "execution_count": 34,
   "metadata": {},
   "outputs": [
    {
     "name": "stdout",
     "output_type": "stream",
     "text": [
      " Move disk 1 from source  A  to destination  C\n",
      "Move Disk  2  from source  A  to destination  B\n",
      " Move disk 1 from source  C  to destination  B\n",
      "Move Disk  3  from source  A  to destination  C\n",
      " Move disk 1 from source  B  to destination  A\n",
      "Move Disk  2  from source  B  to destination  C\n",
      " Move disk 1 from source  A  to destination  C\n",
      "Move Disk  4  from source  A  to destination  B\n",
      " Move disk 1 from source  C  to destination  B\n",
      "Move Disk  2  from source  C  to destination  A\n",
      " Move disk 1 from source  B  to destination  A\n",
      "Move Disk  3  from source  C  to destination  B\n",
      " Move disk 1 from source  A  to destination  C\n",
      "Move Disk  2  from source  A  to destination  B\n",
      " Move disk 1 from source  C  to destination  B\n"
     ]
    }
   ],
   "source": [
    "n = 4\n",
    "TaworOfHanoi(n,'A','B','C')"
   ]
  },
  {
   "cell_type": "code",
   "execution_count": null,
   "metadata": {},
   "outputs": [],
   "source": []
  }
 ],
 "metadata": {
  "kernelspec": {
   "display_name": "Python 3",
   "language": "python",
   "name": "python3"
  },
  "language_info": {
   "codemirror_mode": {
    "name": "ipython",
    "version": 3
   },
   "file_extension": ".py",
   "mimetype": "text/x-python",
   "name": "python",
   "nbconvert_exporter": "python",
   "pygments_lexer": "ipython3",
   "version": "3.7.3"
  }
 },
 "nbformat": 4,
 "nbformat_minor": 2
}
