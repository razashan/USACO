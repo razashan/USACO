{
 "cells": [
  {
   "cell_type": "markdown",
   "id": "d184a54b",
   "metadata": {},
   "source": [
    "# 1. Reverse an stringwithout affecting special characters"
   ]
  },
  {
   "cell_type": "markdown",
   "id": "0ebe297d",
   "metadata": {},
   "source": [
    "Given a string, that contains special character together with alphabets (‘a’ to ‘z’ and ‘A’ to ‘Z’), reverse the string in a way that special characters are not affected"
   ]
  },
  {
   "cell_type": "markdown",
   "id": "066029d5",
   "metadata": {},
   "source": [
    "Examples:"
   ]
  },
  {
   "cell_type": "code",
   "execution_count": 3,
   "id": "4e885e80",
   "metadata": {},
   "outputs": [],
   "source": [
    "Input:   str = \"a,b$c\" \n"
   ]
  },
  {
   "cell_type": "code",
   "execution_count": 4,
   "id": "3b8b4fef",
   "metadata": {},
   "outputs": [],
   "source": [
    "Output:  str = \"c,b$a\""
   ]
  },
  {
   "cell_type": "markdown",
   "id": "f82883e4",
   "metadata": {},
   "source": [
    "Note that $ and , are not moved anywhere.   Only subsequence \"abc\" is reversed"
   ]
  },
  {
   "cell_type": "code",
   "execution_count": 1,
   "id": "4558a100",
   "metadata": {},
   "outputs": [],
   "source": [
    "Input:   str = \"Ab,c,de!$\"\n",
    "Output:  str = \"ed,c,bA!$\""
   ]
  },
  {
   "cell_type": "code",
   "execution_count": 7,
   "id": "1ead02f3",
   "metadata": {},
   "outputs": [
    {
     "data": {
      "text/plain": [
       "\"i!!!h.g.f,e'd,cba\""
      ]
     },
     "execution_count": 7,
     "metadata": {},
     "output_type": "execute_result"
    }
   ],
   "source": [
    "def reverse(s):\n",
    "    # convert string to array\n",
    "    s = list(s)\n",
    "    # left index\n",
    "    l = 0\n",
    "    # right index\n",
    "    r = len(s) - 1\n",
    "\n",
    "    while l < r:\n",
    "        if not isAlphabet(s[l]):\n",
    "            l += 1\n",
    "        elif not isAlphabet(s[r]):\n",
    "            r -= 1\n",
    "        else:\n",
    "            s[l], s[r] = s[r], s[l]\n",
    "            l += 1\n",
    "            r -= 1\n",
    "    \n",
    "    return ''.join(s)\n",
    "\n",
    "# helper func\n",
    "def isAlphabet(x):\n",
    "    return x.isalpha()\n",
    "\n",
    "# A = 'abc,$d'\n",
    "# print(reverse(A))\n",
    "\n",
    "reverse(\"a!!!b.c.d,e'f,ghi\") "
   ]
  },
  {
   "cell_type": "markdown",
   "id": "0f1a6c0d",
   "metadata": {},
   "source": [
    "# 2.Sort the Odd"
   ]
  },
  {
   "cell_type": "markdown",
   "id": "2ef47ec9",
   "metadata": {},
   "source": [
    "DESCRIPTION:<br>\n",
    "You have an array of numbers.<br>\n",
    "Your task is to sort ascending odd numbers but even numbers must be on their places.<br>\n",
    "Zero isn't an odd number and you don't need to move it. If you have an empty array, you need to return it.<br>\n",
    "Example <br>\n",
    "sort_array([5, 3, 2, 8, 1, 4]) == [1, 3, 2, 8, 5, 4]"
   ]
  },
  {
   "cell_type": "code",
   "execution_count": 12,
   "id": "a52bda49",
   "metadata": {},
   "outputs": [],
   "source": [
    "def sort_array(source_array):\n",
    "    new_arr = [x for x in source_array if x % 2 == 1]\n",
    "    new_arr.sort(reverse=True)\n",
    "    for i, elem in enumerate(source_array):\n",
    "        if elem % 2 == 1:\n",
    "            source_array[i] = new_arr.pop()\n",
    "    \n",
    "    return source_array"
   ]
  },
  {
   "cell_type": "code",
   "execution_count": 13,
   "id": "6935c53b",
   "metadata": {},
   "outputs": [
    {
     "data": {
      "text/plain": [
       "[1, 3, 2, 8, 5, 4]"
      ]
     },
     "execution_count": 13,
     "metadata": {},
     "output_type": "execute_result"
    }
   ],
   "source": [
    "sort_array([5, 3, 2, 8, 1, 4])"
   ]
  },
  {
   "cell_type": "markdown",
   "id": "438fd4dc",
   "metadata": {},
   "source": [
    "# 3.Non Repeating Character"
   ]
  },
  {
   "cell_type": "markdown",
   "id": "21994887",
   "metadata": {},
   "source": [
    "    This function takes a string as an input.\n",
    "    It will return the first character the does not repeat in the string.\n",
    "    It is case insensitive"
   ]
  },
  {
   "cell_type": "code",
   "execution_count": 14,
   "id": "bf0bebcb",
   "metadata": {},
   "outputs": [],
   "source": [
    "def first_non_repeating_letter(string):\n",
    "    \"\"\"\n",
    "    This was created for Code Wars:\n",
    "    https://www.codewars.com/kata/52bc74d4ac05d0945d00054e\n",
    "    \n",
    "    This function takes a string as an input.\n",
    "    It will return the first character the does not repeat in the string.\n",
    "    It is case insensitive\n",
    "    \"\"\"    \n",
    "    \n",
    "    #checks for empty string\n",
    "    if string == \"\":\n",
    "        return \"\"\n",
    "    else:\n",
    "        \n",
    "        #creates list which will check if there is a repeated character\n",
    "        list = []\n",
    "        \n",
    "        #iterates through string to count how many times it appears\n",
    "        #keeps track of occurences by adding counts to list\n",
    "        for i in string:\n",
    "            list.append(string.lower().count(i.lower()))\n",
    "            if string.lower().count(i.lower()) > 1:\n",
    "                pass\n",
    "            else:\n",
    "                return i           \n",
    "                #break so only first occurence is taken\n",
    "                break\n",
    "                \n",
    "        #if no character occured only a single time, a blank string will be return\n",
    "        if 1 not in list:\n",
    "            return \"\""
   ]
  },
  {
   "cell_type": "code",
   "execution_count": 17,
   "id": "aabd4474",
   "metadata": {},
   "outputs": [
    {
     "data": {
      "text/plain": [
       "'E'"
      ]
     },
     "execution_count": 17,
     "metadata": {},
     "output_type": "execute_result"
    }
   ],
   "source": [
    "first_non_repeating_letter(\"Ehtisham\")"
   ]
  },
  {
   "cell_type": "code",
   "execution_count": 22,
   "id": "21614c45",
   "metadata": {},
   "outputs": [
    {
     "data": {
      "text/plain": [
       "False"
      ]
     },
     "execution_count": 22,
     "metadata": {},
     "output_type": "execute_result"
    }
   ],
   "source": [
    "isValidWalk(\"n s e w\")"
   ]
  },
  {
   "cell_type": "markdown",
   "id": "53b4a5ae",
   "metadata": {},
   "source": [
    "# 4.Parse Formula"
   ]
  },
  {
   "cell_type": "markdown",
   "id": "5cdbc5e0",
   "metadata": {},
   "source": [
    "For a given chemical formula represented by a string, count the number of atoms of each element contained in the molecule"
   ]
  },
  {
   "cell_type": "code",
   "execution_count": 24,
   "id": "31b05389",
   "metadata": {},
   "outputs": [
    {
     "data": {
      "text/plain": [
       "\"\\nFor example:\\nwater = 'H2O'\\nbreakdown -> H2O1\\nparse_molecule(water)                 # return {H: 2, O: 1}\\nmagnesium_hydroxide = 'Mg(OH)2'\\nbreakdown -> Mg1O2H2\\nparse_molecule(magnesium_hydroxide)   # return {Mg: 1, O: 2, H: 2}\\nvar fremy_salt = 'K4[ON(SO3)2]2'\\nbreakdown -> K4O2N2(SO3)4 -> K4O2N2S4O12\\nparse_molecule(fremySalt)             # return {K: 4, O: 14, N: 2, S: 4}\\n\""
      ]
     },
     "execution_count": 24,
     "metadata": {},
     "output_type": "execute_result"
    }
   ],
   "source": [
    "\"\"\"\n",
    "For example:\n",
    "water = 'H2O'\n",
    "breakdown -> H2O1\n",
    "parse_molecule(water)                 # return {H: 2, O: 1}\n",
    "magnesium_hydroxide = 'Mg(OH)2'\n",
    "breakdown -> Mg1O2H2\n",
    "parse_molecule(magnesium_hydroxide)   # return {Mg: 1, O: 2, H: 2}\n",
    "var fremy_salt = 'K4[ON(SO3)2]2'\n",
    "breakdown -> K4O2N2(SO3)4 -> K4O2N2S4O12\n",
    "parse_molecule(fremySalt)             # return {K: 4, O: 14, N: 2, S: 4}\n",
    "\"\"\"\n"
   ]
  },
  {
   "cell_type": "code",
   "execution_count": 25,
   "id": "f5806ed2",
   "metadata": {},
   "outputs": [
    {
     "name": "stdout",
     "output_type": "stream",
     "text": [
      "['K', '4', '[', 'O', 'N', '(', 'S', 'O', '3', ')', '2', ']', '2']\n",
      "None\n"
     ]
    }
   ],
   "source": [
    "def parse_molecule(formula):\n",
    "\n",
    "    word_stack = []\n",
    "    num_stack = []\n",
    "    formula = list(formula)\n",
    "    brackets = {'}': '{', ']':'[', ')':'('}\n",
    "    brackets1 = {'{': '}', '[':']', '(':')'}\n",
    "\n",
    "    if not formula[-1].isdigit():\n",
    "        formula.append('1')\n",
    "    print(formula)\n",
    "\n",
    "    \n",
    "\n",
    "    # for i in range(len(formula) - 1):\n",
    "\n",
    "    \n",
    "    \n",
    "print(parse_molecule('K4[ON(SO3)2]2'))"
   ]
  },
  {
   "cell_type": "code",
   "execution_count": 27,
   "id": "c0cd2aa8",
   "metadata": {},
   "outputs": [
    {
     "name": "stdout",
     "output_type": "stream",
     "text": [
      "['H', '2', 'O', '1']\n",
      "None\n"
     ]
    }
   ],
   "source": [
    "print(parse_molecule('H2O'))"
   ]
  },
  {
   "cell_type": "code",
   "execution_count": 28,
   "id": "44b53d7f",
   "metadata": {},
   "outputs": [
    {
     "name": "stdout",
     "output_type": "stream",
     "text": [
      "['M', 'g', '(', 'O', 'H', ')', '2']\n",
      "None\n"
     ]
    }
   ],
   "source": [
    "print(parse_molecule('Mg(OH)2'))"
   ]
  },
  {
   "cell_type": "markdown",
   "id": "8f27bf56",
   "metadata": {},
   "source": [
    "# 5.Count Vowels"
   ]
  },
  {
   "cell_type": "markdown",
   "id": "5bf94e58",
   "metadata": {},
   "source": [
    "You get a string and need to return its number of vowels.\n",
    "For this test, we will only consider a, e, i, o and u as vowels."
   ]
  },
  {
   "cell_type": "markdown",
   "id": "1ab510e7",
   "metadata": {},
   "source": [
    "For example:\n",
    "Input: \"Alabama\"\n",
    "Output: 4\n",
    "Input: \"Caserta\"\n",
    "Output: 3"
   ]
  },
  {
   "cell_type": "code",
   "execution_count": 29,
   "id": "99b5710a",
   "metadata": {},
   "outputs": [],
   "source": [
    "def count(input_string):\n",
    "    num_vowels = 0\n",
    "    vowels = ['a', 'e', 'i', 'o', 'u']\n",
    "    for letter in input_string.lower():\n",
    "        if letter in vowels:\n",
    "            num_vowels += 1\n",
    "\n",
    "    return num_vowels"
   ]
  },
  {
   "cell_type": "code",
   "execution_count": 30,
   "id": "5271b502",
   "metadata": {},
   "outputs": [
    {
     "data": {
      "text/plain": [
       "4"
      ]
     },
     "execution_count": 30,
     "metadata": {},
     "output_type": "execute_result"
    }
   ],
   "source": [
    "count(\"Alabama\")"
   ]
  },
  {
   "cell_type": "markdown",
   "id": "c229036d",
   "metadata": {},
   "source": [
    "# 6.Unique usernames"
   ]
  },
  {
   "cell_type": "markdown",
   "id": "947fb99e",
   "metadata": {},
   "source": [
    "You get an list of names and need to return a list of unique usernames.\n",
    "For a duplicate name, add the next integer after the name"
   ]
  },
  {
   "cell_type": "markdown",
   "id": "f187a2b7",
   "metadata": {},
   "source": [
    "For example:<br>\n",
    "Input<br>\n",
    "['Julie', 'Emma', 'Zoe', 'Liam', 'Emma']<br>\n",
    "Output<br>\n",
    "['Julie', 'Emma', 'Zoe', 'Liam', 'Emma1']<br>\n",
    "Input<br>\n",
    "['Julie', 'Zoe', 'Zoe', 'Liam', 'Emma', 'Zoe']<br>\n",
    "Output<br>\n",
    "['Julie', 'Zoe', 'Zoe1', 'Liam', 'Emma', 'Zoe2']"
   ]
  },
  {
   "cell_type": "code",
   "execution_count": 31,
   "id": "ce78278c",
   "metadata": {},
   "outputs": [],
   "source": [
    "def users(names):\n",
    "    usernames = []\n",
    "    for name in names[1:]:\n",
    "        if name not in usernames:\n",
    "            usernames.append(name)\n",
    "        else:\n",
    "            count = sum(name in user for user in usernames)\n",
    "            usernames.append(name + str(count))\n",
    "\n",
    "    return usernames"
   ]
  },
  {
   "cell_type": "code",
   "execution_count": 32,
   "id": "8bd08420",
   "metadata": {},
   "outputs": [
    {
     "data": {
      "text/plain": [
       "['Zoe', 'Zoe1', 'Liam', 'Emma', 'Zoe2']"
      ]
     },
     "execution_count": 32,
     "metadata": {},
     "output_type": "execute_result"
    }
   ],
   "source": [
    "users(['Julie', 'Zoe', 'Zoe', 'Liam', 'Emma', 'Zoe'])"
   ]
  },
  {
   "cell_type": "markdown",
   "id": "cebb759a",
   "metadata": {},
   "source": [
    "# 7.String Manipulation"
   ]
  },
  {
   "cell_type": "markdown",
   "id": "bb634b07",
   "metadata": {},
   "source": [
    "Write a function to change every second word in a sentence to \"Hello\""
   ]
  },
  {
   "cell_type": "markdown",
   "id": "5cc56764",
   "metadata": {},
   "source": [
    "Example \n",
    "sentence = Hey I love going to the park \n",
    "         ==> Hey Hello love Hello to Hello park"
   ]
  },
  {
   "cell_type": "code",
   "execution_count": 34,
   "id": "b49909b8",
   "metadata": {},
   "outputs": [
    {
     "name": "stdout",
     "output_type": "stream",
     "text": [
      "Enter Your Sentence: Hey I love going to the park \n",
      "Hey Hello love Hello to Hello park\n"
     ]
    }
   ],
   "source": [
    "def sentenceReplace(sentence):\n",
    "    #declaring a string to keep all the words after each loop and index as a counter\n",
    "    new_sentence = \"\"\n",
    "    index = 0\n",
    "    #start looping through every word to check which are 'every second word in the sentence'\n",
    "    for word in sentence.split():\n",
    "        if index % 2 == 1:\n",
    "            new_sentence += \" Hello \"\n",
    "        else:\n",
    "            new_sentence += word\n",
    "        index += 1\n",
    "    #remove last space from sentence (as it is \" Hello \" being added each time) and print\n",
    "    sentence = sentence[:-1]\n",
    "    print(new_sentence)\n",
    "\n",
    "#execute the function\n",
    "sentenceReplace(input(\"Enter Your Sentence: \"))"
   ]
  },
  {
   "cell_type": "markdown",
   "id": "328ad202",
   "metadata": {},
   "source": [
    "# 8.String Fill"
   ]
  },
  {
   "cell_type": "markdown",
   "id": "c893d0f6",
   "metadata": {},
   "source": [
    "Write a function that receives string and number,\n",
    "and returns original string if number <= length of string, or\n",
    "string filled with spaces before original string with length = number"
   ]
  },
  {
   "cell_type": "markdown",
   "id": "020c08c1",
   "metadata": {},
   "source": [
    "Example \n",
    "string_fill(\"abc\", 7)\n",
    "    abc\n",
    "string_fill(\"abc\", 2)\n",
    "abc"
   ]
  },
  {
   "cell_type": "code",
   "execution_count": 36,
   "id": "2026679b",
   "metadata": {},
   "outputs": [
    {
     "data": {
      "text/plain": [
       "'    abc'"
      ]
     },
     "execution_count": 36,
     "metadata": {},
     "output_type": "execute_result"
    }
   ],
   "source": [
    "def string_fill(original_str: str, number: int) -> str:\n",
    "    if len(original_str) >= number:\n",
    "        return original_str\n",
    "    else:\n",
    "        count_spaces = number - len(original_str)\n",
    "        return \" \" * count_spaces + original_str\n",
    "\n",
    "\n",
    "#execute the function\n",
    "string_fill(\"abc\", 7)"
   ]
  },
  {
   "cell_type": "markdown",
   "id": "d69b4e9e",
   "metadata": {},
   "source": [
    "# 9.Search Strings in Data "
   ]
  },
  {
   "cell_type": "markdown",
   "id": "8f5cf2b2",
   "metadata": {},
   "source": [
    "asked at Amazon\n",
    "Provided a large string, and an array of strings. return a dictonary with the number of times each string from the array appears in the large string"
   ]
  },
  {
   "cell_type": "code",
   "execution_count": 37,
   "id": "243f2996",
   "metadata": {},
   "outputs": [],
   "source": [
    "\n",
    "# Input: S =>'this is a large string in a file'\n",
    "# Input: A => ['is', 'a']\n",
    "# output => {'is': 2, 'a': 3}\n",
    "# explanation:\n",
    "#   'is' appears in 'this', 'is' == 2\n",
    "#   'a' appears in 'a', 'large', 'a' == 3\n"
   ]
  },
  {
   "cell_type": "code",
   "execution_count": 38,
   "id": "d6f01655",
   "metadata": {},
   "outputs": [
    {
     "name": "stdout",
     "output_type": "stream",
     "text": [
      "{'is': 2, 'a': 3}\n"
     ]
    }
   ],
   "source": [
    "def return_dict(S, A):\n",
    "    \n",
    "   \n",
    "    result = {}\n",
    "    # if inputs => []\n",
    "    if len(A) == 0:\n",
    "        return {}\n",
    "    \n",
    "    for i in range(len(A)):\n",
    "        result[A[i]] = 0\n",
    "\n",
    "        if S.count(A[i]):\n",
    "            result[A[i]] = S.count(A[i])\n",
    "\n",
    "    return result \n",
    "\n",
    "S = 'this is a large string in a file'\n",
    "A = ['is', 'a']\n",
    "result = return_dict(S, A)\n",
    "print(result)"
   ]
  },
  {
   "cell_type": "markdown",
   "id": "3273629f",
   "metadata": {},
   "source": [
    "# 10.Add two arrays"
   ]
  },
  {
   "cell_type": "code",
   "execution_count": 1,
   "id": "b3e2d4be",
   "metadata": {},
   "outputs": [],
   "source": [
    "# function to be tested\n",
    "def array_plus_array(arr1,arr2):\n",
    "    # variable used to add the array membeers\n",
    "    sum = 0\n",
    "\n",
    "    # loop through arr1 and add each item to sum\n",
    "    for item in arr1:\n",
    "        sum += item\n",
    "\n",
    "    # loop through arr2 and add each item to sum\n",
    "    for item in arr2:\n",
    "        sum += item\n",
    "\n",
    "    return sum"
   ]
  },
  {
   "cell_type": "code",
   "execution_count": 12,
   "id": "1904766e",
   "metadata": {},
   "outputs": [],
   "source": [
    "def array_sum(a1, a2):\n",
    "    return sum(a1) + sum(a2)"
   ]
  },
  {
   "cell_type": "code",
   "execution_count": 13,
   "id": "ef93ee38",
   "metadata": {},
   "outputs": [
    {
     "data": {
      "text/plain": [
       "21"
      ]
     },
     "execution_count": 13,
     "metadata": {},
     "output_type": "execute_result"
    }
   ],
   "source": [
    "array_sum([1, 2, 3], [4, 5, 6])"
   ]
  },
  {
   "cell_type": "code",
   "execution_count": 3,
   "id": "5b7bb8b4",
   "metadata": {},
   "outputs": [
    {
     "data": {
      "text/plain": [
       "-21"
      ]
     },
     "execution_count": 3,
     "metadata": {},
     "output_type": "execute_result"
    }
   ],
   "source": [
    "array_plus_array([-1, -2, -3], [-4, -5, -6])"
   ]
  },
  {
   "cell_type": "markdown",
   "id": "9b7b8487",
   "metadata": {},
   "source": [
    "# 11.Find 2 integer Sum"
   ]
  },
  {
   "cell_type": "code",
   "execution_count": 5,
   "id": "29d83db6",
   "metadata": {},
   "outputs": [
    {
     "name": "stdout",
     "output_type": "stream",
     "text": [
      "[(4, 6), (3, 7), (3, 7)]\n"
     ]
    }
   ],
   "source": [
    "# Let A be an array of random integers and a given integer x.\n",
    "# Find all pairs of numbers from the array whose sum is equal to x.\n",
    "\n",
    "# import collections\n",
    "\n",
    "def find2ints(arr, x):\n",
    "\n",
    "    #d = [0] * 10000\n",
    "    d = {x-i : (i*0) for i in arr}\n",
    "\n",
    "    new_l = []\n",
    "    for i in arr:\n",
    "        temp = x - i\n",
    "\n",
    "        if temp >= 0 and d[temp] == 1:\n",
    "            new_l.append((temp,i))\n",
    "\n",
    "        d[i] = 1\n",
    "    return new_l\n",
    "\n",
    "arr = [1,2,3,4,5,6,7,7,10]\n",
    "x = 10\n",
    "\n",
    "print(find2ints(arr, x))"
   ]
  },
  {
   "cell_type": "markdown",
   "id": "2cf7778d",
   "metadata": {},
   "source": [
    "# 12.Fizz-Buzz"
   ]
  },
  {
   "cell_type": "code",
   "execution_count": 6,
   "id": "ea8ec9c7",
   "metadata": {},
   "outputs": [
    {
     "name": "stdout",
     "output_type": "stream",
     "text": [
      "['1', '2', 'Fizz', '4', 'Buzz', 'Fizz', '7', '8', 'Fizz', 'Buzz', '11', 'Fizz', '13', '14', 'FizzBuzz']\n"
     ]
    }
   ],
   "source": [
    "class Solution(object):\n",
    "    def fizzBuzz(self, n):\n",
    "        \"\"\"\n",
    "        :type n: int\n",
    "        :rtype: List[str]\n",
    "        \"\"\"\n",
    "        if n ==0 or n ==1:\n",
    "            return [str(n)]\n",
    "        result = []\n",
    "        for i in range(1, n+1):\n",
    "            if i%3== 0 and i%5==0:\n",
    "                result.append(\"FizzBuzz\")\n",
    "            elif i%3 == 0:\n",
    "                result.append('Fizz')\n",
    "            elif i%5 == 0:\n",
    "                result.append('Buzz')\n",
    "            else:\n",
    "                result.append(str(i))\n",
    "        return result\n",
    "    \n",
    "s = Solution()\n",
    "print(s.fizzBuzz(15))"
   ]
  },
  {
   "cell_type": "markdown",
   "id": "e57e3abb",
   "metadata": {},
   "source": [
    "# 13.Bon-appetite"
   ]
  },
  {
   "cell_type": "markdown",
   "id": "6e5eabee",
   "metadata": {},
   "source": [
    "Anna and Brian are sharing a meal at a restuarant and they agree to split the bill equally.<br> Brian wants to order something that Anna is allergic to though, and they agree that Anna won't pay for that item.<br> Brian gets the check and calculates Anna's portion. You must determine if his calculation is correct.<br>\n",
    "For example, assume the bill has the following prices: bill = [2,4,6] . Anna declines to eat item  k = bill[2] which costs 6 . If Brian calculates the bill correctly, Anna will pay (2+4)/2 = 3  .<br> If he includes the cost of bill[2] , he will calculate (2+4+6)/2 =  6. In the second case,\n",
    " he should refund 3 to Anna."
   ]
  },
  {
   "cell_type": "markdown",
   "id": "30d89316",
   "metadata": {},
   "source": [
    "<b>Function Description</b> <br>\n",
    "Complete the bonAppetit function in the editor below. It should print Bon Appetit if the bill is fairly split. Otherwise, it should print the integer amount of money that Brian owes Anna."
   ]
  },
  {
   "cell_type": "markdown",
   "id": "9b3435fe",
   "metadata": {},
   "source": [
    "bonAppetit has the following parameter(s): <br>\n",
    "bill: an array of integers representing the cost of each item ordered <br>\n",
    "k: an integer representing the zero-based index of the item Anna doesn't eat <br>\n",
    "b: the amount of money that Anna contributed to the bill"
   ]
  },
  {
   "cell_type": "markdown",
   "id": "a45278e0",
   "metadata": {},
   "source": [
    "<b>Input Format</b> <br>\n",
    "The first line contains two space-separated integers  n and k, the number of items ordered and <br>\n",
    "the -based index of the item that Anna did not eat.<br>\n",
    "The second line contains 0 space-separated integers  where .<br>\n",
    "The third line contains an integer, b, the amount of money that Brian charged Anna for her share of the bill."
   ]
  },
  {
   "cell_type": "markdown",
   "id": "5acf03a3",
   "metadata": {},
   "source": [
    "<b>Sample Input</b>  <br>\n",
    "4 1 <br>\n",
    "3 10 2 9<br>\n",
    "12<br>\n",
    "<b>Sample Output </b><br>\n",
    "5<br>\n",
    "Explanation 0<br>\n",
    "Anna didn't eat item bill[1] = 10,<br>\n",
    " but she shared the rest of the items with Brian. <br>\n",
    " The total cost of the shared items is 3+2+9 = 14 and, split in <br>\n",
    " half, the cost per person is b actual = 7. Brian charged her b charged = 12 for her portion of the bill. <br>\n",
    " We print the amount Anna was overcharged,bcharged - bactual = 12 - 7 = 5 , on a new line.<br>"
   ]
  },
  {
   "cell_type": "code",
   "execution_count": 10,
   "id": "a9a48cca",
   "metadata": {},
   "outputs": [
    {
     "name": "stdout",
     "output_type": "stream",
     "text": [
      "4 1\n",
      "3 10 2 9\n",
      "12\n",
      "5\n"
     ]
    }
   ],
   "source": [
    "import math\n",
    "import os\n",
    "import random\n",
    "import re\n",
    "import sys\n",
    "\n",
    "# Complete the bonAppetit function below.\n",
    "def bonAppetit(bill, k, b):\n",
    "\n",
    "    \n",
    "    sum_ = 0\n",
    "    for i in range(len(bill)):\n",
    "        if i!=k:\n",
    "            sum_+=bill[i]\n",
    "            avg = sum_ //2\n",
    "\n",
    "    if (b-avg) != 0:\n",
    "        print((b-avg))\n",
    "    else:\n",
    "        print('Bon Appetit')\n",
    "\n",
    "\n",
    "if __name__ == '__main__':\n",
    "    nk = input().rstrip().split()\n",
    "\n",
    "    n = int(nk[0])\n",
    "\n",
    "    k = int(nk[1])\n",
    "\n",
    "    bill = list(map(int, input().rstrip().split()))\n",
    "\n",
    "    b = int(input().strip())\n",
    "\n",
    "    bonAppetit(bill, k, b)"
   ]
  },
  {
   "cell_type": "markdown",
   "id": "149cc7cc",
   "metadata": {},
   "source": [
    "# 14.Check for URL in a String"
   ]
  },
  {
   "cell_type": "code",
   "execution_count": 18,
   "id": "fca6f7e3",
   "metadata": {},
   "outputs": [
    {
     "name": "stdout",
     "output_type": "stream",
     "text": [
      "Urls:  ['https://auth', 'http://www']\n"
     ]
    }
   ],
   "source": [
    "import re \n",
    "  \n",
    "def Find(string): \n",
    "    # findall() has been used  \n",
    "    # with valid conditions for urls in string \n",
    "    url = re.findall('http[s]?://(?:[a-zA-Z]|[0-9]|[$-_@.&+] |[!*\\(\\), ]|(?:%[0-9a-fA-F][0-9a-fA-F]))+', string) \n",
    "    return url \n",
    "      \n",
    "# Driver Code \n",
    "string = 'My Profile: https://auth.google.com.org / user / Chinmoy % 20Lenka / articles in the portal of http://www.geeksforgeeks.org/' \n",
    "print(\"Urls: \", Find(string)) "
   ]
  },
  {
   "cell_type": "markdown",
   "id": "c61e4dbe",
   "metadata": {},
   "source": [
    "# 15.Auto Complete "
   ]
  },
  {
   "cell_type": "markdown",
   "id": "bce64416",
   "metadata": {},
   "source": [
    "This problem was asked by <b>Twitter.</b> <br>\n",
    "Implement an autocomplete system. That is, given a query string s and a set of all possible query strings, return all strings in the set that have s as a prefix.<br>\n",
    "For example, given the query string de and the set of strings [dog, deer, deal], return [deer, deal].<br>\n",
    "<b>Hint:</b>  Try preprocessing the dictionary into a more efficient data structure to speed up queries."
   ]
  },
  {
   "cell_type": "code",
   "execution_count": 20,
   "id": "969fd774",
   "metadata": {},
   "outputs": [
    {
     "name": "stdout",
     "output_type": "stream",
     "text": [
      "['deer', 'deal']\n"
     ]
    }
   ],
   "source": [
    "def autocomplete_bruteforce(words, s):\n",
    "    result = []\n",
    "    for word in words:\n",
    "        if s in word:\n",
    "            result.append(word)\n",
    "\n",
    "    return result\n",
    "\n",
    "\n",
    "print(autocomplete_bruteforce(['dog','deer','deal'], 'de'))"
   ]
  },
  {
   "cell_type": "code",
   "execution_count": 2,
   "id": "9bb0bfdc",
   "metadata": {},
   "outputs": [
    {
     "data": {
      "text/plain": [
       "['deal', 'deer']"
      ]
     },
     "execution_count": 2,
     "metadata": {},
     "output_type": "execute_result"
    }
   ],
   "source": [
    "def auto_complete(a, s):\n",
    "    a.sort()\n",
    "    temp = []\n",
    "    for word in a:\n",
    "        if list(word)[:len(s)] == list(s):\n",
    "            temp.append(word)\n",
    "    return temp\n",
    "auto_complete(['dog','deer','deal'], 'de')"
   ]
  },
  {
   "cell_type": "markdown",
   "id": "d400c365",
   "metadata": {},
   "source": [
    "# 16.Brute Force"
   ]
  },
  {
   "cell_type": "markdown",
   "id": "8916c693",
   "metadata": {},
   "source": [
    "This problem was asked by <b>Uber.</b><br>\n",
    "Given an array of integers, return a new array such that each element at index i of the new array is the product of all the numbers in the original array except the one at i.<br>\n",
    "For example, if our input was [1, 2, 3, 4, 5], the expected output would be [120, 60, 40, 30, 24]. If our input was [3, 2, 1], the expected output would be [2, 3, 6]."
   ]
  },
  {
   "cell_type": "code",
   "execution_count": 22,
   "id": "99fe6c5f",
   "metadata": {},
   "outputs": [
    {
     "name": "stdout",
     "output_type": "stream",
     "text": [
      "[3.0, 2.0, 6.0]\n"
     ]
    }
   ],
   "source": [
    "import functools\n",
    "def brute_force(arr):\n",
    "    new = []\n",
    "    # t = 1\n",
    "    # for i in arr:\n",
    "    #     t *= i\n",
    "    t = functools.reduce((lambda x,y: x*y), arr)\n",
    "    \n",
    "    for i in arr:\n",
    "        if i == 0:\n",
    "            return [0]*len(arr)\n",
    "        new.append(t/i)\n",
    "    \n",
    "    return new\n",
    "\n",
    "    \n",
    "print(brute_force([2,3,1]))"
   ]
  },
  {
   "cell_type": "code",
   "execution_count": 3,
   "id": "94cd21ac",
   "metadata": {},
   "outputs": [
    {
     "name": "stdout",
     "output_type": "stream",
     "text": [
      "[3, 2, 6]\n"
     ]
    }
   ],
   "source": [
    "def brute_force(a):\n",
    "    out = []\n",
    "    for i in a:\n",
    "        temp = 1\n",
    "        for j in a:\n",
    "            temp *= j\n",
    "        out.append(temp // i)\n",
    "    return out\n",
    "print(brute_force([2,3,1]))"
   ]
  },
  {
   "cell_type": "markdown",
   "id": "79643388",
   "metadata": {},
   "source": [
    "# 17.Strings Encoding"
   ]
  },
  {
   "cell_type": "markdown",
   "id": "8717e066",
   "metadata": {},
   "source": [
    "This problem was asked by <b>Amazon.</b><br>\n",
    "Run-length encoding is a fast and simple method of encoding strings. <br>\n",
    "The basic idea is to represent repeated successive characters as a single count and character. <br>\n",
    "For example, the string <b>\"AAAABBBCCDAA\"</b> would be encoded as <b>\"4A3B2C1D2A\"</b>.<br>\n",
    "Implement run-length encoding and decoding.<br> You can assume the string to be encoded have no digits and consists solely of alphabetic characters. <br>\n",
    "You can assume the string to be decoded is valid."
   ]
  },
  {
   "cell_type": "code",
   "execution_count": 23,
   "id": "1d33035d",
   "metadata": {},
   "outputs": [
    {
     "name": "stdout",
     "output_type": "stream",
     "text": [
      "4A3B2C1D2A\n"
     ]
    }
   ],
   "source": [
    "def encoding(s):\n",
    "\n",
    "    prev = s[0]\n",
    "    count = 1\n",
    "    result = ''\n",
    "\n",
    "    for char in s[1:]:\n",
    "        if char == prev:\n",
    "            count += 1\n",
    "            continue\n",
    "        \n",
    "        result += str(count) + prev\n",
    "        prev = char\n",
    "        count = 1\n",
    "\n",
    "    return result + str(count) + prev\n",
    "\n",
    "\n",
    "print(encoding('AAAABBBCCDAA'))"
   ]
  },
  {
   "cell_type": "markdown",
   "id": "0d39b365",
   "metadata": {},
   "source": [
    "# 18.Vowel Consonant Detection"
   ]
  },
  {
   "cell_type": "code",
   "execution_count": 1,
   "id": "9aa5d695",
   "metadata": {},
   "outputs": [
    {
     "name": "stdout",
     "output_type": "stream",
     "text": [
      "Please insert a string : ehtisham\n",
      "\n",
      "Vowel Count : {'e': 1, 'i': 1, 'a': 1}\n",
      "Consonant Count : {'h': 2, 't': 1, 's': 1, 'm': 1}\n"
     ]
    }
   ],
   "source": [
    "string = input(\"Please insert a string : \").lower()\n",
    "\n",
    "vowel_counts = {}\n",
    "consonant_counts = {}\n",
    "\n",
    "# Define vowels and consonants\n",
    "vowels = ['a', 'e', 'i', 'o', 'u']\n",
    "consonants = ['b', 'c', 'd', 'f', 'g', 'h', 'j', 'k', 'l', 'm', 'n', 'p', 'q', 'r', 's', 't', 'v', 'w', 'y', 'z']\n",
    "\n",
    "for word in string:\n",
    "    if word in vowels:\n",
    "        count = string.count(word)\n",
    "        vowel_counts[word] = count\n",
    "    elif word in consonants:\n",
    "        count = string.count(word)\n",
    "        consonant_counts[word] = count\n",
    "\n",
    "print(f'\\nVowel Count : {vowel_counts}')\n",
    "print(f'Consonant Count : {consonant_counts}')"
   ]
  },
  {
   "cell_type": "code",
   "execution_count": 7,
   "id": "a0282b53",
   "metadata": {},
   "outputs": [
    {
     "name": "stdout",
     "output_type": "stream",
     "text": [
      "Give me everybody's names, separated by a comma. shan,ali,affan,sarim,ahmed\n",
      "shan,ali,affan,sarim,ahmed is going to pay bill.\n"
     ]
    }
   ],
   "source": [
    "import random\n",
    "# Split string method\n",
    "names_string = input(\"Give me everybody's names, separated by a comma. \")\n",
    "names = names_string.split(\", \")\n",
    "# Don't change the code above \n",
    "\n",
    "# Write your code below this line \n",
    "\n",
    "name_length = len(names)\n",
    "random_name = random.randint(0, name_length - 1)\n",
    "person_who_will_pay = names[random_name]\n",
    "print(person_who_will_pay + \" is going to pay bill.\")"
   ]
  },
  {
   "cell_type": "markdown",
   "id": "c6033a8c",
   "metadata": {},
   "source": [
    "# 19.Check Anagram Strings"
   ]
  },
  {
   "cell_type": "code",
   "execution_count": 4,
   "id": "5c8b1913",
   "metadata": {},
   "outputs": [
    {
     "name": "stdout",
     "output_type": "stream",
     "text": [
      "Please Enter the first stringearth\n",
      "Please enter the second stringheart\n",
      "Both Strings are anagram\n"
     ]
    }
   ],
   "source": [
    "s1 = input(\"Please Enter the first string\")\n",
    "s2 = input(\"Please enter the second string\")\n",
    "\n",
    "\n",
    "s1 = sorted(s1)\n",
    "s2 = sorted(s2)\n",
    "\n",
    "if s1 == s2:\n",
    "    print(\"Both Strings are anagram\")\n",
    "else:\n",
    "    print(\"Strings are not anagram\")"
   ]
  },
  {
   "cell_type": "code",
   "execution_count": 5,
   "id": "f56de9f2",
   "metadata": {},
   "outputs": [
    {
     "name": "stdout",
     "output_type": "stream",
     "text": [
      "Enter 1st word :dad\n",
      "Enter 2nd word :add\n",
      "The given strings are anagrams.\n"
     ]
    }
   ],
   "source": [
    "from collections import Counter\n",
    "\n",
    "\n",
    "def check(s1, s2):\n",
    "\n",
    "    # implementing counter function\n",
    "    if Counter(s1) == Counter(s2):\n",
    "        print(\"The given strings are anagrams.\")\n",
    "    else:\n",
    "        print(\"The given strings are not anagrams.\")\n",
    "\n",
    "\n",
    "s1 = input(\"Enter 1st word :\")\n",
    "s2 = input(\"Enter 2nd word :\")\n",
    "check(s1, s2)"
   ]
  },
  {
   "cell_type": "markdown",
   "id": "09d4de08",
   "metadata": {},
   "source": [
    "# 20.Check Number is Armstrong or Not "
   ]
  },
  {
   "cell_type": "code",
   "execution_count": 6,
   "id": "9a299fc9",
   "metadata": {},
   "outputs": [],
   "source": [
    "from IPython.display import Image"
   ]
  },
  {
   "cell_type": "code",
   "execution_count": 7,
   "id": "a3492adc",
   "metadata": {},
   "outputs": [
    {
     "data": {
      "image/png": "[encoded data removed]",
      "text/plain": [
       "<IPython.core.display.Image object>"
      ]
     },
     "execution_count": 7,
     "metadata": {},
     "output_type": "execute_result"
    }
   ],
   "source": [
    "Image('armstrong.png')"
   ]
  },
  {
   "cell_type": "code",
   "execution_count": 11,
   "id": "9c0a523c",
   "metadata": {},
   "outputs": [
    {
     "name": "stdout",
     "output_type": "stream",
     "text": [
      "Enter a number: 471\n",
      "471 is not an Armstrong number\n"
     ]
    }
   ],
   "source": [
    "num = int(input(\"Enter a number: \"))\n",
    "\n",
    "# initialize sum\n",
    "sum = 0\n",
    "\n",
    "# find the sum of the cube of each digit\n",
    "temp = num\n",
    "while temp > 0:\n",
    "   digit = temp % 10  # to calculate the last digit using modulus operator\n",
    "   sum += digit ** 3\n",
    "   temp //= 10\n",
    "\n",
    "# display the result\n",
    "if num == sum:\n",
    "   print(num,\"is an Armstrong number\")\n",
    "else:\n",
    "   print(num,\"is not an Armstrong number\")"
   ]
  },
  {
   "cell_type": "code",
   "execution_count": 4,
   "id": "c663c282",
   "metadata": {},
   "outputs": [
    {
     "data": {
      "text/plain": [
       "True"
      ]
     },
     "execution_count": 4,
     "metadata": {},
     "output_type": "execute_result"
    }
   ],
   "source": [
    "def is_armstrong(n):\n",
    "    s = 0\n",
    "    for digit in str(n):\n",
    "        s += int(digit) ** len(str(n))\n",
    "    return s == n\n",
    "is_armstrong(1634)"
   ]
  },
  {
   "cell_type": "markdown",
   "id": "face659c",
   "metadata": {},
   "source": [
    "# 21.Number Decorator"
   ]
  },
  {
   "cell_type": "code",
   "execution_count": 14,
   "id": "ced170ff",
   "metadata": {},
   "outputs": [
    {
     "name": "stdout",
     "output_type": "stream",
     "text": [
      "+977-9844718578\n"
     ]
    }
   ],
   "source": [
    "# to decorate country code according to user defined countrycode\n",
    "# the best practical way to learn python decorator\n",
    "country_code = {\"nepal\": 977, \"india\": 91, \"us\": 1}\n",
    "\n",
    "\n",
    "def formatted_mob(original_func):\n",
    "    def wrapper(country, num):\n",
    "        country = country.lower()\n",
    "        if country in country_code:\n",
    "            return f\"+{country_code[country]}-{original_func(country,num)}\"\n",
    "        else:\n",
    "            return num\n",
    "\n",
    "    return wrapper\n",
    "\n",
    "\n",
    "@formatted_mob\n",
    "def num(country, num):\n",
    "    return num\n",
    "\n",
    "\n",
    "number = num(\"nepal\", 9844718578)\n",
    "print(number)\n"
   ]
  },
  {
   "cell_type": "markdown",
   "id": "d90b1df3",
   "metadata": {},
   "source": [
    "# 22.Find the Maximum of person"
   ]
  },
  {
   "cell_type": "code",
   "execution_count": 1,
   "id": "c462d8cd",
   "metadata": {},
   "outputs": [
    {
     "name": "stdout",
     "output_type": "stream",
     "text": [
      "\n",
      "                         ___________\n",
      "                         \\         /\n",
      "                          )_______(\n",
      "                          |\"\"\"\"\"\"\"|_.-._,.---------.,_.-._\n",
      "                          |       | | |               | | ''-.\n",
      "                          |       |_| |_             _| |_..-'\n",
      "                          |_______| '-' `'---------'` '-'\n",
      "                          )\"\"\"\"\"\"\"(\n",
      "                         /_________\\\n",
      "                       .-------------.\n",
      "                      /_______________\\\n",
      "\n",
      "Welcome to the secret auction program.\n",
      "What is your name?: shan\n",
      "What's your bid?: $12\n",
      "Are there any other bidders? Type 'yes' or 'no'.\n",
      "no\n",
      "Hence, the highest bid is $12.0 made by shan.\n"
     ]
    }
   ],
   "source": [
    "import os\n",
    "\n",
    "logo = '''\n",
    "                         ___________\n",
    "                         \\         /\n",
    "                          )_______(\n",
    "                          |\"\"\"\"\"\"\"|_.-._,.---------.,_.-._\n",
    "                          |       | | |               | | ''-.\n",
    "                          |       |_| |_             _| |_..-'\n",
    "                          |_______| '-' `'---------'` '-'\n",
    "                          )\"\"\"\"\"\"\"(\n",
    "                         /_________\\\\\n",
    "                       .-------------.\n",
    "                      /_______________\\\\\n",
    "'''\n",
    "\n",
    "bid_details = {}\n",
    "bid_continue = True\n",
    "max_bid = 0\n",
    "winner = \"\"\n",
    "\n",
    "print(logo)\n",
    "print(\"Welcome to the secret auction program.\")\n",
    "\n",
    "while bid_continue:\n",
    "    name = input(\"What is your name?: \")\n",
    "    bid_price = float(input(\"What's your bid?: $\"))\n",
    "    bid_details[name] = bid_price\n",
    "    if bid_price > max_bid:\n",
    "        max_bid = bid_price\n",
    "        winner = name\n",
    "    continue_bid = input(\"Are there any other bidders? Type 'yes' or 'no'.\\n\").lower()\n",
    "    if continue_bid == 'yes':\n",
    "        os.system('clear')\n",
    "    else:\n",
    "        bid_continue = False\n",
    "        print(f\"Hence, the highest bid is ${max_bid} made by {winner}.\")"
   ]
  },
  {
   "cell_type": "markdown",
   "id": "37e580b2",
   "metadata": {},
   "source": [
    "# 23.GO and Stay"
   ]
  },
  {
   "cell_type": "code",
   "execution_count": 4,
   "id": "316a1f7d",
   "metadata": {},
   "outputs": [
    {
     "name": "stdout",
     "output_type": "stream",
     "text": [
      "1\n",
      "2\n",
      "GO\n"
     ]
    }
   ],
   "source": [
    "word1 = list(input())\n",
    "word2 = list(input())\n",
    "totalWord1 = 1\n",
    "totalWord2 = 1\n",
    "for i in range (len(word1)):\n",
    "    totalWord1 = totalWord1 * ord(word1[i])\n",
    "for i in range (len(word2)):\n",
    "    totalWord2 = totalWord2 * ord(word1[i])\n",
    "if totalWord1 % 47 == totalWord2 % 47:\n",
    "    print(\"GO\")\n",
    "else:\n",
    "    print(\"STAY\")"
   ]
  },
  {
   "cell_type": "markdown",
   "id": "ffacdfe9",
   "metadata": {},
   "source": [
    "# 24. Build Tower"
   ]
  },
  {
   "cell_type": "markdown",
   "id": "5512df3c",
   "metadata": {},
   "source": [
    "Build Tower\n",
    "Build Tower by the following given argument:\n",
    "number of floors (integer and always greater than 0)."
   ]
  },
  {
   "cell_type": "code",
   "execution_count": 22,
   "id": "5499bb2a",
   "metadata": {},
   "outputs": [],
   "source": [
    "def tower_builder(n):\n",
    "    for i in range(1,n+1):\n",
    "        print((\"*\"*(i*2-1)).center(n*2-1))"
   ]
  },
  {
   "cell_type": "code",
   "execution_count": 23,
   "id": "37d3960c",
   "metadata": {},
   "outputs": [
    {
     "name": "stdout",
     "output_type": "stream",
     "text": [
      "    *    \n",
      "   ***   \n",
      "  *****  \n",
      " ******* \n",
      "*********\n"
     ]
    }
   ],
   "source": [
    "tower_builder(5)"
   ]
  },
  {
   "cell_type": "markdown",
   "id": "009534bd",
   "metadata": {},
   "source": [
    "# 25. Categorize New Member"
   ]
  },
  {
   "cell_type": "markdown",
   "id": "000b317d",
   "metadata": {},
   "source": [
    "The Western Suburbs Croquet Club has two categories of membership, Senior and Open. They would like your help with an application form that will tell prospective members which category they will be placed.\n",
    "To be a senior, a member must be at least 55 years old and have a handicap greater than 7. In this croquet club, handicaps range from -2 to +26; the better the player the lower the handicap.\n",
    "Input\n",
    "Input will consist of a list of lists containing two items each. Each list contains information for a single potential member. Information consists of an integer for the person's age and an integer for the person's handicap."
   ]
  },
  {
   "cell_type": "markdown",
   "id": "4529277f",
   "metadata": {},
   "source": [
    "Output<br>\n",
    "Output will consist of a list of string values (in Haskell: Open or Senior) stating whether the respective member is to be placed in the senior or open category."
   ]
  },
  {
   "cell_type": "code",
   "execution_count": 24,
   "id": "7c9668f4",
   "metadata": {},
   "outputs": [],
   "source": [
    "def openOrSenior(data):\n",
    "\treturn ['Senior' if age>=55 and handicap>7 else 'Open' for (age, handicap) in data]"
   ]
  },
  {
   "cell_type": "code",
   "execution_count": 25,
   "id": "5eb8c3bf",
   "metadata": {},
   "outputs": [
    {
     "data": {
      "text/plain": [
       "['Open', 'Open', 'Senior', 'Open', 'Open', 'Senior']"
      ]
     },
     "execution_count": 25,
     "metadata": {},
     "output_type": "execute_result"
    }
   ],
   "source": [
    "data = [[18, 20],[45, 2],[61, 12],[37, 6],[21, 21],[78, 9]]\n",
    "openOrSenior(data)"
   ]
  },
  {
   "cell_type": "markdown",
   "id": "df632bb8",
   "metadata": {},
   "source": [
    "# 26. Growth of a Population"
   ]
  },
  {
   "cell_type": "markdown",
   "id": "116dc37d",
   "metadata": {},
   "source": [
    "In a small town the population is p0 = 1000 at the beginning of a year. The population regularly increases by 2 percent per year and moreover 50 new inhabitants per year come to live in the town. How many years does the town need to see its population greater or equal to p = 1200 inhabitants?"
   ]
  },
  {
   "cell_type": "markdown",
   "id": "a8afbf7d",
   "metadata": {},
   "source": [
    "At the end of the first year there will be: <br>\n",
    "1000 + 1000 * 0.02 + 50 => 1070 inhabitants"
   ]
  },
  {
   "cell_type": "markdown",
   "id": "62cbacc0",
   "metadata": {},
   "source": [
    "At the end of the 2nd year there will be: <br>\n",
    "1070 + 1070 * 0.02 + 50 => 1141 inhabitants (number of inhabitants is an integer)"
   ]
  },
  {
   "cell_type": "markdown",
   "id": "dc975fb0",
   "metadata": {},
   "source": [
    "At the end of the 3rd year there will be: <br>\n",
    "1141 + 1141 * 0.02 + 50 => 1213"
   ]
  },
  {
   "cell_type": "markdown",
   "id": "5723faca",
   "metadata": {},
   "source": [
    "It will need 3 entire years.<br>\n",
    "More generally given parameters:<br>\n",
    "p0, percent, aug (inhabitants coming or leaving each year), p (population to surpass)<br>\n",
    "the function nb_year should return n number of entire years needed to get a population greater or equal to p.<br>\n",
    "aug is an integer, percent a positive or null number, p0 and p are positive integers (> 0)<br>\n",
    "Examples:<br>\n",
    "<b>nb_year(1500, 5, 100, 5000) -> 15<br>\n",
    "<b>nb_year(1500000, 2.5, 10000, 2000000) -> 10<br>"
   ]
  },
  {
   "cell_type": "code",
   "execution_count": null,
   "id": "fbcb9993",
   "metadata": {},
   "outputs": [],
   "source": [
    "def pop_count(p,percent,absv,tgt):\n",
    "    years = 0\n",
    "    percent = 1 + percent/100\n",
    "    while True:\n",
    "        years += 1\n",
    "        p = p * percent + absv\n",
    "        if p >= tgt:\n",
    "            return years\n",
    "pop_count(1500000,2.5,10000,2000000)\n"
   ]
  },
  {
   "cell_type": "code",
   "execution_count": 26,
   "id": "f53e12b3",
   "metadata": {},
   "outputs": [],
   "source": [
    "def nb_year(p0, percent, aug, p, years = 0):\n",
    "\tif p0 < p:\n",
    "\t\treturn nb_year(p0 + int(p0 * percent / 100) + aug, percent, aug, p, years + 1)\n",
    "\treturn years"
   ]
  },
  {
   "cell_type": "code",
   "execution_count": 27,
   "id": "b563aa51",
   "metadata": {},
   "outputs": [
    {
     "data": {
      "text/plain": [
       "16"
      ]
     },
     "execution_count": 27,
     "metadata": {},
     "output_type": "execute_result"
    }
   ],
   "source": [
    "nb_year(1000,4,100,4000)"
   ]
  },
  {
   "cell_type": "markdown",
   "id": "01b2b444",
   "metadata": {},
   "source": [
    "# 27. Climb Stairs "
   ]
  },
  {
   "cell_type": "markdown",
   "id": "fbdf0293",
   "metadata": {},
   "source": [
    "A fox needs to climb n number of steps. It can jump up 1 step, 2 steps, or 3 steps at a time. How many possible ways are there to get to the top of n steps?"
   ]
  },
  {
   "cell_type": "code",
   "execution_count": 37,
   "id": "d0f2445e",
   "metadata": {},
   "outputs": [],
   "source": [
    "def climb_stairs(n):\n",
    "    \"\"\" A fox needs to climb n number of steps. It can jump up 1 step, 2 steps, or 3 steps at a time. How many possible ways are there to get to the top of n steps? \"\"\"\n",
    "\n",
    "    if n == 0 or n == 1:\n",
    "        return 1\n",
    "\n",
    "    if n == 2:\n",
    "        return 2\n",
    "\n",
    "    return climb_stairs(n-1) + climb_stairs(n-2) + climb_stairs(n-3)\n"
   ]
  },
  {
   "cell_type": "code",
   "execution_count": 41,
   "id": "d0da28c3",
   "metadata": {},
   "outputs": [
    {
     "data": {
      "text/plain": [
       "13"
      ]
     },
     "execution_count": 41,
     "metadata": {},
     "output_type": "execute_result"
    }
   ],
   "source": [
    "climb_stairs(5)"
   ]
  },
  {
   "cell_type": "markdown",
   "id": "cec297d8",
   "metadata": {},
   "source": [
    "# 28. Door Mat \n",
    "Mr. Vincent works in a door mat manufacturing company. One day, he designed a new door mat with the following specifications:<br>\n",
    "\n",
    "Mat size must be X. ( is an odd natural number, and  is  times .)<br>\n",
    "The design should have 'WELCOME' written in the center.<br>\n",
    "The design pattern should only use |, . and - characters.<br>\n",
    "<b>Input Format</b><br>\n",
    "\n",
    "A single line containing the space separated values of  and ."
   ]
  },
  {
   "cell_type": "markdown",
   "id": "0fbd9e9d",
   "metadata": {},
   "source": [
    " -----------.|.------------<br>\n",
    " ---------.|..|..|.---------<br>\n",
    " ------.|..|..|..|..|.------<br>\n",
    " ---.|..|..|..|..|..|..|.---<br>\n",
    " ----------WELCOME----------<br>\n",
    " ---.|..|..|..|..|..|..|.---<br>\n",
    " ------.|..|..|..|..|.------<br>\n",
    " ---------.|..|..|.---------<br>\n",
    " ------------.|.------------<br>"
   ]
  },
  {
   "cell_type": "code",
   "execution_count": 4,
   "id": "dcd00c4c",
   "metadata": {},
   "outputs": [
    {
     "name": "stdout",
     "output_type": "stream",
     "text": [
      "Rows?\n",
      "9\n",
      "------------.|.------------\n",
      "---------.|..|..|.---------\n",
      "------.|..|..|..|..|.------\n",
      "---.|..|..|..|..|..|..|.---\n",
      "----------WELCOME----------\n",
      "---.|..|..|..|..|..|..|.---\n",
      "------.|..|..|..|..|.------\n",
      "---------.|..|..|.---------\n",
      "------------.|.------------\n"
     ]
    }
   ],
   "source": [
    "rows = int(input(\"Rows?\\n\"))\n",
    "characters = int(rows * 3)\n",
    "def doormat_design(pattern=1):\n",
    "    global characters\n",
    "    if characters == pattern * 3:\n",
    "        if int((characters-7)/2) == (characters-7)/2:\n",
    "            print(\"-\"*int((characters-7)/2)+\"WELCOME\"+\"-\"*int((characters-7)/2))\n",
    "            return None\n",
    "        else:\n",
    "            print(\"-\"*int((characters-7)/2+1)+\"WELCOME\"+\"-\"*int((characters-7)/2+1))\n",
    "            return None\n",
    "    if int((characters-pattern*3)/2) == (characters-pattern*3)/2:\n",
    "        print(\"-\"*int(((characters-pattern*3)/2))+\".|.\"*pattern+\"-\"*int(((characters-pattern*3)/2)))\n",
    "        doormat_design(pattern+2)\n",
    "        print(\"-\"*int(((characters-pattern*3)/2))+\".|.\"*pattern+\"-\"*int(((characters-pattern*3)/2)))\n",
    "    else:\n",
    "        print(\"-\"*int(((characters-pattern*3)/2)+1)+\".|.\"*pattern+\"-\"*int(((characters-pattern*3)/2)+1))\n",
    "        doormat_design(pattern+2)\n",
    "        print(\"-\"*int(((characters-pattern*3)/2)+1)+\".|.\"*pattern+\"-\"*int(((characters-pattern*3)/2)+1))\n",
    "doormat_design()\n"
   ]
  },
  {
   "cell_type": "code",
   "execution_count": 14,
   "id": "f943bab8",
   "metadata": {},
   "outputs": [
    {
     "name": "stdout",
     "output_type": "stream",
     "text": [
      "Enter the No of rows you need in your Mat: \n",
      "9\n",
      "------------.|.------------\n",
      "---------.|..|..|.---------\n",
      "------.|..|..|..|..|.------\n",
      "---.|..|..|..|..|..|..|.---\n",
      "----------WELCOME----------\n",
      "---.|..|..|..|..|..|..|.---\n",
      "------.|..|..|..|..|.------\n",
      "---------.|..|..|.---------\n",
      "------------.|.------------\n"
     ]
    }
   ],
   "source": [
    "\n",
    "N = int(input(\"Enter the No of rows you need in your Mat: \\n\").strip()) # More than 6 lines of code will result in 0 score. Blank lines are not counted.\n",
    "\n",
    "\n",
    "#no of coulmns calculated using N\n",
    "M = N*3\n",
    "for i in range(1,N,2): \n",
    "    print(\"{:-^{fill}}\".format(\".|.\" * i, fill=M))\n",
    "print(\"{:-^{fill}}\".format(\"WELCOME\", fill=M))\n",
    "for i in range(N-2,-1,-2): \n",
    "    print(\"{:-^{fill}}\".format(\".|.\"*i, fill=M))"
   ]
  },
  {
   "cell_type": "markdown",
   "id": "60cafddb",
   "metadata": {},
   "source": [
    "# 29. Cash Registor"
   ]
  },
  {
   "cell_type": "markdown",
   "id": "e1cfd75c",
   "metadata": {},
   "source": [
    "Write a program:<br>\n",
    "\n",
    "Programming Challenge Description:<br>\n",
    "The goal of this challenge is to design a cash register program.<br>\n",
    "You will be given two decimal numbers. The first is the purchase price (PP) of the item.<br>\n",
    "The second is the cash (CH) given by the customer.<br>\n",
    "Your register currently has the following bills/coins within it:<br>\n",
    "'PENNY': .01,<br>\n",
    "'NICKEL': .05,<br>\n",
    "'DIME': .10,<br>\n",
    "'QUARTER': .25,<br>\n",
    "'HALF DOLLAR': .50,<br>\n",
    "'ONE': 1.00,<br>\n",
    "'TWO': 2.00,<br>\n",
    "'FIVE': 5.00,<br>\n",
    "'TEN': 10.00,<br>\n",
    "'TWENTY': 20.00,<br>\n",
    "'FIFTY': 50.00,<br>\n",
    "'ONE HUNDRED': 100.00<br>\n",
    "\n",
    "The aim of the program is to calculate the change that has to be returned to the customer.<br>\n",
    "<br>\n",
    "Input:\n",
    "Your program should read lines of text from standard input.<br>\n",
    "Each line contains two numbers which are separated by a semicolon.<br>\n",
    "The first is the Purchase price (PP) and the second is the cash(CH) given by the customer.<br><br>\n",
    "\n",
    "<b>Output:</b><br><br>\n",
    "For each line of input print a single line to standard output which is the change to be returned to the customer.<br>\n",
    "In case the CH < PP, print out ERROR. If CH == PP, print out ZERO.<br>\n",
    "For all other cases print the amount that needs to be returned, in terms of the currency values provided.<br>\n",
    "The output should be alphabetically sorted.<br>"
   ]
  },
  {
   "cell_type": "code",
   "execution_count": 2,
   "id": "76dc1ef8",
   "metadata": {},
   "outputs": [],
   "source": [
    "import sys\n",
    "\n",
    "\n",
    "def solution(actual_price, given_price):\n",
    "    if given_price < actual_price:\n",
    "        print(\"ERROR\")\n",
    "        return\n",
    "    elif given_price == actual_price:\n",
    "        print(\"ZERO\")\n",
    "        return\n",
    "    else:\n",
    "        price_to_return = given_price - actual_price\n",
    "        results = set([])\n",
    "\n",
    "        for value in values:\n",
    "            while price_to_return >= value:\n",
    "                results.add(value)\n",
    "                price_to_return = price_to_return - value\n",
    "\n",
    "        results = list(results)\n",
    "        results = [name2value[result] for result in results]\n",
    "\n",
    "        results = sorted(results)\n",
    "        print(\",\".join(results))\n",
    "        return\n",
    "\n",
    "\n",
    "name2value = {.01: 'PENNY', .05: 'NICKEL', .10: 'DIME', .25: 'QUARTER', .50: 'HALF DOLLAR', 1.00: 'ONE', 2.00: 'TWO',\n",
    "              5.00: 'FIVE', 10.00: 'TEN', 20.00: 'TWENTY', 50.00: 'FIFTY'}\n",
    "\n",
    "values = [100, 50, 20, 10, 5, 2, 1, 0.50, 0.25, 0.10, 0.05, 0.01]\n",
    "\n",
    "for line in sys.stdin:\n",
    "    purchase_price, cash = line.split(\";\")\n",
    "    purchase_price, cash = float(purchase_price), float(cash)\n",
    "    solution(purchase_price, cash)"
   ]
  },
  {
   "cell_type": "code",
   "execution_count": 4,
   "id": "426c11d7",
   "metadata": {},
   "outputs": [
    {
     "name": "stdout",
     "output_type": "stream",
     "text": [
      "QUARTER\n"
     ]
    }
   ],
   "source": [
    "solution(15.75,16.00)"
   ]
  },
  {
   "cell_type": "code",
   "execution_count": null,
   "id": "309da12a",
   "metadata": {},
   "outputs": [],
   "source": []
  },
  {
   "cell_type": "markdown",
   "id": "5c0a2819",
   "metadata": {},
   "source": [
    "# 30. Replacement"
   ]
  },
  {
   "cell_type": "markdown",
   "id": "90b3e983",
   "metadata": {},
   "source": [
    "You will need to do a limited version of character replacement.\n",
    "Specifically, you need to find these characters in an input string:\n",
    " - \"<\"      <br>\n",
    " - \">\"     <br>\n",
    " - \"&\"     <br>\n",
    " <br>"
   ]
  },
  {
   "cell_type": "code",
   "execution_count": 4,
   "id": "abcb56b2",
   "metadata": {},
   "outputs": [],
   "source": [
    "def replaceCharacters(original):\n",
    "    mapping = {\"<\": \"&lt;\", \">\": \"&gt;\", \"&\": \"&amp;\"}\n",
    "    results = \"\"\n",
    "    for i in range(len(original)):\n",
    "        if original[i] in mapping:\n",
    "            results += mapping[original[i]]\n",
    "        else:\n",
    "            results += original[i]\n",
    "    return results"
   ]
  },
  {
   "cell_type": "code",
   "execution_count": 5,
   "id": "30928163",
   "metadata": {},
   "outputs": [
    {
     "data": {
      "text/plain": [
       "'hello&lt;'"
      ]
     },
     "execution_count": 5,
     "metadata": {},
     "output_type": "execute_result"
    }
   ],
   "source": [
    "replaceCharacters(\"hello<\")"
   ]
  },
  {
   "cell_type": "code",
   "execution_count": 4,
   "id": "e3aceebd",
   "metadata": {},
   "outputs": [
    {
     "name": "stdout",
     "output_type": "stream",
     "text": [
      "String?\n",
      "HELLO NICE TO MEET YOU \n",
      "Target character?\n",
      "T\n",
      "Number of appearance?\n",
      "2\n",
      "18\n"
     ]
    }
   ],
   "source": [
    "string = list(input(\"String?\\n\"))\n",
    "target = input(\"Target character?\\n\")\n",
    "indexn = int(input(\"Number of appearance?\\n\"))\n",
    "indexi = 1\n",
    "flag = False\n",
    "for i in range(len(string)):\n",
    "    if string[i] == target and indexi == indexn:\n",
    "        print(i+1)\n",
    "        flag = True\n",
    "        break\n",
    "    if string[i] == target:\n",
    "        indexi += 1\n",
    "if not flag:\n",
    "    print(\"Character\",target,'did not appear in the string',str(indexn),'time(s)')\n"
   ]
  },
  {
   "cell_type": "markdown",
   "id": "e81ecedc",
   "metadata": {},
   "source": [
    "# 31. FirstIndex of Character"
   ]
  },
  {
   "cell_type": "markdown",
   "id": "0695f809",
   "metadata": {},
   "source": [
    "Given a string and a character. Find the first index of the character in the string\n",
    "\n",
    "Example:\n",
    "\n",
    "If you are given the following input data:\n",
    "string = \"hi, this is bitgo test\" character = \"t\"\n",
    "\n",
    "The output will be:\n",
    "4"
   ]
  },
  {
   "cell_type": "code",
   "execution_count": 8,
   "id": "099d0e83",
   "metadata": {},
   "outputs": [
    {
     "name": "stdout",
     "output_type": "stream",
     "text": [
      "4\n"
     ]
    }
   ],
   "source": [
    "def solution(string, character):\n",
    "    for idx, char in enumerate(string):\n",
    "        if char == character:\n",
    "            return idx\n",
    "    return -1\n",
    "\n",
    "res = solution(\"hi, this is bitgo test\", \"t\")\n",
    "print(res)\n"
   ]
  },
  {
   "cell_type": "markdown",
   "id": "4d198541",
   "metadata": {},
   "source": [
    "# 32.Power of four"
   ]
  },
  {
   "cell_type": "code",
   "execution_count": 1,
   "id": "8476c3fa",
   "metadata": {},
   "outputs": [],
   "source": [
    "def is_power_of_four(n):\n",
    "    if n < 1:\n",
    "        return False\n",
    "    while n % 4 == 0:\n",
    "        n /= 4\n",
    "    return n == 1"
   ]
  },
  {
   "cell_type": "code",
   "execution_count": 2,
   "id": "2dd20a25",
   "metadata": {},
   "outputs": [
    {
     "data": {
      "text/plain": [
       "True"
      ]
     },
     "execution_count": 2,
     "metadata": {},
     "output_type": "execute_result"
    }
   ],
   "source": [
    "is_power_of_four(256)"
   ]
  },
  {
   "cell_type": "code",
   "execution_count": 8,
   "id": "9df4ee76",
   "metadata": {},
   "outputs": [
    {
     "name": "stdout",
     "output_type": "stream",
     "text": [
      "64\n",
      "True\n"
     ]
    }
   ],
   "source": [
    "num = int(input())\n",
    "while True:\n",
    "    num /= 4\n",
    "    if num == 1:\n",
    "        print('True')\n",
    "        break\n",
    "    elif num > int(num):\n",
    "        print('False')\n",
    "        break\n"
   ]
  },
  {
   "cell_type": "markdown",
   "id": "7c0fd85a",
   "metadata": {},
   "source": [
    "# 33.Missing number\n"
   ]
  },
  {
   "cell_type": "markdown",
   "id": "c7916687",
   "metadata": {},
   "source": [
    "Given an array containing n distinct numbers taken from 0, 1, 2, ..., n find the one that is missing from the array."
   ]
  },
  {
   "cell_type": "code",
   "execution_count": 4,
   "id": "1c4169b4",
   "metadata": {},
   "outputs": [],
   "source": [
    "def missing_number(nums):\n",
    "    arr = [0 for _ in range(len(nums))]\n",
    "\n",
    "    for i in range(len(nums)):\n",
    "        if nums[i] < len(nums):\n",
    "            arr[nums[i]] = -1\n",
    "\n",
    "    for i in range(len(nums)):\n",
    "        if arr[i] != -1:\n",
    "            return i\n",
    "\n",
    "    return len(nums)"
   ]
  },
  {
   "cell_type": "code",
   "execution_count": 5,
   "id": "bd7f6962",
   "metadata": {},
   "outputs": [
    {
     "data": {
      "text/plain": [
       "4"
      ]
     },
     "execution_count": 5,
     "metadata": {},
     "output_type": "execute_result"
    }
   ],
   "source": [
    "missing_number([0,1,2,3,5,6,7])"
   ]
  },
  {
   "cell_type": "code",
   "execution_count": null,
   "id": "47ec8fe4",
   "metadata": {},
   "outputs": [],
   "source": [
    "missing_num([0,1,2,3,5,6,7])"
   ]
  },
  {
   "cell_type": "code",
   "execution_count": 6,
   "id": "531fc7de",
   "metadata": {},
   "outputs": [],
   "source": [
    "def missing_num(input_list):\n",
    "    sorted_list = sorted(input_list)\n",
    "    missing_list = []\n",
    "    largest_num = sorted_list[len(sorted_list)-1]\n",
    "    iteration = sorted_list[0]\n",
    "    while iteration < largest_num:\n",
    "        if iteration in sorted_list:\n",
    "            continue\n",
    "        else:\n",
    "            missing_list.append(iteration)\n",
    "        iteration += 1\n",
    "        \n",
    "    print(missing_list)\n"
   ]
  },
  {
   "cell_type": "code",
   "execution_count": 10,
   "id": "b06e328c",
   "metadata": {},
   "outputs": [
    {
     "name": "stdout",
     "output_type": "stream",
     "text": [
      "2\n",
      "4\n"
     ]
    }
   ],
   "source": [
    "num = input().split(',')\n",
    "for i in range(len(num)):\n",
    "    num[i] = int(num[i])\n",
    "target = int(input())\n",
    "flag = False\n",
    "for i in range(len(num)):\n",
    "    for j in range(len(num)):\n",
    "        for k in range(len(num)):\n",
    "            for l in range(len(num)):\n",
    "                if i != j and j != k and k != l and i != k and j != l and i != l and num[i] + num[j] + num[k] + num[l] == target:\n",
    "                    x = [i,j,k,l]\n",
    "                    x.sort()\n",
    "                    print(x)\n",
    "                    flag = True\n",
    "                    break\n",
    "            if flag:\n",
    "                break\n",
    "        if flag:\n",
    "            break\n",
    "    if flag:\n",
    "        break\n"
   ]
  },
  {
   "cell_type": "markdown",
   "id": "e0ac856e",
   "metadata": {},
   "source": [
    "# 34. Four Numbers sum"
   ]
  },
  {
   "cell_type": "markdown",
   "id": "3b8453af",
   "metadata": {},
   "source": [
    "Given an array of integers arr and a number s, write a function fourSum() that finds index of those numbers in arr that sum up to s.\n",
    "Your function should return an array of index of these numbers in an ascending order."
   ]
  },
  {
   "cell_type": "markdown",
   "id": "9d52e8db",
   "metadata": {},
   "source": [
    "Input: \n",
    "\tarr = [2, 7, 4, 0, 9, 5, 1, 3]\n",
    "\ts = 20\n",
    "\t\n",
    "Output: \n",
    "\t[1, 2, 3, 4]\n",
    "\n",
    "Explanation: \n",
    "\tarr[1] + arr[2] + arr[3] + arr[4] = 7 + 4 + 0 + 9 = 20"
   ]
  },
  {
   "cell_type": "code",
   "execution_count": 24,
   "id": "27662e81",
   "metadata": {},
   "outputs": [
    {
     "name": "stdout",
     "output_type": "stream",
     "text": [
      "[1, 2, 3, 4]\n"
     ]
    }
   ],
   "source": [
    "def fourSum(arr, s):\n",
    "    arr = [[i, arr[i]] for i in range(len(arr))]\n",
    "    arr = sorted(arr, key=lambda x:x[1])\n",
    "    for i in range(0, len(arr)):\n",
    "        for j in range(i+1, len(arr)):\n",
    "            k = j+1\n",
    "            l = len(arr)-1\n",
    "            while k < l:\n",
    "                four_sum = arr[i][1]+arr[j][1]+arr[k][1]+arr[l][1]\n",
    "                if four_sum == s:\n",
    "                    return sorted([arr[i][0], arr[j][0], arr[k][0], arr[l][0]])\n",
    "                elif four_sum < s:\n",
    "                    k += 1\n",
    "                else:\n",
    "                    l -= 1\n",
    "\n",
    "    return []\n",
    "\n",
    "\n",
    "array = [2, 7, 4, 0, 9, 5, 1, 3]\n",
    "target = 20\n",
    "result = fourSum(array, target)\n",
    "print(result)"
   ]
  },
  {
   "cell_type": "markdown",
   "id": "8304c45c",
   "metadata": {},
   "source": [
    "# 35.Cut the Sticks"
   ]
  },
  {
   "cell_type": "markdown",
   "id": "ac3080c3",
   "metadata": {},
   "source": [
    "You will be given an array of the lengths of a number of sticks.<br>\n",
    "When a turn begins, you must count the number of sticks you have.<br>\n",
    "Determine the length of a stick with the shortest length and discard any sticks of that length.<br>\n",
    "Remove that length from each of the longer sticks and discard the offcuts.<br>\n",
    "Repeat until there are no sticks left.<br>\n",
    "Return an array where elements are the number of sticks you had at the beginning of each turn.<br>\n",
    "\n",
    "For example, consider an array representing the lengths of four sticks [1, 1, 2, 3].<br>\n",
    "The shortest sticks are 1 unit long. Discard them. Remove 1 unit from the other two sticks and discard the scrap.<br>\n",
    "Now you have two sticks lengths [1, 2].<br>\n",
    "Do the same and you'll have one stick of the length [1].<br>\n",
    "Discard it and return an array with the number of sticks you had at the start of each turn [4, 2, 1] 1<br>"
   ]
  },
  {
   "cell_type": "raw",
   "id": "2a7e94fd",
   "metadata": {},
   "source": [
    "lengths    cut length  sticks\n",
    "1 1 2 3       1          4\n",
    "_ _ 1 2       1          2\n",
    "_ _ _ 1       1          1\n",
    "_ _ _ _      DONE        DONE\n"
   ]
  },
  {
   "cell_type": "code",
   "execution_count": 26,
   "id": "d4960c36",
   "metadata": {},
   "outputs": [],
   "source": [
    "def cutSticks(lengths):\n",
    "    # Write your code here\n",
    "    results = []\n",
    "    while lengths:\n",
    "        results.append(len(lengths))\n",
    "        mini = min(lengths)\n",
    "        new_lengths = []\n",
    "        for i in range(len(lengths)):\n",
    "            lengths[i] -= mini\n",
    "            if lengths[i] != 0:\n",
    "                new_lengths.append(lengths[i])\n",
    "\n",
    "        lengths = new_lengths\n",
    "\n",
    "    return results"
   ]
  },
  {
   "cell_type": "code",
   "execution_count": 27,
   "id": "37102dc0",
   "metadata": {},
   "outputs": [
    {
     "data": {
      "text/plain": [
       "[4, 2, 1]"
      ]
     },
     "execution_count": 27,
     "metadata": {},
     "output_type": "execute_result"
    }
   ],
   "source": [
    "cutSticks([1,1,2,3])"
   ]
  },
  {
   "cell_type": "code",
   "execution_count": 12,
   "id": "98e3d360",
   "metadata": {},
   "outputs": [
    {
     "data": {
      "text/plain": [
       "[4, 2, 1]"
      ]
     },
     "execution_count": 12,
     "metadata": {},
     "output_type": "execute_result"
    }
   ],
   "source": [
    "def f(l):\n",
    "    r=[]\n",
    "    while True:\n",
    "        if len(l)==0:\n",
    "            return r\n",
    "        else:\n",
    "            r.append(len(l))\n",
    "            for i in range(l.count(min(l))):\n",
    "                l.remove(min(l))\n",
    "            for i in range(len(l)):\n",
    "                l[i]-=1\n",
    "f([1,1,2,4])\n"
   ]
  },
  {
   "cell_type": "markdown",
   "id": "fdab8375",
   "metadata": {},
   "source": [
    "# 36. Simple Query"
   ]
  },
  {
   "cell_type": "markdown",
   "id": "3d4e7c11",
   "metadata": {},
   "source": [
    "Given two array if positive integer, for each element in the second array, find the total number of elements in the first array which are less than or equal to that element. Store the values determined in an array. For example, if the first array is [1, 2, 3] and the second array is [2, 4], then the there are 2 elements in the first array less than or equal to 2. There are 3 elements in the first array which are less than or equal to 4. We can store these answers in an array, answer = [2, 3].\n",
    "\n",
    "Function Description: Complete the function counts. The function must return an array of m positive integers, one for each maxes[i] representing the total number of elements nums[j] satisfying nums[j]<=maxes[i], where 0 <= j < n and 0 <= i < m, in given order"
   ]
  },
  {
   "cell_type": "code",
   "execution_count": 28,
   "id": "d062ed98",
   "metadata": {},
   "outputs": [
    {
     "name": "stdout",
     "output_type": "stream",
     "text": [
      "numbers = [1, 2, 4, 4, 7] maxes = [3, 5] answer = [2, 4]\n",
      "numbers = [2, 10, 5, 4, 8] maxes = [3, 1, 7, 8] answer = [1, 0, 3, 4]\n",
      "numbers = [1, 4, 2, 4] maxes = [3, 5] answer = [2, 4]\n"
     ]
    }
   ],
   "source": [
    "def bin_search(arr, target):\n",
    "    left, ryt = 0, len(arr)-1\n",
    "    while left<len(arr) and ryt>= 0 and left<=ryt:\n",
    "        mid = (left+ryt)//2\n",
    "        if arr[mid] == target:\n",
    "            return mid+1\n",
    "        elif arr[mid]>target:\n",
    "            ryt = mid-1\n",
    "        else:\n",
    "            left = mid+1\n",
    "    return left\n",
    "\n",
    "def counts(nums, maxs):\n",
    "    nums = sorted(nums)\n",
    "    results = []\n",
    "    for maxi in maxs:\n",
    "        count = bin_search(nums, maxi)\n",
    "        results.append(count)\n",
    "    return results    \n",
    "\n",
    "\n",
    "arr = [1, 2, 4, 4, 7]\n",
    "maxes = [3, 5]\n",
    "res = counts(arr, maxes)\n",
    "print(\"numbers =\", arr, \"maxes =\", maxes, \"answer =\", res)\n",
    "\n",
    "arr = [2, 10, 5, 4, 8]\n",
    "maxes = [3, 1, 7, 8]\n",
    "res = counts(arr, maxes)\n",
    "print(\"numbers =\", arr, \"maxes =\", maxes, \"answer =\", res)\n",
    "\n",
    "arr = [1, 4, 2, 4]\n",
    "maxes = [3, 5]\n",
    "res = counts(arr, maxes)\n",
    "print(\"numbers =\", arr, \"maxes =\", maxes, \"answer =\", res)"
   ]
  },
  {
   "cell_type": "markdown",
   "id": "4246eb53",
   "metadata": {},
   "source": [
    "# 37. Move Zeros"
   ]
  },
  {
   "cell_type": "markdown",
   "id": "d5bb9558",
   "metadata": {},
   "source": [
    "Given an array arr, write a function to move all 0's to the end of it while maintaining the relative order of the non-zero elements"
   ]
  },
  {
   "cell_type": "raw",
   "id": "33df18df",
   "metadata": {},
   "source": [
    "Example:\n",
    "\n",
    "\tInput: [0,1,0,3,12]\n",
    "\tOutput: [1,3,12,0,0]"
   ]
  },
  {
   "cell_type": "code",
   "execution_count": 33,
   "id": "f678253c",
   "metadata": {},
   "outputs": [],
   "source": [
    "def move_zeros(arr):\n",
    "    i = j = 0\n",
    "    while i < len(arr):\n",
    "        if arr[i] > 0:\n",
    "            arr[j] = arr[i]\n",
    "            j += 1\n",
    "        i += 1\n",
    "\n",
    "    while j < len(arr):\n",
    "        arr[j] = 0\n",
    "        j += 1\n",
    "\n",
    "    return arr"
   ]
  },
  {
   "cell_type": "code",
   "execution_count": 34,
   "id": "874e6d6d",
   "metadata": {},
   "outputs": [
    {
     "data": {
      "text/plain": [
       "[1, 2, 3, 0, 0]"
      ]
     },
     "execution_count": 34,
     "metadata": {},
     "output_type": "execute_result"
    }
   ],
   "source": [
    "move_zeros([1,0,2,3,0])"
   ]
  },
  {
   "cell_type": "markdown",
   "id": "575e5e80",
   "metadata": {},
   "source": [
    "# 38. Search Index or Insert Position"
   ]
  },
  {
   "cell_type": "markdown",
   "id": "b505bb70",
   "metadata": {},
   "source": [
    "Given a sorted array and a target value, return the index if the target is found. If not, return the index where it would be if it were inserted in order. You may assume no duplicates in the array."
   ]
  },
  {
   "cell_type": "code",
   "execution_count": 35,
   "id": "a4d2eebc",
   "metadata": {},
   "outputs": [],
   "source": [
    "def find_idx(sorted_arr, target):\n",
    "    length = len(sorted_arr)\n",
    "    left = 0\n",
    "    right = length-1\n",
    "    while (left <= right) and (right >= 0) and (left < length):\n",
    "\n",
    "        middle = (left+right)//2\n",
    "        if sorted_arr[middle] == target:\n",
    "\n",
    "            return middle\n",
    "\n",
    "        elif sorted_arr[middle] < target:\n",
    "            left = middle+1\n",
    "        else:\n",
    "            right = middle-1\n",
    "\n",
    "    return left"
   ]
  },
  {
   "cell_type": "code",
   "execution_count": 36,
   "id": "29376fbf",
   "metadata": {},
   "outputs": [
    {
     "data": {
      "text/plain": [
       "6"
      ]
     },
     "execution_count": 36,
     "metadata": {},
     "output_type": "execute_result"
    }
   ],
   "source": [
    "find_idx([1,2,3,4,5,6,9],8)"
   ]
  },
  {
   "cell_type": "markdown",
   "id": "c027a36d",
   "metadata": {},
   "source": [
    "# 39. Reformate Date"
   ]
  },
  {
   "cell_type": "raw",
   "id": "8119bbb7",
   "metadata": {},
   "source": [
    "Given a date string in the format Day Month Year where:\n",
    "\n",
    "Day is in set {\"1st\", \"2nd\", \"3rd\", \"4th\", \"5th\", \"6th\", .... , \"31st\"}.\n",
    "\n",
    "Month is in set {\"Jan\", \"Feb\", \"Mar\", \"Apr\", \"May\", \"Jun\", \"Jul\", \"Aug\", \"Sep\" , \"Oct\" , \"Nov\", \"Dec\"}.\n",
    "\n",
    "Year is in the inclusive range [1900, 2100]\n",
    "\n",
    "For Example:\n",
    "\n",
    "\"1st Mar 1984\" -> \"1984-03-01\"\n",
    "\"2nd Feb 2013\" -> \"2013-02-02\"\n",
    "\"4th Apr 1990\" -> \"1990-04-04\""
   ]
  },
  {
   "cell_type": "code",
   "execution_count": 37,
   "id": "df107008",
   "metadata": {},
   "outputs": [
    {
     "name": "stdout",
     "output_type": "stream",
     "text": [
      "['1984-03-01', '2013-02-02', '1990-04-04']\n"
     ]
    }
   ],
   "source": [
    "def reformateDate(dates):\n",
    "    days2num = {\"1st\": \"01\", \"2nd\": \"02\", \"3rd\": \"03\", \"4th\": \"04\", \"5th\": \"05\", \"6th\": \"06\",\n",
    "                \"7th\": \"07\", \"8th\": \"08\", \"9th\": \"09\", \"10th\": \"10\", \"11th\": \"11\", \"12th\": \"12\",\n",
    "                \"13th\": \"13\", \"14th\": \"14\", \"15th\": \"15\", \"16th\": \"16\", \"17th\": \"17\", \"18th\": \"18\",\n",
    "                \"19th\": \"19\", \"20th\": \"20\", \"21st\": \"21\", \"22nd\": \"22\", \"23rd\": \"23\", \"24th\": \"24\",\n",
    "                \"25th\": \"25\", \"26th\": \"26\", \"27th\": \"27\", \"28th\": \"28\", \"29th\": \"29\", \"30th\": \"30\", \"31st\": \"31\"}\n",
    "\n",
    "    month2num = {\"Jan\": \"01\", \"Feb\": \"02\", \"Mar\": \"03\", \"Apr\": \"04\", \"May\": \"05\", \"Jun\": \"06\",\n",
    "                 \"Jul\": \"07\", \"Aug\": \"08\", \"Sep\": \"09\", \"Oct\": \"10\", \"Nov\": \"11\", \"Dec\": \"12\"}\n",
    "\n",
    "    results = []\n",
    "    for date in dates:\n",
    "        day, month, year = date.split()\n",
    "        res = year+\"-\"+month2num[month]+\"-\"+days2num[day]\n",
    "        results.append(res)\n",
    "    return results\n",
    "\n",
    "\n",
    "date_list = [\"1st Mar 1984\", \"2nd Feb 2013\", \"4th Apr 1990\"]\n",
    "correct_format = reformateDate(date_list)\n",
    "print(correct_format)"
   ]
  },
  {
   "cell_type": "markdown",
   "id": "420da563",
   "metadata": {},
   "source": [
    "# 40. Missing Words"
   ]
  },
  {
   "cell_type": "markdown",
   "id": "20c40992",
   "metadata": {},
   "source": [
    "Given two strings, one is a subsequence if all of the elements of the first string occur in the same order within the second string.\n",
    "They do not have to be contiguous in the second string, but order must be maintained.\n",
    "For example, given the string \"I like cheese\", the words \"I\" and \"cheese\" are one possible subsequence of that string.\n",
    "\n",
    "In this challenge, you will be given two strings, s and t, where t is a subsequence of s, report the words of s, missing in t, in order they are missing.\n",
    "Revisiting the earlier example, if s = I like cheese and t = like, then like is the longest subsequence, and [I, cheese] is the list of missing words in order.\n",
    "\n",
    "Function Description: Complete the function missingWords in the editor below.\n",
    "It must return an array of strings containing any words in s that are missing from t in the order they occur within s.\n",
    "\n",
    "missingWords has the following parameter(s):\n",
    "s: a sentence of space separated words t: a sentence of space separated words"
   ]
  },
  {
   "cell_type": "code",
   "execution_count": 38,
   "id": "d60c9424",
   "metadata": {},
   "outputs": [],
   "source": [
    "def missingWords(s, t):\n",
    "    # Write your code here\n",
    "    s_list = s.split()\n",
    "    t_list = t.split()\n",
    "    missing = []\n",
    "    i = j = 0\n",
    "    while i < len(s_list) and j < len(t_list):\n",
    "        if s_list[i] == t_list[j]:\n",
    "            i += 1\n",
    "            j += 1\n",
    "        else:\n",
    "            missing.append(s_list[i])\n",
    "            i += 1\n",
    "\n",
    "    for k in range(i, len(s_list)):\n",
    "        missing.append(s_list[k])\n",
    "    return missing\n"
   ]
  },
  {
   "cell_type": "code",
   "execution_count": 39,
   "id": "082a9a77",
   "metadata": {},
   "outputs": [
    {
     "data": {
      "text/plain": [
       "['I', 'cheese']"
      ]
     },
     "execution_count": 39,
     "metadata": {},
     "output_type": "execute_result"
    }
   ],
   "source": [
    "missingWords(\"I like cheese\",\"like\")"
   ]
  },
  {
   "cell_type": "markdown",
   "id": "c7926c89",
   "metadata": {},
   "source": [
    "# 41. Flower Bouquets"
   ]
  },
  {
   "cell_type": "markdown",
   "id": "2c722862",
   "metadata": {},
   "source": [
    "Lara owns a flower shop, where she sells only two types of flower bouquets:\n",
    "\n",
    "* Type 1: the first type of bouquet contains three roses and costs p dollars.\n",
    "* Type 2: The second type of bouquet contains one cosmos and one rose and costs q dollars.\n",
    "\n",
    "    "
   ]
  },
  {
   "cell_type": "markdown",
   "id": "92a923a5",
   "metadata": {},
   "source": [
    "Lara grows these flowers in her own garden in a single tow. Consider the row as a one-dimensional array, here each cell either contains a rose or a cosmos. For example array 001101011, here 0 indicates rose and 1 indicates cosmos."
   ]
  },
  {
   "cell_type": "code",
   "execution_count": 4,
   "id": "55ef4f99",
   "metadata": {},
   "outputs": [],
   "source": [
    "from IPython.display import Image"
   ]
  },
  {
   "cell_type": "code",
   "execution_count": 9,
   "id": "245e4be4",
   "metadata": {},
   "outputs": [
    {
     "data": {
      "image/png": "[encoded data removed]",
      "text/plain": [
       "<IPython.core.display.Image object>"
      ]
     },
     "execution_count": 9,
     "metadata": {},
     "output_type": "execute_result"
    }
   ],
   "source": [
    "Image('flowers.png')"
   ]
  },
  {
   "cell_type": "markdown",
   "id": "e332d592",
   "metadata": {},
   "source": [
    "Lara follows an important rule when she makes the bouquets: she makes each bouquet with only consecutive flowers from the array.\n",
    "For example in a bouquet, the flower from consecutive (i, i+1, and i+2) in the array can be present, but not from non-consecutive indices (i and i+2) in the array above, Lara can not make any bouquets of type 1 but she can make 3 bouquets of type 2\n",
    "\n",
    "Now she wonder what is the maximum profit she can make if she makes these bouquets optimally. You are given a binary string representing her garden row. calculate the maximum profit Lara can make. Remember that it is not necessary to use every flower"
   ]
  },
  {
   "cell_type": "markdown",
   "id": "b5ba14b9",
   "metadata": {},
   "source": [
    "Function Description:\n",
    "\n",
    "Complete the flowerBouquets function in the editor below. The function must return an integer that denotes the maximum profit Lara can make if she makes her bouquet optimally.\n",
    "\n",
    "flowerBouqets has three parameters:\n",
    "\n",
    "p: integer denoting the cost of a bouquet of type 1.\n",
    "q: integer denoting the cost of a bouquet of type 2.\n",
    "s: string denoting the garden pattern, where zero indicated rose and on indicates cosmos"
   ]
  },
  {
   "cell_type": "code",
   "execution_count": 1,
   "id": "6adece69",
   "metadata": {},
   "outputs": [],
   "source": [
    "def findMaxProfit(jobs):\n",
    "    tabulation = []\n",
    "    for i in range(len(jobs)):\n",
    "        tabulation.append(jobs[i][2])\n",
    "    for i in range(len(jobs)):\n",
    "        for j in range(i + 1, len(jobs)):\n",
    "            if jobs[i][1] < jobs[j][0]:\n",
    "                tabulation[j] = max(tabulation[j], jobs[j][2] + tabulation[i])\n",
    "    return tabulation[-1]\n",
    "\n",
    "\n",
    "def flowerBouquets(p, q, s):\n",
    "    if len(s) <= 1:\n",
    "        return 0\n",
    "    jobs = []\n",
    "    type1 = \"000\"\n",
    "\n",
    "    for i in range(len(s)):\n",
    "        if s[i:i + 3] == type1:\n",
    "            jobs.append([i, i + 2, p])\n",
    "        else:\n",
    "            cur = s[i: i + 2]\n",
    "            if cur == \"01\" or cur == \"10\":\n",
    "                jobs.append([i, i + 1, q])\n",
    "    if not jobs:\n",
    "        return 0\n",
    "    return findMaxProfit(jobs)"
   ]
  },
  {
   "cell_type": "code",
   "execution_count": 3,
   "id": "3385ddd4",
   "metadata": {},
   "outputs": [
    {
     "data": {
      "text/plain": [
       "5"
      ]
     },
     "execution_count": 3,
     "metadata": {},
     "output_type": "execute_result"
    }
   ],
   "source": [
    "flowerBouquets(2,3,'0001000')"
   ]
  },
  {
   "cell_type": "markdown",
   "id": "68fcaf6c",
   "metadata": {},
   "source": [
    "# 42.Binary Jumps"
   ]
  },
  {
   "cell_type": "markdown",
   "id": "7ddce870",
   "metadata": {},
   "source": [
    "In a revised game of hopscotch a child is trying to cross a line of tiles with a binary string painted on it. Consider the line of tiles to be like 1D array, where each tile has either a 1 or a 0, and a consecutive series of tiles makes the whole string. The game starts with the child standing in front of the leftmost character of the string.\n",
    "\n",
    "* All jumps to reach the end of the string can only be on tiles with 0 or only be in the tiles with 1.\n",
    "* The game is won if the child can reach at the end of the string, taking jumps with minimum required power. The power of a jump is given by the number of tiles in the path of a jump as indicated in the diagram below. In 10101, the power of the jump from beginning to the first tile is 1 but from the first tile to the third tile is 2, and so on\n",
    "\n",
    "\n",
    "Find the minimum power the child's jump should have in order to win the game for different binary strings. Note: The value on the last tile determines which tiles to jump on. This is because all tiles landed on mush have the same value and the child must land on the last tile to complete the fame. In one jump, the child can jump to the right, any distance from 1 to the value of the power of her jump."
   ]
  },
  {
   "cell_type": "code",
   "execution_count": 10,
   "id": "1908d57b",
   "metadata": {},
   "outputs": [
    {
     "data": {
      "image/png": "[encoded data removed]",
      "text/plain": [
       "<IPython.core.display.Image object>"
      ]
     },
     "execution_count": 10,
     "metadata": {},
     "output_type": "execute_result"
    }
   ],
   "source": [
    "Image('jump.png')"
   ]
  },
  {
   "cell_type": "code",
   "execution_count": 11,
   "id": "195f4b03",
   "metadata": {},
   "outputs": [],
   "source": [
    "def powerJump(game):\n",
    "\t# Write your code here\n",
    "\tlast_value = game[-1]\n",
    "\tindices = []\n",
    "\n",
    "\tfor i in range(len(game)):\n",
    "\t\tif game[i] == last_value:\n",
    "\t\t\tindices.append(i)\n",
    "\n",
    "\tcurPow = minPow = indices[0]+1\n",
    "\n",
    "\tfor i in range(1, len(indices)):\n",
    "\t\tidx = indices[i]\n",
    "\t\tcurPow = indices[i]-indices[i-1]\n",
    "\t\tminPow = max(minPow, curPow)\n",
    "\n",
    "\treturn minPow"
   ]
  },
  {
   "cell_type": "code",
   "execution_count": 12,
   "id": "e0bea4e4",
   "metadata": {},
   "outputs": [
    {
     "data": {
      "text/plain": [
       "1"
      ]
     },
     "execution_count": 12,
     "metadata": {},
     "output_type": "execute_result"
    }
   ],
   "source": [
    "powerJump('11111')"
   ]
  },
  {
   "cell_type": "code",
   "execution_count": 13,
   "id": "b479e4af",
   "metadata": {},
   "outputs": [
    {
     "data": {
      "text/plain": [
       "2"
      ]
     },
     "execution_count": 13,
     "metadata": {},
     "output_type": "execute_result"
    }
   ],
   "source": [
    "powerJump('10101')"
   ]
  },
  {
   "cell_type": "markdown",
   "id": "4ee0f22d",
   "metadata": {},
   "source": [
    "# 43. Binary Search Tree"
   ]
  },
  {
   "cell_type": "markdown",
   "id": "6c4fcf5a",
   "metadata": {},
   "source": [
    "1.Given a binary tree, determine if it is a valid binary search tree (BST)."
   ]
  },
  {
   "cell_type": "raw",
   "id": "e7baab55",
   "metadata": {},
   "source": [
    " Assume a BST is defined as follows:   \n",
    "\n",
    " The left subtree of a node contains only nodes with keys less than the node's key.  \n",
    " The right subtree of a node contains only nodes with keys greater than the node's key.  \n",
    " Both the left and right subtrees must also be binary search trees.   "
   ]
  },
  {
   "cell_type": "markdown",
   "id": "c9b3237c",
   "metadata": {},
   "source": [
    "2. Follow-up: Generalize your code for N-array tree. Make a N-array tree. Given N-array tree validate that it is a binary search tree (BST).\n",
    "\n",
    "3. Follow-up: Optimize your code. I used flag to stop the recursion. Flag is used for early stop.\n",
    "\n",
    "4. What is the time complexity and space complexity.\n",
    "\n",
    "Follow-up: Can you do it iteratively ??"
   ]
  },
  {
   "cell_type": "code",
   "execution_count": 17,
   "id": "cb969674",
   "metadata": {},
   "outputs": [
    {
     "name": "stdout",
     "output_type": "stream",
     "text": [
      "True\n",
      "False\n",
      "False\n",
      "True\n"
     ]
    }
   ],
   "source": [
    "class Node(object):\n",
    "    def __init__(self, value):\n",
    "        self.value = value\n",
    "        # self.left = None\n",
    "        # self.right = None\n",
    "        self.child = [None, None]\n",
    "\n",
    "\n",
    "class Tree(object):\n",
    "    def __init__(self, value):\n",
    "        self.root = Node(value)\n",
    "\n",
    "    def insert_node(self, value, node):\n",
    "\n",
    "        if value > node.value:\n",
    "            if node.child[1]:\n",
    "                self.insert_node(value, node.child[1])\n",
    "            else:\n",
    "                node.child[1] = Node(value)\n",
    "        else:\n",
    "            if node.child[0]:\n",
    "                self.insert_node(value, node.child[0])\n",
    "            else:\n",
    "                node.child[0] = Node(value)\n",
    "\n",
    "\n",
    "def validate_binary_tree(node):\n",
    "    flag = [True]\n",
    "    return recurse(node, -float(\"inf\"), float(\"inf\"), flag)\n",
    "\n",
    "\n",
    "def recurse(node, min_val, max_val, flag):\n",
    "    if not flag[0]:\n",
    "        return False\n",
    "\n",
    "    if not node:\n",
    "        return True\n",
    "\n",
    "    if len(node.child) > 2:\n",
    "        flag[0] = False\n",
    "        return False\n",
    "\n",
    "    if min_val < node.value < max_val:\n",
    "        return recurse(node.child[0], min_val, node.value, flag) and recurse(node.child[1], node.value, max_val, flag)\n",
    "    else:\n",
    "        flag[0] = False\n",
    "        return False\n",
    "\n",
    "\n",
    "tree = Tree(5)\n",
    "tree.insert_node(1, tree.root)\n",
    "tree.insert_node(2, tree.root)\n",
    "tree.insert_node(3, tree.root)\n",
    "tree.insert_node(4, tree.root)\n",
    "tree.insert_node(6, tree.root)\n",
    "tree.insert_node(7, tree.root)\n",
    "\n",
    "is_binary_tree = validate_binary_tree(tree.root)\n",
    "print(is_binary_tree)\n",
    "\n",
    "not_bin_tree = Node(5)\n",
    "not_bin_tree.child[0] = Node(6)\n",
    "not_bin_tree.child[1] = Node(7)\n",
    "\n",
    "#     5\n",
    "#   /  \\\n",
    "#  6    7\n",
    "\n",
    "is_binary_tree = validate_binary_tree(not_bin_tree)\n",
    "print(is_binary_tree)\n",
    "\n",
    "not_bin_tree = Node(5)\n",
    "not_bin_tree.child[0] = Node(3)\n",
    "not_bin_tree.child[1] = Node(7)\n",
    "not_bin_tree.child.append(Node(9))\n",
    "\n",
    "#     5 -- 9\n",
    "#   /  \\\n",
    "#  3    7\n",
    "is_binary_tree = validate_binary_tree(not_bin_tree)\n",
    "print(is_binary_tree)\n",
    "\n",
    "is_binary_tree = validate_binary_tree(None)\n",
    "print(is_binary_tree)"
   ]
  },
  {
   "cell_type": "markdown",
   "id": "5f83bef3",
   "metadata": {},
   "source": [
    "## 44. String Chains"
   ]
  },
  {
   "cell_type": "markdown",
   "id": "5d21294d",
   "metadata": {},
   "source": [
    "Given an array of words representing your dictionary, you test words to see if it can be made into another word in dictionary. This will be done by removing characters one at a time. Each word represents its own first element of its string chain, so start with a string chain length of 1. Each time you remove a character, increment your string chain by 1. In order to remove a character the resulting word must be in your original dictionary. Your goal is to determine the longest string chain available for a given dictionary."
   ]
  },
  {
   "cell_type": "markdown",
   "id": "1ded89ba",
   "metadata": {},
   "source": [
    "for example, given a dictionary [a, and, ab, bear] the word and could be reduced to an and the word an to a. The single character a can not be reduced to any further as the null string is not in the dictionary. This  would be the longest string chain, having a length 3. The word bear can not be reduced at all."
   ]
  },
  {
   "cell_type": "raw",
   "id": "a29aaa4a",
   "metadata": {},
   "source": [
    "Constraints:\n",
    "\n",
    "1 <= n <= 50000\n",
    "1 <= words[i] <= 60, where 0 <= i <= n\n",
    "Each words[i] is composed of lowercase letter in ascii[a-z]\n",
    "Input: [\"a\", \"b\", \"ba\", \"bca\", \"bda\", \"bdca\"]\n",
    "\n",
    "Output: 4"
   ]
  },
  {
   "cell_type": "code",
   "execution_count": 18,
   "id": "6901f9f7",
   "metadata": {},
   "outputs": [],
   "source": [
    "from collections import defaultdict\n",
    "\n",
    "\n",
    "def longestChain(words):\n",
    "    # Write your code here\n",
    "    if not words:\n",
    "        return 0\n",
    "\n",
    "    words = sorted(words, key=len)\n",
    "    longest = 0\n",
    "    mapping = defaultdict(int)\n",
    "    for word in words:\n",
    "        if word in mapping:\n",
    "            continue\n",
    "        mapping[word] = 1\n",
    "        for i in range(0, len(word)):\n",
    "            new_word = word[:i]+word[i+1:]\n",
    "            if (new_word in mapping) and ((mapping[new_word]+1)>(mapping[word])):\n",
    "                mapping[word] = mapping[new_word]+1\n",
    "        longest = max(longest, mapping[word])\n",
    "    return longest\n"
   ]
  },
  {
   "cell_type": "code",
   "execution_count": 20,
   "id": "69dfd292",
   "metadata": {},
   "outputs": [
    {
     "data": {
      "text/plain": [
       "4"
      ]
     },
     "execution_count": 20,
     "metadata": {},
     "output_type": "execute_result"
    }
   ],
   "source": [
    "longestChain(['6','a','b','ba','bca','bda','bdca'])"
   ]
  },
  {
   "cell_type": "markdown",
   "id": "8c5f5380",
   "metadata": {},
   "source": [
    "# 45. Friends Circle"
   ]
  },
  {
   "cell_type": "markdown",
   "id": "6be9d87f",
   "metadata": {},
   "source": [
    "There are N students in a class. Some of them are friends, while some are not. Their friendship is transitive in nature, i.e., if A is friend of B and B is friend of C, then A is also friend of C. A friend circle is a group of students who are directly or indirectly friends.\n",
    "<br>\n",
    "You have to complete a function int friendCircles(char[][] friends) which return the number of friend circles in the class. Its argument, friends, is a NxN matrix which consists of characters \"Y\" or \"N\". If friends[i][j] == \"Y\" then i-thandj-th` students are friends with each other, otherwise not. You have to return the total number of friend circles in the class."
   ]
  },
  {
   "cell_type": "raw",
   "id": "c52fc828",
   "metadata": {},
   "source": [
    "Constraints\n",
    "\n",
    "1 <= N <= 300.\n",
    "\n",
    "Each element of matrix friends will be \"Y\" or \"N\".\n",
    "\n",
    "Number of rows and columns will be equal in friends.\n",
    "\n",
    "friends[i][j] = \"Y\", where 0 <= i < N.\n",
    "\n",
    "friends[i][j] = friends[j][i], where 0 <= i < j < N."
   ]
  },
  {
   "cell_type": "code",
   "execution_count": 21,
   "id": "0d1e7400",
   "metadata": {},
   "outputs": [],
   "source": [
    "def friendCircles(friends):\n",
    "    sets = []\n",
    "    for i in range(0, len(friends)):\n",
    "        sets.append(i)\n",
    "\n",
    "    for i in range(1, len(friends)):\n",
    "        for j in range(0, i):\n",
    "            if (friends[i][j]) == \"Y\":\n",
    "                sets[make_sets(i, sets)] = make_sets(j, sets)\n",
    "\n",
    "    res = set([])\n",
    "    for i in range(0, len(friends)):\n",
    "        res.add(make_sets(i, sets))\n",
    "    return len(res)\n",
    "\n",
    "\n",
    "def make_sets(node, sets):\n",
    "    while sets[node] != node:\n",
    "        sets[node] = sets[sets[node]]\n",
    "        node = sets[node]\n",
    "    return node"
   ]
  },
  {
   "cell_type": "code",
   "execution_count": 23,
   "id": "df327e7a",
   "metadata": {},
   "outputs": [
    {
     "data": {
      "text/plain": [
       "1"
      ]
     },
     "execution_count": 23,
     "metadata": {},
     "output_type": "execute_result"
    }
   ],
   "source": [
    "friendCircles(['4','YYNN','YYYN','NYYN','NNNY'])"
   ]
  },
  {
   "cell_type": "markdown",
   "id": "4197312e",
   "metadata": {},
   "source": [
    "# 46.Maximum Sum Circular Subarray"
   ]
  },
  {
   "cell_type": "raw",
   "id": "01b17d52",
   "metadata": {},
   "source": [
    "\n",
    "Given a circular array C of integers represented by A, find the maximum possible sum of a non-empty subarray of C.\n",
    "\n",
    "Here, a circular array means the end of the array connects to the beginning of the array. (Formally, C[i] = A[i] when 0 <= i < A.length, and C[i+A.length] = C[i] when i >= 0.)\n",
    "\n",
    "Also, a subarray may only include each element of the fixed buffer A at most once. (Formally, for a subarray C[i], C[i+1], ...,\n",
    "\n",
    "C[j], there does not exist i <= k1, k2 <= j with k1 % A.length = k2 % A.length.)\n"
   ]
  },
  {
   "cell_type": "code",
   "execution_count": 24,
   "id": "53c9551a",
   "metadata": {},
   "outputs": [
    {
     "name": "stdout",
     "output_type": "stream",
     "text": [
      "results = 6\n",
      "results = 10\n",
      "results = 24\n",
      "results = 0\n",
      "results = -2\n"
     ]
    }
   ],
   "source": [
    "\n",
    "def apply_kadenze(arr):\n",
    "    max_so_far = arr[0]\n",
    "    max_ending = arr[0]\n",
    "    for i in range(1, len(arr)):\n",
    "        max_ending = max(arr[i], max_ending + arr[i])\n",
    "        max_so_far = max(max_so_far, max_ending)\n",
    "    return max_so_far\n",
    "\n",
    "\n",
    "def find_max_sub_array(arr):\n",
    "    if not arr:\n",
    "        return 0\n",
    "\n",
    "    if len(arr) == 1:\n",
    "        return arr[0]\n",
    "\n",
    "    global_max = apply_kadenze(arr)\n",
    "    for i in range(len(arr)):  # every element\n",
    "        arr = [arr[-1]] + arr[0:-1]  # Operation not needed if its a linked list\n",
    "        cur_max = apply_kadenze(arr)\n",
    "        global_max = max(global_max, cur_max)\n",
    "\n",
    "    return global_max\n",
    "\n",
    "\n",
    "array = [-1, 2, 4, -1]\n",
    "result = find_max_sub_array(array)\n",
    "print(\"results =\", result)\n",
    "\n",
    "array = [5, -1, 4, 1]\n",
    "result = find_max_sub_array(array)\n",
    "print(\"results =\", result)\n",
    "\n",
    "array = [10, -1, 2, 3, 4, 5]\n",
    "result = find_max_sub_array(array)\n",
    "print(\"results =\", result)\n",
    "\n",
    "array = []\n",
    "result = find_max_sub_array(array)\n",
    "print(\"results =\", result)\n",
    "\n",
    "array = [-2]\n",
    "result = find_max_sub_array(array)\n",
    "print(\"results =\", result)"
   ]
  },
  {
   "cell_type": "markdown",
   "id": "2a8dbccc",
   "metadata": {},
   "source": [
    "# 47 Filter Banned Words"
   ]
  },
  {
   "cell_type": "markdown",
   "id": "c17e46f8",
   "metadata": {},
   "source": [
    "Given a paragraph and a list of banned words, return the most frequent word that is not in the list of banned words. It is guaranteed there is at least one word that isn't banned, and that the answer is unique. Words in the list of banned words are given in lowercase, and free of punctuation. Words in the paragraph are not case sensitive. The answer is in lowercase."
   ]
  },
  {
   "cell_type": "raw",
   "id": "879eea98",
   "metadata": {},
   "source": [
    "Example:\n",
    " Input: \n",
    " paragraph = \"Bob hit a ball, the hit BALL flew far after it was hit.\"\n",
    " banned = [\"hit\"]\n",
    " Output: \"ball\"\n",
    " Explanation: \n",
    " \"hit\" occurs 3 times, but it is a banned word.\n",
    " \"ball\" occurs twice (and no other word does), so it is the most frequent non-banned word in the paragraph. \n",
    " Note that words in the paragraph are not case sensitive,\n",
    " that punctuation is ignored (even if adjacent to words, such as \"ball,\"), \n",
    " \t\t\t\tand that \"hit\" isn't the answer even though it occurs more because it is banned."
   ]
  },
  {
   "cell_type": "code",
   "execution_count": 8,
   "id": "b81650a5",
   "metadata": {},
   "outputs": [
    {
     "data": {
      "text/plain": [
       "'ball'"
      ]
     },
     "execution_count": 8,
     "metadata": {},
     "output_type": "execute_result"
    }
   ],
   "source": [
    "def get_most_freq_word(paragraph, banned_words):\n",
    "    if paragraph is None:\n",
    "        return ''\n",
    "    if banned_words is None:\n",
    "        banned_words = list()\n",
    "    tokens = paragraph.split()\n",
    "    tokens = sanitize(tokens)\n",
    "    banned_words_set = set(banned_words)\n",
    "    word_to_occur_pos_hash = create_occur_pos_hash(tokens, banned_words_set)\n",
    "    return find_most_freq_word_in(word_to_occur_pos_hash)\n",
    "\n",
    "def sanitize(tokens):\n",
    "    result = list()\n",
    "    for token in tokens:\n",
    "        full_word = list()\n",
    "        for letter in token:\n",
    "            letter = letter.lower()\n",
    "            if letter.isalpha():\n",
    "                full_word.append(letter)\n",
    "        if len(full_word) > 0:\n",
    "            full_word = ''.join(full_word)\n",
    "            result.append(full_word)\n",
    "    return result\n",
    "\n",
    "def create_occur_pos_hash(tokens, banned_words_set):\n",
    "    result = dict()\n",
    "    for pos, word in enumerate(tokens):\n",
    "        if word not in banned_words_set:\n",
    "            if word not in result:\n",
    "                result[word] = (0,0)\n",
    "            occurance = result[word][0]\n",
    "            result[word] = (occurance+1, pos)\n",
    "    return result\n",
    "\n",
    "def find_most_freq_word_in(wtop_hash):\n",
    "    result, global_occurance, global_position = '', -1, -1\n",
    "    for word, value in wtop_hash.items():\n",
    "        local_occurance = value[0]\n",
    "        local_position = value[1]\n",
    "        if local_occurance >= global_occurance:\n",
    "            if local_position > global_position:\n",
    "                result = word\n",
    "                global_occurance = local_occurance\n",
    "                global_position = local_position\n",
    "    return result\n",
    "\n",
    "paragraph = \"Bob hit a ball, the hit BALL flew far after it was hit.\"\n",
    "banned = [\"hit\"]\n",
    "get_most_freq_word(paragraph, banned)\n",
    "\n"
   ]
  },
  {
   "cell_type": "markdown",
   "id": "c8efce4e",
   "metadata": {},
   "source": [
    "# 48 Make Patterns"
   ]
  },
  {
   "cell_type": "markdown",
   "id": "f27b4dca",
   "metadata": {},
   "source": [
    "Given a string as input, return the list of all the possible patterns\n"
   ]
  },
  {
   "cell_type": "raw",
   "id": "9205e610",
   "metadata": {},
   "source": [
    "{ \"1\" : ['A', 'B', 'C'],\n",
    "\"2\" : ['D', 'E'],\n",
    "\"12\" : ['X'],\n",
    "\"3\" : ['P', 'Q'] }"
   ]
  },
  {
   "cell_type": "markdown",
   "id": "bc708d72",
   "metadata": {},
   "source": [
    "Example if input is \"123\", then output is [\"ADP\",\"ADQ\",\"AEP\",\"AEQ\",\"BDP\",\"BDQ\",\"BEP\",\"BEQ\",\"CDP\",\"CDQ\",\"CEP\",\"CEQ\",\"XP\",\"XQ\"]\n",
    "\n",
    "Assume, you must match the input entirely in-order to produce an output."
   ]
  },
  {
   "cell_type": "markdown",
   "id": "d02d54d2",
   "metadata": {},
   "source": [
    "## EXPLAINATION\n",
    "This is from a facebook phone screen. Your ability to understand how recursion and how the stack relate will greatly help in solving this problem. There are two issues to point out. First issue is the string pattern matching of the input '123' to the dictionary. Then there is the possible patterns problem after you have accessed a list and started to create your result.\n",
    "\n",
    "The first issue is fairly easy. You should have a known start and end index in the string, use these indexes to create a sub-string then try to match that to the dictionary, if not, increment the end index once and try again.\n",
    "\n",
    "For the second issue, this is when you have to think about how you are going to store your answer. First, we know we have to use recursion for each element in the list. But the next new recursion you call, it must be provided the currently built result so far. Your base case is when you have reached the last index of the string AND the first issue is resolved. Then and only then should you add your current result to the final result.\n",
    "\n",
    "What happens if you reached the end of the index but the first issue isn't resolved? You get a string that doesn't exist in the dictionary? Then you must retrace your steps and remove the last item you placed in your result. This is when you will realize a stack is the most appropriate method to save your current result. As you move forward, you add to the stack. If you reach a dead end, then go back and pop off the last item in your stack and try another element, push that on the stack. Repeat until you reached the end of the index, then add all the contents in the stack to your result. Continue to back-track, pop off and find other possibilities."
   ]
  },
  {
   "cell_type": "code",
   "execution_count": 9,
   "id": "df79aca9",
   "metadata": {},
   "outputs": [
    {
     "name": "stdout",
     "output_type": "stream",
     "text": [
      "['ADP', 'ADQ', 'AEP', 'AEQ', 'BDP', 'BDQ', 'BEP', 'BEQ', 'CDP', 'CDQ', 'CEP', 'CEQ', 'XP', 'XQ']\n"
     ]
    }
   ],
   "source": [
    "def get_possible_patterns(string, dictionary, stack):\n",
    "    results = list()\n",
    "    # is the substring in the dictionary?\n",
    "    for index in range(0, len(string)+1):\n",
    "        substring = string[0:index+1]\n",
    "        if substring in dictionary:\n",
    "            # yes, add an element from list and call recursion\n",
    "            for element in dictionary[substring]:\n",
    "                stack.append(element)\n",
    "                # are we at end?\n",
    "                if index == len(string)-1:\n",
    "                    results.append(''.join(stack))\n",
    "                else:\n",
    "                    new_string = string[index+1:]\n",
    "                    results_found = get_possible_patterns(\n",
    "                                        new_string, \n",
    "                                        dictionary, \n",
    "                                        stack)\n",
    "                    # Reach a dead end\n",
    "                    # For the scenario that a list has a majority of the values \n",
    "                    # but can never exactly match the string\n",
    "                    if len(results_found) == 0:\n",
    "                        stack.pop()\n",
    "                        break\n",
    "                    results += results_found\n",
    "                stack.pop()\n",
    "    return results\n",
    "    \n",
    "    \n",
    "dictionary = { \"1\" : ['A', 'B', 'C'],\n",
    "               \"2\" : ['D', 'E'],\n",
    "               \"12\" : ['X'],\n",
    "               \"3\" : ['P', 'Q'] }\n",
    "\n",
    "string = '123'\n",
    "stack = list()\n",
    "print(get_possible_patterns(string, dictionary, stack))"
   ]
  },
  {
   "cell_type": "markdown",
   "id": "0da6ff3d",
   "metadata": {},
   "source": [
    "# 49. Decompressor"
   ]
  },
  {
   "cell_type": "markdown",
   "id": "264c929a",
   "metadata": {},
   "source": [
    "Given a compressed string in which a number followed by [] indicate how many times those characters occur, decompress the string\n",
    "\n",
    "Eg. : a3[b2[c1[d]]]e will be decompressed as abcdcdbcdcdbcdcde.\n",
    "\n",
    "Assume the string is well formed and number will always be followed by a []."
   ]
  },
  {
   "cell_type": "markdown",
   "id": "07bb1719",
   "metadata": {},
   "source": [
    "## EXPLAINATION\n",
    "Yes, this question can get very complicated. Notice that 'a' is in the front of 'bcdcdbcdcdbcdcd' which corresponds to '[b2[c1[d]]]'. Then 'e' is at the end. You can think of 'a' and 'e' as a start of a new set of decompression/calculations.\n",
    "\n",
    "The idea is to use recursion to decompress the string. My solution does it iteratively instead.\n",
    "\n",
    "First break up the string into tokens, 'a3[b2[c1[d]]]e' -> 'a3','[','b2','[','c','[','d',']',']',']','e'\n",
    "\n",
    "We will use two stacks, one stack(result stack) stores results of the decompressed string, which will be joined at the end. And another stack(token stack) keeps track of what tokens need to be decompressed. When encountering an open bracket, push the next token into the token stack. If we encounter a closed bracket, we should grab the top token then duplicate what was on the top result stack X times then append that token to the front and save it into the result stack. If we instead encounter a token, the suggests that a new result needs to be calculated, this is what was observed with 'a' and 'e' from above. That means any tokens remaining need to be calculated and saved into the result stack before we can start anew. A small trick is to place an empty string into the result stack as a placeholder for calculating the next set of decompression."
   ]
  },
  {
   "cell_type": "code",
   "execution_count": 11,
   "id": "02ddce0c",
   "metadata": {},
   "outputs": [
    {
     "data": {
      "text/plain": [
       "'abcdcdbcdcdbcdcde'"
      ]
     },
     "execution_count": 11,
     "metadata": {},
     "output_type": "execute_result"
    }
   ],
   "source": [
    "import re\n",
    "\n",
    "def decompress(compressed_string):\n",
    "    tokens = re.split('([\\[|\\]])', compressed_string)\n",
    "    tokens = [token for token in tokens if token != ''] # remove extra spaces\n",
    "    if len(tokens) == 0:\n",
    "        return ''\n",
    "    token_stack = list()\n",
    "    result_stack = list()\n",
    "    curr_token_index = 0\n",
    "    while curr_token_index < len(tokens):\n",
    "        curr_token = tokens[curr_token_index]\n",
    "        if curr_token == '[':\n",
    "            curr_token_index += 1\n",
    "            next_token = tokens[curr_token_index]\n",
    "            token_stack.append(next_token)\n",
    "        elif curr_token == ']':\n",
    "            next_result = get_next_result(token_stack, result_stack)\n",
    "            result_stack.append(next_result)\n",
    "        else:\n",
    "            while len(token_stack):\n",
    "                next_result = get_next_result(token_stack, result_stack)\n",
    "                result_stack.append(next_result)\n",
    "            token_stack.append(curr_token)\n",
    "            result_stack.append('')\n",
    "        curr_token_index += 1\n",
    "    while len(token_stack):\n",
    "        next_result = get_next_result(token_stack, result_stack)\n",
    "        result_stack.append(next_result)\n",
    "    return ''.join(result_stack)    \n",
    "\n",
    "def get_next_result(token_stack, result_stack):\n",
    "    if len(token_stack):\n",
    "        token = token_stack.pop()\n",
    "        top_result = ''\n",
    "        if len(result_stack):\n",
    "            top_result = result_stack.pop()\n",
    "        word, n_dups = parse_token(token)\n",
    "        new_result = ''\n",
    "        for _ in range(n_dups):\n",
    "            new_result += top_result\n",
    "        new_result = word + new_result\n",
    "        return new_result\n",
    "    return ''\n",
    "\n",
    "def parse_token(token):\n",
    "    last_alpha_index = -1\n",
    "    for letter in token:\n",
    "        if not letter.isdigit():\n",
    "            last_alpha_index += 1\n",
    "    word = token[0:last_alpha_index+1]\n",
    "    number = 1\n",
    "    if last_alpha_index != len(token)-1:\n",
    "        number = int(token[last_alpha_index+1:])\n",
    "    return word, number\n",
    "\n",
    "string = 'a3[b2[c1[d]]]e'\n",
    "decompress(string)"
   ]
  },
  {
   "cell_type": "markdown",
   "id": "e0a25970",
   "metadata": {},
   "source": [
    "# 50. Longest Movie Title"
   ]
  },
  {
   "cell_type": "markdown",
   "id": "b433237b",
   "metadata": {},
   "source": [
    "Return the longest movie title found by successively matching the last and first words in each title, joining to form new titles, given an array containing a list of movie titles."
   ]
  },
  {
   "cell_type": "raw",
   "id": "cb7c511a",
   "metadata": {},
   "source": [
    "For example: \n",
    "Input: ['OF MICE AND MEN', 'BLACK MASS', 'MEN IN BLACK\"]\n",
    "Output:  'OF MICE AND MEN IN BLACK MASS'\n",
    "\n",
    "Explanation:\n",
    "'OF MICE AND MEN' and 'MEN IN BLACK' join to form 'OF MICE AND MEN IN BLACK'. \n",
    "You could further join 'OF MICE AND MEN IN BLACK' wth 'BLACK MASS' to form 'OF MICE AND MEN IN BLACK MASS'."
   ]
  },
  {
   "cell_type": "markdown",
   "id": "e4561d7b",
   "metadata": {},
   "source": [
    "## EXPLAINATION\n",
    "This is another graph problem. Make an adjacent list for each title. You may need a hash table to help you perform this, mainly a hash table with first word as the key and the title as the value.\n",
    "\n",
    "Then create a method that goes through all the titles and performs a DFS. When using a DFS on a graph, you will need a stack/recursion to keep the current longest title found so far. For each neighbor, we will call a DFS and concat the result from that search to our title and check if that new result is better than our result found so far.\n",
    "\n",
    "Also, we will need a different visited set for each DFS, this is to avoid cyclic searches and to avoid doing useless searches. Say you have 'a b', 'b c', 'c d', 'd e'. If you begun your search at 'c d', you will get a result of 'c d d e'. 'c d' and 'd e' will be marked as visited but when you visit 'd e ' again, you should not begin a new DFS with this title. But for 'b c' or 'a b' its fine to start a new DFS search.\n",
    "\n",
    "Worst case occurs when the titles you start your DFS search will always create the next smallest title. Therefore it would be O(n^2), where N is the number of titles.\n",
    "\n",
    "You can avoid O(n^2) by using memoization. Therefore, you can get O(n). Also if there is a recursive solution, there will be a dp solution. You can also use your memoization as your global visited set in this case."
   ]
  },
  {
   "cell_type": "code",
   "execution_count": 12,
   "id": "8a14ca0d",
   "metadata": {},
   "outputs": [
    {
     "data": {
      "text/plain": [
       "'OF MICE AND MEN IN BLACK MASS'"
      ]
     },
     "execution_count": 12,
     "metadata": {},
     "output_type": "execute_result"
    }
   ],
   "source": [
    "import copy\n",
    "\n",
    "def get_longest_title(titles):\n",
    "    adj_list = create_adj_list(titles)\n",
    "    longest_title = list()\n",
    "    memo = dict()\n",
    "    for title in adj_list.keys():\n",
    "        if title not in memo:\n",
    "            local_visit = set()\n",
    "            local_result = visit_title(title,\n",
    "                                        adj_list, \n",
    "                                        local_visit,\n",
    "                                        memo)\n",
    "            if len(local_result) > len(longest_title):\n",
    "                longest_title = copy.deepcopy(local_result)\n",
    "    return concat_title(adj_list, longest_title)\n",
    "\n",
    "def concat_title(adj_list, titles):\n",
    "    if len(titles) == 0:\n",
    "        return ''\n",
    "    result = list()\n",
    "    result.append(titles[0])\n",
    "    for index in range(1, len(titles)):\n",
    "        title = titles[index]\n",
    "        words_in_title = title.split()\n",
    "        sub_title = words_in_title[1:]\n",
    "        result += sub_title\n",
    "    if is_cyclic(adj_list, titles):\n",
    "        result = result[:-1]\n",
    "    return ' '.join(result)\n",
    "        \n",
    "def is_cyclic(adj_list, titles):\n",
    "    if len(titles) <= 1:\n",
    "        return False\n",
    "    last_title = titles[-1]\n",
    "    first_title = titles[0]\n",
    "    if first_title in adj_list[last_title]:\n",
    "        return True\n",
    "    return False\n",
    "\n",
    "def create_adj_list(titles):\n",
    "    firstWord_to_titles_hash = dict()\n",
    "    result = dict()\n",
    "    for title in titles:\n",
    "        words = title.split()\n",
    "        if len(words) != 0:\n",
    "            first_word = words[0]\n",
    "            if first_word not in firstWord_to_titles_hash:\n",
    "                firstWord_to_titles_hash[first_word] = list()\n",
    "            firstWord_to_titles_hash[first_word].append(title)\n",
    "    for title in titles:\n",
    "        words = title.split()\n",
    "        if len(words) != 0:\n",
    "            last_word = words[-1]\n",
    "            if last_word in firstWord_to_titles_hash:\n",
    "                titles = firstWord_to_titles_hash[last_word]\n",
    "                result[title] = titles\n",
    "            else:\n",
    "                result[title] = list()\n",
    "    return result\n",
    "        \n",
    "def visit_title(title, adj_list, local_visit, memo):\n",
    "    if title in memo:\n",
    "        return memo[title]\n",
    "    result = list()\n",
    "    if title not in local_visit:\n",
    "        result.append(title)\n",
    "        local_visit.add(title)\n",
    "        neighbors = adj_list[title]\n",
    "        for next_title in neighbors:\n",
    "            local_result = visit_title(next_title,\n",
    "                                        adj_list, \n",
    "                                        local_visit,\n",
    "                                        memo)\n",
    "            new_result = [title] + local_result\n",
    "            if len(new_result) > len(result):\n",
    "                result = new_result\n",
    "        local_visit.remove(title)\n",
    "    memo[title] = copy.deepcopy(result)\n",
    "    return result\n",
    "\n",
    "Input = ['OF MICE AND MEN', 'BLACK MASS', 'MEN IN BLACK']\n",
    "get_longest_title(Input) "
   ]
  },
  {
   "cell_type": "markdown",
   "id": "220ddd8a",
   "metadata": {},
   "source": [
    "# 51. Max Product "
   ]
  },
  {
   "cell_type": "markdown",
   "id": "f3d2297a",
   "metadata": {},
   "source": [
    "Given an unsorted binary tree of numbers. Find the maximum product you can have with one continous path in the tree. You may not modify the tree."
   ]
  },
  {
   "cell_type": "raw",
   "id": "a8d303c2",
   "metadata": {},
   "source": [
    "        4\n",
    "      /   \\\n",
    "     1     2\n",
    "    / \\   / \\\n",
    "   3   5 8   6"
   ]
  },
  {
   "cell_type": "markdown",
   "id": "c8517a13",
   "metadata": {},
   "source": [
    "The result would be the product of [5,1,4,2,8] which is 340."
   ]
  },
  {
   "cell_type": "markdown",
   "id": "80264998",
   "metadata": {},
   "source": [
    "Similarly:"
   ]
  },
  {
   "cell_type": "raw",
   "id": "9ca0a38f",
   "metadata": {},
   "source": [
    "    4\n",
    "      /   \\\n",
    "     0     2\n",
    "    / \\   / \\\n",
    "   3   5 8   6"
   ]
  },
  {
   "cell_type": "markdown",
   "id": "0293279a",
   "metadata": {},
   "source": [
    "Then the result would be [8,2,6] which is 96."
   ]
  },
  {
   "cell_type": "markdown",
   "id": "3dfe0212",
   "metadata": {},
   "source": [
    "# EXPLAINATION"
   ]
  },
  {
   "cell_type": "markdown",
   "id": "1bf7dd8a",
   "metadata": {},
   "source": [
    "This is a very good problem to ask a person that has never seen this question. This really figures out how a person problem solves. This was how I approached the problem.\n",
    "\n",
    "First, I took the perspective of a node in the tree. What does a node need from its children? Let's use a more diluted example to explain this."
   ]
  },
  {
   "cell_type": "raw",
   "id": "7997361b",
   "metadata": {},
   "source": [
    " 4\n",
    "      /  \n",
    "     1   \n",
    "    / \\  \n",
    "   3   5 "
   ]
  },
  {
   "cell_type": "markdown",
   "id": "d78855d0",
   "metadata": {},
   "source": [
    "You can see that, [5,1,4] is the final result. But as node 1 you believe that [3,1,5] is the best result. Obviously, if node 4 was instead node 0, [3,1,5] would be the final result. So how do we choose?\n",
    "\n",
    "As a node, all you really care about is who the best left and right product. From there you can use those two and your node's value to figure out the best product. But as you've seen above, you need more than that. You also need to know who is the best left product that you can connect with your node as well as the best left product that is not connectable to create a path with your node, similar case for the right. Also consider the case, where you sum the products of your node and connectable left and right to create a product is that not connectable by a parent node."
   ]
  },
  {
   "cell_type": "code",
   "execution_count": 13,
   "id": "ab0a2271",
   "metadata": {},
   "outputs": [
    {
     "name": "stdout",
     "output_type": "stream",
     "text": [
      "320\n",
      "96\n",
      "4\n"
     ]
    }
   ],
   "source": [
    "def find_max_product_path_in(root):\n",
    "    if not root:\n",
    "        return 0\n",
    "    result1, result2 = find_max_product_path_helper(root)\n",
    "    return max(result1, result2)\n",
    "    \n",
    "def find_max_product_path_helper(root):\n",
    "    if not root.left and not root.right:\n",
    "        return root.val, 0\n",
    "    left_connectable_product, left_nonconnectable_product = 0, 0\n",
    "    right_connectable_product, right_nonconnectable_product = 0, 0\n",
    "    if root.left:\n",
    "        left_connectable_product, left_nonconnectable_product = find_max_product_path_helper(root.left)\n",
    "    if root.right:\n",
    "        right_connectable_product, right_nonconnectable_product = find_max_product_path_helper(root.right)\n",
    "        \n",
    "    best_connectable_product, best_nonconnectable_product = root.val, 0\n",
    "    \n",
    "    best_connectable_product = max(best_connectable_product, left_connectable_product * root.val)\n",
    "    best_connectable_product = max(best_connectable_product, right_connectable_product * root.val)\n",
    "    \n",
    "    best_nonconnectable_product = max(best_nonconnectable_product, left_nonconnectable_product)\n",
    "    best_nonconnectable_product = max(best_nonconnectable_product, right_nonconnectable_product)\n",
    "    new_product = root.val * left_connectable_product * right_connectable_product\n",
    "    best_nonconnectable_product = max(best_nonconnectable_product, new_product)\n",
    "    \n",
    "    return best_connectable_product, best_nonconnectable_product\n",
    "        \n",
    "class Node:\n",
    "    def __init__(self, value, left, right):\n",
    "        self.val = value\n",
    "        self.left = left\n",
    "        self.right = right\n",
    "\n",
    "node3 = Node(3, None, None)\n",
    "node5 = Node(5, None, None)\n",
    "node1 = Node(1, node3, node5)\n",
    "node8 = Node(8, None, None)\n",
    "node6 = Node(6, None, None)\n",
    "node2 = Node(2, node8, node6)\n",
    "root = Node(4, node1, node2)\n",
    "print(find_max_product_path_in(root)) # return 320\n",
    "\n",
    "node0 = Node(0, node3, node5)\n",
    "root = Node(4, node0, node2)\n",
    "print(find_max_product_path_in(root)) # returns 96\n",
    "\n",
    "node0A = Node(0, None, None)\n",
    "node0B = Node(0, None, None)\n",
    "root = Node(4, node0A, node0B)\n",
    "print(find_max_product_path_in(root))"
   ]
  },
  {
   "cell_type": "markdown",
   "id": "5de0dece",
   "metadata": {},
   "source": [
    "https://github.com/luceCoding/Programming-Interview-Questions-in-Python/tree/master/real_interview_questions/Google"
   ]
  },
  {
   "cell_type": "markdown",
   "id": "0cc15041",
   "metadata": {},
   "source": [
    "# 52 Remove Duplicates"
   ]
  },
  {
   "cell_type": "code",
   "execution_count": 1,
   "id": "7e9a9a4f",
   "metadata": {},
   "outputs": [
    {
     "name": "stdout",
     "output_type": "stream",
     "text": [
      "[0, 1, 2, 3, 4, 5]\n"
     ]
    }
   ],
   "source": [
    "def remove_duplicates_v2(arr):\n",
    "    dedupe_arr = []\n",
    "\n",
    "    for i in arr:\n",
    "        if i not in dedupe_arr:\n",
    "            dedupe_arr.append(i)\n",
    "\n",
    "    return dedupe_arr\n",
    "\n",
    "\n",
    "result = remove_duplicates_v2([0, 0, 0, 1, 1, 2, 2, 3, 4, 5])\n",
    "print(result)"
   ]
  },
  {
   "cell_type": "markdown",
   "id": "1eb1a9f4",
   "metadata": {},
   "source": [
    "# 53 Validate User"
   ]
  },
  {
   "cell_type": "markdown",
   "id": "d6896c8a",
   "metadata": {},
   "source": [
    " Have the function UsernameValidation(`str`) take the `str` parameter being passed and determine if the string is a valid username according to the following rules:\n",
    "\n",
    "1. The username is between 4 and 25 characters.\n",
    "2. It must start with a letter.\n",
    "3. It can only contain letters, numbers, and the underscore character.\n",
    "4. It cannot end with an underscore character.\n",
    "\n",
    "If the username is valid then your program should return the string `true`, otherwise return the string `false`."
   ]
  },
  {
   "cell_type": "code",
   "execution_count": 2,
   "id": "4ef62d38",
   "metadata": {},
   "outputs": [
    {
     "name": "stdout",
     "output_type": "stream",
     "text": [
      "aa_ False\n",
      "uaa__hello_worldW True\n"
     ]
    }
   ],
   "source": [
    "def UsernameValidation(strParam):\n",
    "\n",
    "  # username is between 4 and 25 characters\n",
    "  if len(strParam) < 4 or len(strParam) > 25 :\n",
    "    return False\n",
    "\n",
    "  # start with a letter\n",
    "  if not str(strParam[0]).isalpha():\n",
    "    return False;\n",
    "\n",
    "  # can't end with an underscore\n",
    "  if str(strParam[-1] ) == '_':\n",
    "    return False;\n",
    "\n",
    "  # contains only letters, numbers and underscore\n",
    "  valid_grammar = set('abcdefghijklmnopqrstuvwxyz0123456789_')\n",
    "\n",
    "  for ch in strParam:\n",
    "    if ch.lower() not in valid_grammar:\n",
    "      return False;\n",
    "\n",
    "  return True\n",
    "\n",
    "# keep this function call here\n",
    "TC1 = \"aa_\"\n",
    "TC2 = \"uaa__hello_worldW\"\n",
    "\n",
    "print(TC1, UsernameValidation(TC1))\n",
    "print(TC2, UsernameValidation(TC2))"
   ]
  },
  {
   "cell_type": "markdown",
   "id": "ea7c3e68",
   "metadata": {},
   "source": [
    "# 54 Search Unique "
   ]
  },
  {
   "cell_type": "markdown",
   "id": "108a7c65",
   "metadata": {},
   "source": [
    "Problem: Given a sorted array in which all elements appear twice (one after one) and one element appears only once. Find that element"
   ]
  },
  {
   "cell_type": "code",
   "execution_count": 3,
   "id": "fc5ef0bc",
   "metadata": {},
   "outputs": [
    {
     "name": "stdout",
     "output_type": "stream",
     "text": [
      "2\n"
     ]
    }
   ],
   "source": [
    "def searchUnique(arr, low, high):\n",
    "    # Base Cases\n",
    "    # 1. low is greater than high\n",
    "    # 2. Array with single element\n",
    "    if low > high:\n",
    "        return None\n",
    "    if low == high:\n",
    "        return arr[low]\n",
    "    # Find the middle element\n",
    "    mid = low + (high - low) // 2\n",
    "    # if the middle element lies at even place,\n",
    "    # check i and i+1, if they are same, go to right else left\n",
    "    if mid % 2 == 0:\n",
    "        if arr[mid] == arr[mid + 1]:\n",
    "            return searchUnique(arr, mid + 2, high)\n",
    "        else:\n",
    "            return searchUnique(arr, low, mid)\n",
    "    # if the middle element lies at odd place,\n",
    "    # check i-1 and i, if they are same, go to right else left\n",
    "    # Replace mid by mid-1 for above block\n",
    "    else:\n",
    "        if arr[mid - 1] == arr[mid]:\n",
    "            return searchUnique(arr, mid + 1, high)\n",
    "        else:\n",
    "            return searchUnique(arr, low, mid - 1)\n",
    "\n",
    "\n",
    "array = [1, 1, 2, 4, 4, 5, 5, 6, 6]\n",
    "result = searchUnique(array, 0, len(array) - 1)\n",
    "print(result)"
   ]
  },
  {
   "cell_type": "markdown",
   "id": "5cd65f9d",
   "metadata": {},
   "source": [
    "# 55. Stock Span"
   ]
  },
  {
   "cell_type": "markdown",
   "id": "2706fa2b",
   "metadata": {},
   "source": [
    "Context : The span Si of the stock’s price on a given day i is defined as the maximum number of consecutive days just before the given day, for which the price of the stock on the current day is less than or equal to its price on the given day."
   ]
  },
  {
   "cell_type": "markdown",
   "id": "a5b72515",
   "metadata": {},
   "source": [
    "<b>Problem:</b> We have a series of n daily price quotes for a stock and we need to calculate span of stock’s price for all n days"
   ]
  },
  {
   "cell_type": "code",
   "execution_count": 4,
   "id": "28b03fa9",
   "metadata": {},
   "outputs": [
    {
     "name": "stdout",
     "output_type": "stream",
     "text": [
      "[1, 1, 2, 4, 5, 1]\n"
     ]
    }
   ],
   "source": [
    "def calculate_span(stock_quotes, span):\n",
    "    # span for the first quote will always be 1\n",
    "    span[0] = 1\n",
    "    for i in range(1, len(stock_quotes), 1):\n",
    "        # initialize span value to be 1 for each ith quote\n",
    "        span[i] = 1\n",
    "        # scan for all the quotes to the left\n",
    "        j = i - 1\n",
    "        # if the preceeding quote has a value less than or equal to current quote\n",
    "        # increase the span value of the current quote\n",
    "        while j >= 0 and stock_quotes[i] >= stock_quotes[j]:\n",
    "            span[i] = span[i] + 1\n",
    "            j = j - 1\n",
    "    return span\n",
    "\n",
    "\n",
    "quotes = [10, 4, 5, 90, 120, 80]\n",
    "# initialize span as an empty list with same length as quotes\n",
    "span_list = [None] * len(quotes)\n",
    "print(calculate_span(quotes, span_list))"
   ]
  },
  {
   "cell_type": "markdown",
   "id": "4dbf1526",
   "metadata": {},
   "source": [
    "# 56. Process String "
   ]
  },
  {
   "cell_type": "markdown",
   "id": "d35615e9",
   "metadata": {},
   "source": [
    "Process the string \"k:1 |k1:2|k2:3|k3:4\" into a dictionary {k:1,k1:2,...}"
   ]
  },
  {
   "cell_type": "code",
   "execution_count": 6,
   "id": "991bf435",
   "metadata": {},
   "outputs": [
    {
     "name": "stdout",
     "output_type": "stream",
     "text": [
      "{'k': '1 ', 'k1': '2', 'k2': '3', 'k3': '4'}\n"
     ]
    }
   ],
   "source": [
    "StringToProcess = \"k:1 |k1:2|k2:3|k3:4\" \n",
    "\n",
    "d2 = dict()\n",
    "keyvalue_list = StringToProcess.split('|') # ['k:1' , 'k1:2' , 'k2:3' ,'k3:4']\n",
    "\n",
    "for keyval in keyvalue_list:\n",
    "  k,v = keyval.split(':') # (k,1) , (k1,2) , (k2,3) ,(k3,4)\n",
    "  d2[k] = v\n",
    "\n",
    "\n",
    "print(d2)"
   ]
  },
  {
   "cell_type": "markdown",
   "id": "cf42c53a",
   "metadata": {},
   "source": [
    "# 57. Non Repeating Character "
   ]
  },
  {
   "cell_type": "markdown",
   "id": "4958f050",
   "metadata": {},
   "source": [
    "Given an input string, it gives the first non repeating character in it"
   ]
  },
  {
   "cell_type": "code",
   "execution_count": 10,
   "id": "a69a8120",
   "metadata": {},
   "outputs": [
    {
     "name": "stdout",
     "output_type": "stream",
     "text": [
      "j\n",
      "None\n"
     ]
    }
   ],
   "source": [
    "def first_non_repeating(input_string):\n",
    "\n",
    "    flag = None\n",
    "    repeating = []\n",
    "    non_repeating = []\n",
    "\n",
    "    for char in input_string:\n",
    "        if char in non_repeating:\n",
    "            non_repeating.remove(char)\n",
    "            repeating.append(char)\n",
    "        else:\n",
    "            non_repeating.append(char)\n",
    "\n",
    "    if len(non_repeating) == 0:\n",
    "        pass\n",
    "    else:\n",
    "        flag = non_repeating[0]\n",
    "\n",
    "    return flag\n",
    "\n",
    "\n",
    "result = first_non_repeating(\"djebdedbekfrnkfnduwbdwkd\")\n",
    "print(result)  # j\n",
    "\n",
    "result = first_non_repeating(\"aabbcc\")\n",
    "print(result)"
   ]
  },
  {
   "cell_type": "markdown",
   "id": "6de594c1",
   "metadata": {},
   "source": [
    "# 58. Calculate Angle of Clock "
   ]
  },
  {
   "cell_type": "markdown",
   "id": "1c394346",
   "metadata": {},
   "source": [
    "Find the angle made by the hour hand and the minute hand at any given time. Assume it is an analog clock"
   ]
  },
  {
   "cell_type": "code",
   "execution_count": 11,
   "id": "d14c6a80",
   "metadata": {},
   "outputs": [
    {
     "name": "stdout",
     "output_type": "stream",
     "text": [
      "The angle between hour and minute hand is:  105.0 °\n"
     ]
    }
   ],
   "source": [
    "def calculateAngle(hour, minute):\n",
    "  if hour < 0 or minute < 0 or hour > 12 or minute > 60:\n",
    "    print(\"Wrong inputs given...\")\n",
    "    return\n",
    "  else:\n",
    "\n",
    "    if hour == 12:\n",
    "      hour = 0\n",
    "    if minute == 60:\n",
    "      minute = 0\n",
    "\n",
    "    # hour hand moves 360° in 12 hours i.e. \n",
    "    # 360/12*60 ==> 0.5° every minute\n",
    "    \n",
    "    # similarly minute hand moves 360° in 1 hour i.e.\n",
    "    # 360/60 ==> 6° every minute\n",
    "    \n",
    "    hour_angle = (hour * 60 + minute) * 0.5\n",
    "    minute_angle = minute * 6\n",
    "\n",
    "    # We take the absolute difference \n",
    "    # and then return the acute angle between the two\n",
    "    difference = abs(hour_angle - minute_angle)\n",
    "\n",
    "    return min(difference, 360 - difference)\n",
    "\n",
    "input_time = (9, 30)\n",
    "print(\"The angle between hour and minute hand is: \", calculateAngle(input_time[0], input_time[1]), '\\u00b0')"
   ]
  },
  {
   "cell_type": "markdown",
   "id": "2e369caf",
   "metadata": {},
   "source": [
    "# 59. Adjacent Element Product"
   ]
  },
  {
   "cell_type": "markdown",
   "id": "76b7d19f",
   "metadata": {},
   "source": [
    "Given an array of integers, find the pair of adjacent elements that has the largest product and return that product."
   ]
  },
  {
   "cell_type": "code",
   "execution_count": 12,
   "id": "45c9621b",
   "metadata": {},
   "outputs": [
    {
     "name": "stdout",
     "output_type": "stream",
     "text": [
      "21\n"
     ]
    }
   ],
   "source": [
    "def adjacentElementProductBF(inputArray):\n",
    "\tlargestProduct = -999999\n",
    "\t\n",
    "\t# for sanity check, assert if array contains at least 2 elements\n",
    "\tif len(inputArray) < 2:\n",
    "\t\tprint(\"No pairs exists\")\n",
    "\t\treturn -1\n",
    "\t\n",
    "\tfor i in range(0, len(inputArray)):\n",
    "\t\tfor j in range(i+1, len(inputArray)):\n",
    "\t\t\tcurrentProduct = inputArray[i]*inputArray[j]\n",
    "\t\t\t\n",
    "\t\t\tif currentProduct > largestProduct:\n",
    "\t\t\t\tlargestProduct = currentProduct\n",
    "\t\n",
    "\treturn largestProduct\n",
    "\n",
    "# Approach 2: (Sort & Pick Last Pair) - Sort the list and then pick the last two numbers\n",
    "# Caveat: All elements must be positive\n",
    "# Time Complexity: O(Nlog(N))\n",
    "\n",
    "def adjacentElementsProductSort(inputArray):\n",
    "\tsize = len(inputArray)\n",
    "\t\n",
    "\tif size < 2:\n",
    "\t\tprint(\"No Pairs exist\")\n",
    "\t\treturn -1\n",
    "\t\n",
    "\tsortedArray = sorted(inputArray)\n",
    "\treturn sortedArray[-1] * sortedArray[-2] \n",
    "\n",
    "\n",
    "def adjacentElementsProduct(inputArray):\t\n",
    "\n",
    "\tlength = int(len(inputArray))\n",
    "\n",
    "\tmaxm = inputArray[0]*inputArray[1]\n",
    "\tproduct = 1\n",
    "\tfor i in range(1, length-1):\n",
    "\t\tproduct = inputArray[i]*inputArray[i+1]\n",
    "\n",
    "\t\tif product>maxm:\n",
    "\t\t\tmaxm = product\n",
    "\n",
    "\treturn maxm\n",
    "\n",
    "\n",
    "# print(adjacentElementsProduct([3,6,7,5]))\n",
    "\n",
    "print(adjacentElementsProduct([3, 6, -2, -5, 7, 3]))"
   ]
  },
  {
   "cell_type": "markdown",
   "id": "56aa080d",
   "metadata": {},
   "source": [
    "https://github.com/devAmoghS/Python-Interview-Problems-for-Practice/blob/master/Interview_Questions.md"
   ]
  },
  {
   "cell_type": "markdown",
   "id": "3cdacd75",
   "metadata": {},
   "source": [
    "# 60. String to Integer"
   ]
  },
  {
   "cell_type": "markdown",
   "id": "3c5b41e8",
   "metadata": {},
   "source": [
    "Convert the string \"123\" into 123, without using the built-api `int()`<br>\n",
    "<b> Startegy</b>\n",
    "1. loop through each digit\n",
    "2. find the digit in range object of range(10)\n",
    "3. once the number is found, add it in placeholder\n",
    "4. Multiply each iteration by 10 (start with 0)"
   ]
  },
  {
   "cell_type": "code",
   "execution_count": 13,
   "id": "d190cd50",
   "metadata": {},
   "outputs": [
    {
     "name": "stdout",
     "output_type": "stream",
     "text": [
      "123\n"
     ]
    }
   ],
   "source": [
    "def atoi(inputStr):\n",
    "  outputNum = 0\n",
    "  for char in inputStr:\n",
    "    for i in range(10):\n",
    "      if str(i) == char:\n",
    "        outputNum = outputNum * 10 + i\n",
    "  return outputNum\n",
    "\n",
    "x = \"123\"\n",
    "y = atoi(x)\n",
    "print(y)"
   ]
  },
  {
   "cell_type": "markdown",
   "id": "75834d22",
   "metadata": {},
   "source": [
    "# 61. Check Semiprime"
   ]
  },
  {
   "cell_type": "markdown",
   "id": "65ac83b8",
   "metadata": {},
   "source": [
    "Context: A semiprime is a product of two prime numbers, not necessarily distinct.Squares of prime numbers are also semiprimes."
   ]
  },
  {
   "cell_type": "markdown",
   "id": "8d396b73",
   "metadata": {},
   "source": [
    "<b>Problem:</b> Find the numbers which are semiprimes,within a given range. For e.g. 1 to 100."
   ]
  },
  {
   "cell_type": "code",
   "execution_count": 14,
   "id": "d66d5357",
   "metadata": {},
   "outputs": [
    {
     "name": "stdout",
     "output_type": "stream",
     "text": [
      "4 6 9 10 14 15 21 22 25 26 33 34 35 38 39 46 49 51 55 57 58 62 65 69 74 77 82 85 86 87 91 93 94 95 "
     ]
    }
   ],
   "source": [
    "def isSemiprime(num):\n",
    "    # start with the smallest prime\n",
    "    prime = 2\n",
    "    # initialize counter to 0\n",
    "    count = 0\n",
    "    # Design of while loop:\n",
    "    # 1. if count exceeds 2, it is not a semiprime, e.g. 30 = 2*3*5\n",
    "    # 2. when the number becomes 1, we have found the second prime\n",
    "    while count < 3 and num != 1:\n",
    "        # if the number is divisible by current prime,\n",
    "        # increment count, else move to new prime\n",
    "        if not (num % prime):\n",
    "            num = num / prime\n",
    "            count = count + 1\n",
    "        else:\n",
    "            prime = prime + 1\n",
    "    # if count is two, given number is a semiprime\n",
    "    return count == 2\n",
    "\n",
    "\n",
    "for i in range(1, 100):\n",
    "    if isSemiprime(i):\n",
    "        print(i, end=\" \")"
   ]
  },
  {
   "cell_type": "markdown",
   "id": "f09834eb",
   "metadata": {},
   "source": [
    "# 62. Determine if a string is a permutation of another string."
   ]
  },
  {
   "cell_type": "code",
   "execution_count": 1,
   "id": "1de7d46f",
   "metadata": {},
   "outputs": [],
   "source": [
    "class Permutations(object):\n",
    "\n",
    "    def is_permutation(self, str1, str2):\n",
    "        if str1 is None or str2 is None:\n",
    "            return False\n",
    "        return sorted(str1) == sorted(str2)"
   ]
  },
  {
   "cell_type": "code",
   "execution_count": 2,
   "id": "b5b4c9d0",
   "metadata": {},
   "outputs": [],
   "source": [
    "from collections import defaultdict\n",
    "\n",
    "\n",
    "class PermutationsAlt(object):\n",
    "\n",
    "    def is_permutation(self, str1, str2):\n",
    "        if str1 is None or str2 is None:\n",
    "            return False\n",
    "        if len(str1) != len(str2):\n",
    "            return False\n",
    "        unique_counts1 = defaultdict(int)\n",
    "        unique_counts2 = defaultdict(int)\n",
    "        for char in str1:\n",
    "            unique_counts1[char] += 1\n",
    "        for char in str2:\n",
    "            unique_counts2[char] += 1\n",
    "        return unique_counts1 == unique_counts2"
   ]
  },
  {
   "cell_type": "code",
   "execution_count": 3,
   "id": "65c94c59",
   "metadata": {},
   "outputs": [],
   "source": [
    "import unittest\n",
    "\n",
    "\n",
    "class TestPermutation(unittest.TestCase):\n",
    "\n",
    "    def test_permutation(self, func):\n",
    "        self.assertEqual(func(None, 'foo'), False)\n",
    "        self.assertEqual(func('', 'foo'), False)\n",
    "        self.assertEqual(func('Nib', 'bin'), False)\n",
    "        self.assertEqual(func('act', 'cat'), True)\n",
    "        self.assertEqual(func('a ct', 'ca t'), True)\n",
    "        self.assertEqual(func('dog', 'doggo'), False)\n",
    "        print('Success: test_permutation')"
   ]
  },
  {
   "cell_type": "code",
   "execution_count": 4,
   "id": "385fbcef",
   "metadata": {},
   "outputs": [],
   "source": [
    "def main():\n",
    "    test = TestPermutation()\n",
    "    permutations = Permutations()\n",
    "    test.test_permutation(permutations.is_permutation)\n",
    "    try:\n",
    "        permutations_alt = PermutationsAlt()\n",
    "        test.test_permutation(permutations_alt.is_permutation)\n",
    "    except NameError:\n",
    "        # Alternate solutions are only defined\n",
    "        # in the solutions file\n",
    "        pass"
   ]
  },
  {
   "cell_type": "code",
   "execution_count": 5,
   "id": "14bd2342",
   "metadata": {},
   "outputs": [
    {
     "name": "stdout",
     "output_type": "stream",
     "text": [
      "Success: test_permutation\n",
      "Success: test_permutation\n"
     ]
    }
   ],
   "source": [
    "main()"
   ]
  },
  {
   "cell_type": "markdown",
   "id": "dcef8dfd",
   "metadata": {},
   "source": [
    "# 63 Determine if a string s1 is a rotation of another string s2, by calling (only once) a function is_substring."
   ]
  },
  {
   "cell_type": "code",
   "execution_count": 6,
   "id": "58406fdb",
   "metadata": {},
   "outputs": [],
   "source": [
    "class Rotation(object):\n",
    "\n",
    "    def is_substring(self, s1, s2):\n",
    "        return s1 in s2\n",
    "\n",
    "    def is_rotation(self, s1, s2):\n",
    "        if s1 is None or s2 is None:\n",
    "            return False\n",
    "        if len(s1) != len(s2):\n",
    "            return False\n",
    "        return self.is_substring(s1, s2 + s2)"
   ]
  },
  {
   "cell_type": "code",
   "execution_count": 13,
   "id": "c489cad9",
   "metadata": {},
   "outputs": [],
   "source": [
    "import unittest\n",
    "\n",
    "\n",
    "class TestRotation(unittest.TestCase):\n",
    "\n",
    "    def test_rotation(self):\n",
    "        rotation = Rotation()\n",
    "        self.assertEqual(rotation.is_rotation('o', 'oo'), False)\n",
    "        self.assertEqual(rotation.is_rotation(None, 'foo'), False)\n",
    "        self.assertEqual(rotation.is_rotation('', 'foo'), False)\n",
    "        self.assertEqual(rotation.is_rotation('', ''), True)\n",
    "        self.assertEqual(rotation.is_rotation('foobarbaz', 'barbazfoo'), True)\n",
    "        print('Success: test_rotation')\n",
    "\n",
    "\n",
    "def main():\n",
    "    test = TestRotation()\n",
    "    test.test_rotation()"
   ]
  },
  {
   "cell_type": "code",
   "execution_count": 14,
   "id": "be259ede",
   "metadata": {},
   "outputs": [
    {
     "name": "stdout",
     "output_type": "stream",
     "text": [
      "Success: test_rotation\n"
     ]
    }
   ],
   "source": [
    "main()"
   ]
  },
  {
   "cell_type": "markdown",
   "id": "b6056a1d",
   "metadata": {},
   "source": [
    "# 64 Find the single different char between two strings."
   ]
  },
  {
   "cell_type": "code",
   "execution_count": 15,
   "id": "c699e996",
   "metadata": {},
   "outputs": [],
   "source": [
    "class Solution(object):\n",
    "\n",
    "    def find_diff(self, str1, str2):\n",
    "        if str1 is None or str2 is None:\n",
    "            raise TypeError('str1 or str2 cannot be None')\n",
    "        seen = {}\n",
    "        for char in str1:\n",
    "            if char in seen:\n",
    "                seen[char] += 1\n",
    "            else:\n",
    "                seen[char] = 1\n",
    "        for char in str2:\n",
    "            try:\n",
    "                seen[char] -= 1\n",
    "            except KeyError:\n",
    "                return char\n",
    "            if seen[char] < 0:\n",
    "                return char\n",
    "        for char, count in seen.items():\n",
    "            return char\n",
    "\n",
    "    def find_diff_xor(self, str1, str2):\n",
    "        if str1 is None or str2 is None:\n",
    "            raise TypeError('str1 or str2 cannot be None')\n",
    "        result = 0\n",
    "        for char in str1:\n",
    "            result ^= ord(char)\n",
    "        for char in str2:\n",
    "            result ^= ord(char)\n",
    "        return chr(result)"
   ]
  },
  {
   "cell_type": "code",
   "execution_count": 16,
   "id": "ef6af506",
   "metadata": {},
   "outputs": [],
   "source": [
    "import unittest\n",
    "\n",
    "\n",
    "class TestFindDiff(unittest.TestCase):\n",
    "\n",
    "    def test_find_diff(self):\n",
    "        solution = Solution()\n",
    "        self.assertRaises(TypeError, solution.find_diff, None)\n",
    "        self.assertEqual(solution.find_diff('ab', 'aab'), 'a')\n",
    "        self.assertEqual(solution.find_diff('aab', 'ab'), 'a')\n",
    "        self.assertEqual(solution.find_diff('abcd', 'abcde'), 'e')\n",
    "        self.assertEqual(solution.find_diff('aaabbcdd', 'abdbacade'), 'e')\n",
    "        self.assertEqual(solution.find_diff_xor('ab', 'aab'), 'a')\n",
    "        self.assertEqual(solution.find_diff_xor('aab', 'ab'), 'a')\n",
    "        self.assertEqual(solution.find_diff_xor('abcd', 'abcde'), 'e')\n",
    "        self.assertEqual(solution.find_diff_xor('aaabbcdd', 'abdbacade'), 'e')\n",
    "        print('Success: test_find_diff')\n",
    "\n",
    "\n",
    "def main():\n",
    "    test = TestFindDiff()\n",
    "    test.test_find_diff()"
   ]
  },
  {
   "cell_type": "code",
   "execution_count": 17,
   "id": "93a837e4",
   "metadata": {},
   "outputs": [
    {
     "name": "stdout",
     "output_type": "stream",
     "text": [
      "Success: test_find_diff\n"
     ]
    }
   ],
   "source": [
    "main()"
   ]
  },
  {
   "cell_type": "markdown",
   "id": "5339fc32",
   "metadata": {},
   "source": [
    "# 65 Implement an algorithm to determine if a string has all unique characters."
   ]
  },
  {
   "cell_type": "code",
   "execution_count": 18,
   "id": "427101ee",
   "metadata": {},
   "outputs": [],
   "source": [
    "class UniqueCharsSet(object):\n",
    "\n",
    "    def has_unique_chars(self, string):\n",
    "        if string is None:\n",
    "            return False\n",
    "        return len(set(string)) == len(string)"
   ]
  },
  {
   "cell_type": "code",
   "execution_count": 19,
   "id": "f24aaa82",
   "metadata": {},
   "outputs": [],
   "source": [
    "class UniqueChars(object):\n",
    "\n",
    "    def has_unique_chars(self, string):\n",
    "        if string is None:\n",
    "            return False\n",
    "        chars_set = set()\n",
    "        for char in string:\n",
    "            if char in chars_set:\n",
    "                return False\n",
    "            else:\n",
    "                chars_set.add(char)\n",
    "        return True"
   ]
  },
  {
   "cell_type": "code",
   "execution_count": 20,
   "id": "ac235f01",
   "metadata": {},
   "outputs": [],
   "source": [
    "class UniqueCharsInPlace(object):\n",
    "\n",
    "    def has_unique_chars(self, string):\n",
    "        if string is None:\n",
    "            return False\n",
    "        for char in string:\n",
    "            if string.count(char) > 1:\n",
    "                return False\n",
    "        return True"
   ]
  },
  {
   "cell_type": "code",
   "execution_count": 21,
   "id": "f29f735a",
   "metadata": {},
   "outputs": [],
   "source": [
    "import unittest\n",
    "\n",
    "\n",
    "class TestUniqueChars(unittest.TestCase):\n",
    "\n",
    "    def test_unique_chars(self, func):\n",
    "        self.assertEqual(func(None), False)\n",
    "        self.assertEqual(func(''), True)\n",
    "        self.assertEqual(func('foo'), False)\n",
    "        self.assertEqual(func('bar'), True)\n",
    "        print('Success: test_unique_chars')\n",
    "\n",
    "\n",
    "def main():\n",
    "    test = TestUniqueChars()\n",
    "    unique_chars = UniqueChars()\n",
    "    test.test_unique_chars(unique_chars.has_unique_chars)\n",
    "    try:\n",
    "        unique_chars_set = UniqueCharsSet()\n",
    "        test.test_unique_chars(unique_chars_set.has_unique_chars)\n",
    "        unique_chars_in_place = UniqueCharsInPlace()\n",
    "        test.test_unique_chars(unique_chars_in_place.has_unique_chars)\n",
    "    except NameError:\n",
    "        # Alternate solutions are only defined\n",
    "        # in the solutions file\n",
    "        pass"
   ]
  },
  {
   "cell_type": "code",
   "execution_count": 22,
   "id": "8f0308c2",
   "metadata": {},
   "outputs": [
    {
     "name": "stdout",
     "output_type": "stream",
     "text": [
      "Success: test_unique_chars\n",
      "Success: test_unique_chars\n",
      "Success: test_unique_chars\n"
     ]
    }
   ],
   "source": [
    "main()"
   ]
  },
  {
   "cell_type": "markdown",
   "id": "21b88acc",
   "metadata": {},
   "source": [
    "# 66 Given an array, find the two indices that sum to a specific value"
   ]
  },
  {
   "cell_type": "code",
   "execution_count": 23,
   "id": "1ad4c725",
   "metadata": {},
   "outputs": [],
   "source": [
    "class Solution(object):\n",
    "\n",
    "    def two_sum(self, nums, target):\n",
    "        if nums is None or target is None:\n",
    "            raise TypeError('nums or target cannot be None')\n",
    "        if not nums:\n",
    "            raise ValueError('nums cannot be empty')\n",
    "        cache = {}\n",
    "        for index, num in enumerate(nums):\n",
    "            cache_target = target - num\n",
    "            if num in cache:\n",
    "                return [cache[num], index]\n",
    "            else:\n",
    "                cache[cache_target] = index\n",
    "        return None"
   ]
  },
  {
   "cell_type": "code",
   "execution_count": 24,
   "id": "818d057f",
   "metadata": {},
   "outputs": [],
   "source": [
    "import unittest\n",
    "\n",
    "\n",
    "class TestTwoSum(unittest.TestCase):\n",
    "\n",
    "    def test_two_sum(self):\n",
    "        solution = Solution()\n",
    "        self.assertRaises(TypeError, solution.two_sum, None, None)\n",
    "        self.assertRaises(ValueError, solution.two_sum, [], 0)\n",
    "        target = 7\n",
    "        nums = [1, 3, 2, -7, 5]\n",
    "        expected = [2, 4]\n",
    "        self.assertEqual(solution.two_sum(nums, target), expected)\n",
    "        print('Success: test_two_sum')\n",
    "\n",
    "\n",
    "def main():\n",
    "    test = TestTwoSum()\n",
    "    test.test_two_sum()"
   ]
  },
  {
   "cell_type": "code",
   "execution_count": 25,
   "id": "feee5ed3",
   "metadata": {},
   "outputs": [
    {
     "name": "stdout",
     "output_type": "stream",
     "text": [
      "Success: test_two_sum\n"
     ]
    }
   ],
   "source": [
    "main()"
   ]
  },
  {
   "cell_type": "markdown",
   "id": "115312ff",
   "metadata": {},
   "source": [
    "# 67 Pairs of Sum"
   ]
  },
  {
   "cell_type": "markdown",
   "id": "85aeda26",
   "metadata": {},
   "source": [
    "Take a number and find the pairs of that number if we do the sum of those two number that will make that number"
   ]
  },
  {
   "cell_type": "code",
   "execution_count": 2,
   "id": "eee9bf5e",
   "metadata": {},
   "outputs": [
    {
     "name": "stdout",
     "output_type": "stream",
     "text": [
      "Original number11\n",
      "How many pairs,type all for all pairs1\n",
      "1 10\n"
     ]
    }
   ],
   "source": [
    "num = int(input(\"Original number\"))\n",
    "lines = input(\"How many pairs,type all for all pairs\")\n",
    "if lines.lower() == \"all\":\n",
    "    lines = num//2\n",
    "else:\n",
    "    lines = int(lines)\n",
    "for i in range(1,lines+1):\n",
    "    print(i,num-i)\n"
   ]
  },
  {
   "cell_type": "markdown",
   "id": "4f8e5f3f",
   "metadata": {},
   "source": [
    "# 68 Check for balanced parentheses"
   ]
  },
  {
   "cell_type": "code",
   "execution_count": 6,
   "id": "a6da7dbf",
   "metadata": {},
   "outputs": [
    {
     "name": "stdout",
     "output_type": "stream",
     "text": [
      "{[]{()}} - Balanced\n",
      "[{}{})(] - Unbalanced\n",
      "((() - Unbalanced\n"
     ]
    }
   ],
   "source": [
    "open_list = [\"[\",\"{\",\"(\"]\n",
    "close_list = [\"]\",\"}\",\")\"]\n",
    "  \n",
    "# Function to check parentheses\n",
    "def check(myStr):\n",
    "    stack = []\n",
    "    for i in myStr:\n",
    "        if i in open_list:\n",
    "            stack.append(i)\n",
    "        elif i in close_list:\n",
    "            pos = close_list.index(i)\n",
    "            if ((len(stack) > 0) and\n",
    "                (open_list[pos] == stack[len(stack)-1])):\n",
    "                stack.pop()\n",
    "            else:\n",
    "                return \"Unbalanced\"\n",
    "    if len(stack) == 0:\n",
    "        return \"Balanced\"\n",
    "    else:\n",
    "        return \"Unbalanced\"\n",
    "  \n",
    "  \n",
    "# Driver code\n",
    "string = \"{[]{()}}\"\n",
    "print(string,\"-\", check(string))\n",
    "  \n",
    "string = \"[{}{})(]\"\n",
    "print(string,\"-\", check(string))\n",
    "  \n",
    "string = \"((()\"\n",
    "print(string,\"-\",check(string))"
   ]
  },
  {
   "cell_type": "markdown",
   "id": "91dfde48",
   "metadata": {},
   "source": [
    "# 69 Print Tuple Values "
   ]
  },
  {
   "cell_type": "markdown",
   "id": "c3da846b",
   "metadata": {},
   "source": [
    "Question:\n",
    "With a given tuple (1,2,3,4,5,6,7,8,9,10), write a program to print the first half values in one line and the last half values in one line."
   ]
  },
  {
   "cell_type": "code",
   "execution_count": 10,
   "id": "9042bbde",
   "metadata": {},
   "outputs": [
    {
     "name": "stdout",
     "output_type": "stream",
     "text": [
      "(1, 2, 3, 4, 5)\n",
      "(6, 7, 8, 9, 10)\n"
     ]
    }
   ],
   "source": [
    "tp=(1,2,3,4,5,6,7,8,9,10)\n",
    "tp1=tp[:5]\n",
    "tp2=tp[5:]\n",
    "print(tp1)\n",
    "print(tp2)\n"
   ]
  },
  {
   "cell_type": "markdown",
   "id": "23b66b48",
   "metadata": {},
   "source": [
    "# 70 Chinese Puzzle "
   ]
  },
  {
   "cell_type": "markdown",
   "id": "546a45db",
   "metadata": {},
   "source": [
    "Write a program to solve a classic ancient Chinese puzzle: \n",
    "We count 35 heads and 94 legs among the chickens and rabbits in a farm. How many rabbits and how many chickens do we have?"
   ]
  },
  {
   "cell_type": "code",
   "execution_count": 11,
   "id": "7913e888",
   "metadata": {},
   "outputs": [],
   "source": [
    "def solve(numheads,numlegs):\n",
    "    ns='No solutions!'\n",
    "    for i in range(numheads+1):\n",
    "        j=numheads-i\n",
    "        if 2*i+4*j==numlegs:\n",
    "            return i,j\n",
    "    return ns,ns"
   ]
  },
  {
   "cell_type": "code",
   "execution_count": 12,
   "id": "7fc75b21",
   "metadata": {},
   "outputs": [
    {
     "data": {
      "text/plain": [
       "(23, 12)"
      ]
     },
     "execution_count": 12,
     "metadata": {},
     "output_type": "execute_result"
    }
   ],
   "source": [
    "numheads=35\n",
    "numlegs=94\n",
    "solutions=solve(numheads,numlegs)\n",
    "solutions"
   ]
  },
  {
   "cell_type": "markdown",
   "id": "639966bf",
   "metadata": {},
   "source": [
    "# 71 Generate String "
   ]
  },
  {
   "cell_type": "markdown",
   "id": "a2121df7",
   "metadata": {},
   "source": [
    "Question:\n",
    "\n",
    "Please write a program to generate all sentences where subject is in [\"I\", \"You\"] and verb is in [\"Play\", \"Love\"] and the object is in [\"Hockey\",\"Football\"]."
   ]
  },
  {
   "cell_type": "code",
   "execution_count": 13,
   "id": "d44dddfa",
   "metadata": {},
   "outputs": [
    {
     "name": "stdout",
     "output_type": "stream",
     "text": [
      "I Play Hockey.\n",
      "I Play Football.\n",
      "I Love Hockey.\n",
      "I Love Football.\n",
      "You Play Hockey.\n",
      "You Play Football.\n",
      "You Love Hockey.\n",
      "You Love Football.\n"
     ]
    }
   ],
   "source": [
    "subjects=[\"I\", \"You\"]\n",
    "verbs=[\"Play\", \"Love\"]\n",
    "objects=[\"Hockey\",\"Football\"]\n",
    "for i in range(len(subjects)):\n",
    "    for j in range(len(verbs)):\n",
    "        for k in range(len(objects)):\n",
    "            sentence = \"%s %s %s.\" % (subjects[i], verbs[j], objects[k])\n",
    "            print(sentence)"
   ]
  },
  {
   "cell_type": "markdown",
   "id": "550e909d",
   "metadata": {},
   "source": [
    "# 72 Staircase"
   ]
  },
  {
   "cell_type": "markdown",
   "id": "d9fa61cf",
   "metadata": {},
   "source": [
    "There's a staircase with N steps, and you can climb 1 or 2 steps at a time. Given N, write a function that \n",
    "returns the number of unique ways you can climb the staircase. The order of the steps matters.\n",
    "For example, if N is 4, then there are 5 unique ways"
   ]
  },
  {
   "cell_type": "raw",
   "id": "2f76ccc5",
   "metadata": {},
   "source": [
    "1, 1, 1, 1\n",
    "2, 1, 1\n",
    "1, 2, 1\n",
    "1, 1, 2\n",
    "2, 2\n",
    "What if, instead of being able to climb 1 or 2 steps at a time, you could climb any number from a set of \n",
    "positive integers X? For example, if X = {1, 3, 5}, you could climb 1, 3, or 5 steps at a time. Generalize \n",
    "your function to take in X."
   ]
  },
  {
   "cell_type": "code",
   "execution_count": 14,
   "id": "4170f954",
   "metadata": {},
   "outputs": [],
   "source": [
    "def climbStairs(n):\n",
    "\tif n  == 1:\n",
    "\t\treturn 1\n",
    "\ta,b = 1,2\n",
    "\tfor _ in range(2,n):\n",
    "\t\ta,b = b, a+b\n",
    "\treturn b"
   ]
  },
  {
   "cell_type": "code",
   "execution_count": 16,
   "id": "e644fd5d",
   "metadata": {},
   "outputs": [
    {
     "data": {
      "text/plain": [
       "21"
      ]
     },
     "execution_count": 16,
     "metadata": {},
     "output_type": "execute_result"
    }
   ],
   "source": [
    "climbStairs(7)"
   ]
  },
  {
   "cell_type": "markdown",
   "id": "406e2f3a",
   "metadata": {},
   "source": [
    "# 73 Palindrome "
   ]
  },
  {
   "cell_type": "markdown",
   "id": "6437a086",
   "metadata": {},
   "source": [
    "Given a string, determine whether any permutation of it is a palindrome.\n",
    "For example, carrace should return true, since it can be rearranged to form racecar, which is a palindrome. \n",
    "daily should return false, since there's no rearrangement that can form a palindrome."
   ]
  },
  {
   "cell_type": "code",
   "execution_count": 17,
   "id": "01321770",
   "metadata": {},
   "outputs": [],
   "source": [
    "def isPalindrome(s):\n",
    "    temp = set()\n",
    "    for c in s:\n",
    "        if c in temp:\n",
    "            temp.remove(c)\n",
    "        else:\n",
    "            temp.add(c)\n",
    "    return len(temp) <= 1"
   ]
  },
  {
   "cell_type": "code",
   "execution_count": 18,
   "id": "8abb82a4",
   "metadata": {},
   "outputs": [
    {
     "data": {
      "text/plain": [
       "True"
      ]
     },
     "execution_count": 18,
     "metadata": {},
     "output_type": "execute_result"
    }
   ],
   "source": [
    "isPalindrome('carrace')"
   ]
  },
  {
   "cell_type": "markdown",
   "id": "6bc6aad9",
   "metadata": {},
   "source": [
    "# 74 Common Denominator "
   ]
  },
  {
   "cell_type": "markdown",
   "id": "442a01c7",
   "metadata": {},
   "source": [
    "Given n numbers, find the greatest common denominator between them.\n",
    "For example, given the numbers [42, 56, 14], return 14."
   ]
  },
  {
   "cell_type": "code",
   "execution_count": 19,
   "id": "67f8a51b",
   "metadata": {},
   "outputs": [],
   "source": [
    "def gcd(a,b):\n",
    "    if b == 0:\n",
    "        return a\n",
    "    return gcd(b, a%b)\n",
    "    \n",
    "def greatestDenominator(arr):\n",
    "    if len(arr) == 1:\n",
    "        return arr[0]\n",
    "    gcdd = gcd(arr[0],arr[1])\n",
    "    for i in range(2,len(arr)):\n",
    "        gcdd = gcd(gcdd,arr[i])\n",
    "    return gcdd"
   ]
  },
  {
   "cell_type": "code",
   "execution_count": 20,
   "id": "1a9c2fd6",
   "metadata": {},
   "outputs": [
    {
     "data": {
      "text/plain": [
       "2"
      ]
     },
     "execution_count": 20,
     "metadata": {},
     "output_type": "execute_result"
    }
   ],
   "source": [
    "greatestDenominator([2,40,46])"
   ]
  },
  {
   "cell_type": "markdown",
   "id": "0c1baf7d",
   "metadata": {},
   "source": [
    "# 75 Rotate Array "
   ]
  },
  {
   "cell_type": "markdown",
   "id": "20d0816e",
   "metadata": {},
   "source": [
    "Given an array and a number k that's smaller than the length of the array, rotate the array to the right k elements in-place."
   ]
  },
  {
   "cell_type": "code",
   "execution_count": 24,
   "id": "df31e881",
   "metadata": {},
   "outputs": [],
   "source": [
    "def rotate(nums, k):\n",
    "    k = k % len(nums)\n",
    "    count = start = 0\n",
    "    while count < len(nums):\n",
    "        cur = start\n",
    "        prev = nums[start]\n",
    "        while True:\n",
    "            nextIndex = (cur + k) %len(nums)\n",
    "            nums[nextIndex], prev = prev, nums[nextIndex]\n",
    "            cur = nextIndex\n",
    "            count += 1\n",
    "            if start == cur:\n",
    "                break\n",
    "        start += 1\n",
    "    print(nums)"
   ]
  },
  {
   "cell_type": "code",
   "execution_count": 25,
   "id": "5abb1c08",
   "metadata": {},
   "outputs": [
    {
     "name": "stdout",
     "output_type": "stream",
     "text": [
      "[663, 67, 1, 23, 45]\n",
      "None\n"
     ]
    }
   ],
   "source": [
    "print(rotate([1,23,45,663,67],2))"
   ]
  },
  {
   "cell_type": "markdown",
   "id": "a4e3e8a4",
   "metadata": {},
   "source": [
    "# 76 Stack Implementation"
   ]
  },
  {
   "cell_type": "markdown",
   "id": "5935883b",
   "metadata": {},
   "source": [
    "Implement a stack that has the following methods:\n",
    "    push(val), which pushes an element onto the stack\n",
    "    pop(), which pops off and returns the topmost element of the stack. If there are no elements in the stack, \n",
    "           then it should throw an error or return null.\n",
    "    max(), which returns the maximum value in the stack currently. If there are no elements in the stack, \n",
    "           then it should throw an error or return null.\n",
    "Each method should run in constant time."
   ]
  },
  {
   "cell_type": "code",
   "execution_count": 25,
   "id": "1c6a4c2b",
   "metadata": {},
   "outputs": [],
   "source": [
    "class maxStack:\n",
    "    def __init__(self):\n",
    "        self.stack = []\n",
    "        self.maxS = []\n",
    "    \n",
    "    def push(self, data):\n",
    "        self.stack.append(data)\n",
    "        if not self.maxS or self.maxS[-1] <= data:\n",
    "            self.maxS.append(data)\n",
    "\n",
    "    def pop(self):\n",
    "        if not self.stack:\n",
    "            return None\n",
    "        popData = self.stack.pop()\n",
    "        if self.maxS[-1] == popData:\n",
    "            self.maxS.pop()\n",
    "        return popData\n",
    "    \n",
    "    def max(self):\n",
    "        if not self.maxS:\n",
    "            return None\n",
    "        return self.maxS[-1]"
   ]
  },
  {
   "cell_type": "markdown",
   "id": "9919fcd0",
   "metadata": {},
   "source": [
    "# 77 Sum of Contigious Array "
   ]
  },
  {
   "cell_type": "markdown",
   "id": "3abbdf17",
   "metadata": {},
   "source": [
    "Given an array of numbers, find the maximum sum of any contiguous subarray of the array.\n",
    "For example, given the array [34, -50, 42, 14, -5, 86], the maximum sum would be 137, since we would take elements \n",
    "42, 14, -5, and 86.\n",
    "Given the array [-5, -1, -8, -9], the maximum sum would be 0, since we would not take any elements."
   ]
  },
  {
   "cell_type": "code",
   "execution_count": 26,
   "id": "85591020",
   "metadata": {},
   "outputs": [],
   "source": [
    "def maxSubArray(nums):\n",
    "    if len(nums) == 0:\n",
    "        return 0\n",
    "    Sum = 0\n",
    "    result = Sum \n",
    "    for i in range(len(nums)):\n",
    "        Sum = (Sum + nums[i]) if(Sum+nums[i]) >= nums[i] else nums[i]\n",
    "        result = Sum if Sum > result else result\n",
    "    return result"
   ]
  },
  {
   "cell_type": "code",
   "execution_count": 26,
   "id": "9844e431",
   "metadata": {},
   "outputs": [
    {
     "name": "stdout",
     "output_type": "stream",
     "text": [
      "121\n"
     ]
    }
   ],
   "source": [
    "s = [34, -50, 42, 14, -5, 86]\n",
    "print(sum(s))"
   ]
  },
  {
   "cell_type": "code",
   "execution_count": 27,
   "id": "6454b5ab",
   "metadata": {},
   "outputs": [
    {
     "data": {
      "text/plain": [
       "137"
      ]
     },
     "execution_count": 27,
     "metadata": {},
     "output_type": "execute_result"
    }
   ],
   "source": [
    "maxSubArray([34, -50, 42, 14, -5, 86])"
   ]
  },
  {
   "cell_type": "markdown",
   "id": "bf56ac62",
   "metadata": {},
   "source": [
    "# 78 Clockwise Spiral "
   ]
  },
  {
   "cell_type": "raw",
   "id": "6af2763d",
   "metadata": {},
   "source": [
    "Given a N by M matrix of numbers, print out the matrix in a clockwise spiral.\n",
    "For example, given the following matrix:\n",
    "[[1,  2,  3,  4,  5],\n",
    " [6,  7,  8,  9,  10],\n",
    " [11, 12, 13, 14, 15],\n",
    " [16, 17, 18, 19, 20]]\n",
    "You should print out the following:\n",
    "1\n",
    "2\n",
    "3\n",
    "4\n",
    "5\n",
    "10\n",
    "15\n",
    "20\n",
    "19\n",
    "18\n",
    "17\n",
    "16\n",
    "11\n",
    "6\n",
    "7\n",
    "8\n",
    "9\n",
    "14\n",
    "13\n",
    "12"
   ]
  },
  {
   "cell_type": "code",
   "execution_count": 28,
   "id": "4b0ef78d",
   "metadata": {},
   "outputs": [],
   "source": [
    "def spiralOrder(matrix):\n",
    "    if matrix == []:\n",
    "        return []\n",
    "    top = left = 0\n",
    "    bottom = len(matrix) - 1\n",
    "    right = len(matrix[0]) - 1\n",
    "    direction = 0\n",
    "    while top <= bottom and left <= right:\n",
    "        if direction == 0:\n",
    "            for i in range(left,right+1):\n",
    "                print(matrix[top][i])\n",
    "            top += 1\n",
    "        elif direction == 1:\n",
    "            for i in range(top,bottom+1):\n",
    "                print(matrix[i][right])\n",
    "            right -= 1\n",
    "        elif direction == 2:\n",
    "            for i in range(right,left-1,-1):\n",
    "                print(matrix[bottom][i])\n",
    "            bottom -= 1\n",
    "        elif direction == 3:\n",
    "            for i in range(bottom, top-1, -1):\n",
    "                print(matrix[i][left])\n",
    "            left += 1\n",
    "        direction = (direction+1) % 4"
   ]
  },
  {
   "cell_type": "code",
   "execution_count": 29,
   "id": "c8f2699f",
   "metadata": {},
   "outputs": [],
   "source": [
    "m = [[1,  2,  3,  4,  5],\n",
    " [6,  7,  8,  9,  10],\n",
    " [11, 12, 13, 14, 15],\n",
    " [16, 17, 18, 19, 20]]"
   ]
  },
  {
   "cell_type": "code",
   "execution_count": 30,
   "id": "631f82b3",
   "metadata": {},
   "outputs": [
    {
     "name": "stdout",
     "output_type": "stream",
     "text": [
      "1\n",
      "2\n",
      "3\n",
      "4\n",
      "5\n",
      "10\n",
      "15\n",
      "20\n",
      "19\n",
      "18\n",
      "17\n",
      "16\n",
      "11\n",
      "6\n",
      "7\n",
      "8\n",
      "9\n",
      "14\n",
      "13\n",
      "12\n"
     ]
    }
   ],
   "source": [
    "spiralOrder(m)"
   ]
  },
  {
   "cell_type": "markdown",
   "id": "f6a225ec",
   "metadata": {},
   "source": [
    "# 79 Fixed Point "
   ]
  },
  {
   "cell_type": "markdown",
   "id": "937b6b6d",
   "metadata": {},
   "source": [
    "A fixed point in an array is an element whose value is equal to its index. \n",
    "Given a sorted array of distinct elements, return a fixed point, if one exists. Otherwise, return False.\n",
    "For example, given [-6, 0, 2, 40], you should return 2. Given [1, 5, 7, 8], you should return False."
   ]
  },
  {
   "cell_type": "code",
   "execution_count": 31,
   "id": "1ef9dcd8",
   "metadata": {},
   "outputs": [],
   "source": [
    "def fixed_point(arr):\n",
    "    start, end = 0, len(arr)-1\n",
    "    while start <= end:\n",
    "        mid = (start+end)//2\n",
    "        if arr[mid] == mid:\n",
    "            return mid\n",
    "        elif arr[mid] < mid:\n",
    "            start = mid + 1\n",
    "        else:\n",
    "            end = mid - 1\n",
    "    return False"
   ]
  },
  {
   "cell_type": "code",
   "execution_count": 32,
   "id": "13193405",
   "metadata": {},
   "outputs": [
    {
     "data": {
      "text/plain": [
       "False"
      ]
     },
     "execution_count": 32,
     "metadata": {},
     "output_type": "execute_result"
    }
   ],
   "source": [
    "arr = [1, 5, 7, 8]\n",
    "fixed_point(arr)"
   ]
  },
  {
   "cell_type": "markdown",
   "id": "1d8173eb",
   "metadata": {},
   "source": [
    "# 80 K Numbers"
   ]
  },
  {
   "cell_type": "markdown",
   "id": "7d140c2f",
   "metadata": {},
   "source": [
    "Given a list of numbers and a number k, return whether any two numbers from the list add up to k.\n",
    "For example, given [10, 15, 3, 7] and k of 17, return true since 10 + 7 is 17.\n",
    "Bonus: Can you do this in one pass?"
   ]
  },
  {
   "cell_type": "code",
   "execution_count": 34,
   "id": "da36775d",
   "metadata": {},
   "outputs": [
    {
     "name": "stdout",
     "output_type": "stream",
     "text": [
      "10 15 3 7\n",
      "17\n",
      "True\n"
     ]
    }
   ],
   "source": [
    "def elements_sum(arr, target):\n",
    "    res = set()\n",
    "    for i in arr:\n",
    "        temp = target - i\n",
    "        if temp in res:\n",
    "            return True\n",
    "        res.add(i)\n",
    "    return False\n",
    "    \n",
    "arr = list(map(int, input().split()))\n",
    "target = int(input())\n",
    "print(elements_sum(arr, target))"
   ]
  },
  {
   "cell_type": "markdown",
   "id": "88a002f6",
   "metadata": {},
   "source": [
    "### https://github.com/anantkaushik/dailycodingproblem"
   ]
  },
  {
   "cell_type": "markdown",
   "id": "f0b79a59",
   "metadata": {},
   "source": [
    "# 81 Pathagores Triplet"
   ]
  },
  {
   "cell_type": "markdown",
   "id": "85a1130c",
   "metadata": {},
   "source": [
    "Given an array of integers, write a function that returns true if there is a triplet (a, b, c) that satisfies a^2 + b^2 = c^2."
   ]
  },
  {
   "cell_type": "code",
   "execution_count": 1,
   "id": "2dc2fc78",
   "metadata": {},
   "outputs": [
    {
     "name": "stdout",
     "output_type": "stream",
     "text": [
      "Yes\n"
     ]
    }
   ],
   "source": [
    "def findPythagorasTriplet(arr, n):\n",
    "  # convert the array to squares\n",
    "  for i in range(0, n):\n",
    "    arr[i] = arr[i] * arr[i]\n",
    "  \n",
    "  # sort the array\n",
    "  arr.sort()\n",
    "\n",
    "  # use meet in the middle to find the pair (a,b)\n",
    "  for i in range(n-1, 1, -1):\n",
    "    j = 0\n",
    "    k = i-1\n",
    "\n",
    "    while (j < k):\n",
    "      # a pair is found\n",
    "      if (arr[j] + arr[k]) == arr[i]:\n",
    "        return True\n",
    "      else:\n",
    "        if (arr[j] + arr[k]) < arr[i]:\n",
    "          j = j + 1\n",
    "        else:\n",
    "          k = k - 1\n",
    "\n",
    "  return False\n",
    "\n",
    "ar = [3, 1, 4, 6, 5] \n",
    "ar_size = len(ar) \n",
    "if(findPythagorasTriplet(ar, ar_size)): \n",
    "    print(\"Yes\") \n",
    "else: \n",
    "    print(\"No\")  "
   ]
  },
  {
   "cell_type": "markdown",
   "id": "4d929acd",
   "metadata": {},
   "source": [
    "# 82 Largest Integer"
   ]
  },
  {
   "cell_type": "markdown",
   "id": "e7b28c4b",
   "metadata": {},
   "source": [
    "Write a function that given a list of non negative integers, arranges them such that they form the largest possible number. For example, given [50, 2, 1, 9], the largest formed number is 95021"
   ]
  },
  {
   "cell_type": "code",
   "execution_count": 2,
   "id": "233a1701",
   "metadata": {},
   "outputs": [
    {
     "data": {
      "text/plain": [
       "'6054854654'"
      ]
     },
     "execution_count": 2,
     "metadata": {},
     "output_type": "execute_result"
    }
   ],
   "source": [
    "from itertools import permutations\n",
    "\n",
    "def generate_largest_number(arr):\n",
    "  gen_nums = []\n",
    "  for i in permutations(arr, len(arr)):\n",
    "    gen_nums.append(\"\".join(map(str, i)))\n",
    "  return max(gen_nums)\n",
    "\n",
    "arr = [54, 546, 548, 60]\n",
    "generate_largest_number(arr)"
   ]
  },
  {
   "cell_type": "markdown",
   "id": "0eb029e8",
   "metadata": {},
   "source": [
    "# 83 Implement Heap Structure "
   ]
  },
  {
   "cell_type": "code",
   "execution_count": 3,
   "id": "d14eb69d",
   "metadata": {},
   "outputs": [
    {
     "name": "stdout",
     "output_type": "stream",
     "text": [
      "21\n",
      "4\n",
      "-3\n",
      "12\n",
      "7\n"
     ]
    }
   ],
   "source": [
    "class Heap(object):\n",
    "\n",
    "    HEAP_SIZE = 10\n",
    "\n",
    "    def __init__(self):\n",
    "        self.heap = [0] * Heap.HEAP_SIZE\n",
    "        self.currentPosition = -1\n",
    "\n",
    "    def insert(self, item):\n",
    "\n",
    "        # if heap is full , we print a notification\n",
    "        if self.isFull():\n",
    "            print(\"Heap is full\")\n",
    "            return\n",
    "        # else, increment the currentPosition and add item\n",
    "        self.currentPosition += 1\n",
    "        self.heap[self.currentPosition] = item\n",
    "        self.fixUp(self.currentPosition)\n",
    "\n",
    "    def fixUp(self, index):\n",
    "        parentIndex = int((index - 1) / 2)\n",
    "        while parentIndex >= 0 and self.heap[parentIndex] < self.heap[index]:\n",
    "            # if True swap heap[index] and heap[parentIndex]\n",
    "            temp = self.heap[index]\n",
    "            self.heap[index] = self.heap[parentIndex]\n",
    "            self.heap[parentIndex] = temp\n",
    "            # update the index and parentIndex\n",
    "            index = parentIndex\n",
    "            parentIndex = int((index - 1) / 2)\n",
    "\n",
    "    def fixDown(self, index, upto):\n",
    "        if upto < 0:\n",
    "            upto = self.currentPosition\n",
    "\n",
    "        while index <= upto:\n",
    "            leftChild = 2 * index + 1\n",
    "            rightChild = 2 * index + 2\n",
    "\n",
    "            if leftChild <= upto:\n",
    "                childToSwap = 0\n",
    "            else:\n",
    "                if self.heap[leftChild] < self.heap[rightChild]:\n",
    "                    childToSwap = leftChild\n",
    "                else:\n",
    "                    childToSwap = rightChild\n",
    "\n",
    "            if self.heap[index] < self.heap[childToSwap]:\n",
    "                temp = self.heap[index]\n",
    "                self.heap[index] = self.heap[childToSwap]\n",
    "                self.heap[childToSwap] = temp\n",
    "            else:\n",
    "                break\n",
    "\n",
    "            index = childToSwap\n",
    "\n",
    "        else:\n",
    "            return\n",
    "\n",
    "    def heapSort(self):\n",
    "        for i in range(0, self.currentPosition + 1):\n",
    "            temp = self.heap[0]\n",
    "            print(\"%d\" % temp)\n",
    "            self.heap[0] = self.heap[self.currentPosition - i]\n",
    "            self.heap[self.currentPosition - i] = temp\n",
    "            self.fixDown(0, self.currentPosition - i - 1)\n",
    "\n",
    "    def getMax(self):\n",
    "        result = self.heap[0]\n",
    "        self.currentPosition -= 1\n",
    "        self.heap[0] = self.heap[self.currentPosition]\n",
    "        del self.heap[self.currentPosition]\n",
    "        self.fixDown(0, -1)\n",
    "        return result\n",
    "\n",
    "    def isFull(self):\n",
    "        return self.currentPosition == Heap.HEAP_SIZE\n",
    "\n",
    "\n",
    "some_heap = Heap()\n",
    "some_heap.insert(12)\n",
    "some_heap.insert(-3)\n",
    "some_heap.insert(21)\n",
    "some_heap.insert(7)\n",
    "some_heap.insert(4)\n",
    "some_heap.heapSort()"
   ]
  },
  {
   "cell_type": "markdown",
   "id": "d199429f",
   "metadata": {},
   "source": [
    "# 84 Hundred without Integers"
   ]
  },
  {
   "cell_type": "markdown",
   "id": "c2cf258c",
   "metadata": {},
   "source": [
    " Print numbers 1 to 100 without using any numbers or integers"
   ]
  },
  {
   "cell_type": "code",
   "execution_count": 4,
   "id": "4ea212a7",
   "metadata": {},
   "outputs": [
    {
     "name": "stdout",
     "output_type": "stream",
     "text": [
      "1, 2, 3, 4, 5, 6, 7, 8, 9, 10, 11, 12, 13, 14, 15, 16, 17, 18, 19, 20, 21, 22, 23, 24, 25, 26, 27, 28, 29, 30, 31, 32, 33, 34, 35, 36, 37, 38, 39, 40, 41, 42, 43, 44, 45, 46, 47, 48, 49, 50, 51, 52, 53, 54, 55, 56, 57, 58, 59, 60, 61, 62, 63, 64, 65, 66, 67, 68, 69, 70, 71, 72, 73, 74, 75, 76, 77, 78, 79, 80, 81, 82, 83, 84, 85, 86, 87, 88, 89, 90, 91, 92, 93, 94, 95, 96, 97, 98, 99, 100, 1, 2, 3, 4, 5, 6, 7, 8, 9, 10, 11, 12, 13, 14, 15, 16, 17, 18, 19, 20, 21, 22, 23, 24, 25, 26, 27, 28, 29, 30, 31, 32, 33, 34, 35, 36, 37, 38, 39, 40, 41, 42, 43, 44, 45, 46, 47, 48, 49, 50, 51, 52, 53, 54, 55, 56, 57, 58, 59, 60, 61, 62, 63, 64, 65, 66, 67, 68, 69, 70, 71, 72, 73, 74, 75, 76, 77, 78, 79, 80, 81, 82, 83, 84, 85, 86, 87, 88, 89, 90, 91, 92, 93, 94, 95, 96, 97, 98, 99, 100, "
     ]
    }
   ],
   "source": [
    "ONE = str(int(True))\n",
    "ZERO = str(int(False))\n",
    "HUNDRED  = int(ONE + ZERO + ZERO)\n",
    "\n",
    "for i in range(int(ONE), HUNDRED+1):\n",
    "  print(i, end=', ')\n",
    "\n",
    "# OUTPUT (Actual prints in the same line, line breaks given here for code clarity):\n",
    "\n",
    "# 1, 2, 3, 4, 5, 6, 7, 8, 9, 10, \n",
    "# 11, 12, 13, 14, 15, 16, 17, 18, 19, 20, \n",
    "# 21, 22, 23, 24, 25, 26, 27, 28, 29, 30, \n",
    "# 31, 32, 33, 34, 35, 36, 37, 38, 39, 40, \n",
    "# 41, 42, 43, 44, 45, 46, 47, 48, 49, 50, \n",
    "# 51, 52, 53, 54, 55, 56, 57, 58, 59, 60, \n",
    "# 61, 62, 63, 64, 65, 66, 67, 68, 69, 70, \n",
    "# 71, 72, 73, 74, 75, 76, 77, 78, 79, 80, \n",
    "# 81, 82, 83, 84, 85, 86, 87, 88, 89, 90, \n",
    "# 91, 92, 93, 94, 95, 96, 97, 98, 99, 100,\n",
    "\n",
    "\n",
    "# ALTERNATE APPROACH\n",
    "# ORD (or \"ordinal\") function in python gives the ASCII\n",
    "# (American Standard Code for information interchange) value \n",
    "# of characters ranging from 0-256 in 8 bits of memory which \n",
    "# is equal to a byte.\n",
    "\n",
    "ONE = str(ord('b') - ord('a'))\n",
    "ZERO = str(ord('a') - ord('a'))\n",
    "HUNDRED  = int(ONE + ZERO + ZERO)\n",
    "\n",
    "for i in range(int(ONE), HUNDRED+1):\n",
    "  print(i, end=', ')"
   ]
  },
  {
   "cell_type": "markdown",
   "id": "ec640cb6",
   "metadata": {},
   "source": [
    "# 85 Integer to Roman "
   ]
  },
  {
   "cell_type": "markdown",
   "id": "e58441ec",
   "metadata": {},
   "source": [
    "Write a program to convert interger to Roman Representation"
   ]
  },
  {
   "cell_type": "code",
   "execution_count": 5,
   "id": "0b11c19b",
   "metadata": {},
   "outputs": [
    {
     "name": "stdout",
     "output_type": "stream",
     "text": [
      "CCLXXXIX\n"
     ]
    }
   ],
   "source": [
    "def convertIntegerToRomanNum(input_num):\n",
    "\n",
    "  number_list = [\n",
    "    1000, 900, 500, 400,\n",
    "    100, 90, 50, 40,\n",
    "    10, 9, 5, 4,\n",
    "    1\n",
    "  ]\n",
    "\n",
    "  symbol_list = [\n",
    "    'M', 'CM', 'D',  'CD',\n",
    "    'C',  'XC', 'L', 'XL',\n",
    "    'X', 'IX',  'V', 'IV',\n",
    "    'I'\n",
    "  ]\n",
    "\n",
    "  result_str = ''\n",
    "  i = 0\n",
    "\n",
    "  while input_num > 0:\n",
    "    # if input_num//number_list[i] > 0 , then we will get a string appended\n",
    "    # else it will continue the loop\n",
    "    for _ in range(input_num//number_list[i]):\n",
    "      result_str = result_str + symbol_list[i]\n",
    "      input_num = input_num - number_list[i]\n",
    "    i = i + 1\n",
    "  return result_str\n",
    "\n",
    "roman = convertIntegerToRomanNum(289)\n",
    "print(roman)"
   ]
  },
  {
   "cell_type": "markdown",
   "id": "b1848328",
   "metadata": {},
   "source": [
    "# 86 RotateMatrix180Deg"
   ]
  },
  {
   "cell_type": "code",
   "execution_count": 1,
   "id": "fc8f1f17",
   "metadata": {},
   "outputs": [
    {
     "name": "stdout",
     "output_type": "stream",
     "text": [
      "Original-Matrix\n",
      "\n",
      "1 2 3 4 \n",
      "\n",
      "5 6 7 8 \n",
      "\n",
      "9 10 11 12 \n",
      "\n",
      "13 14 15 16 \n",
      "\n",
      "Rotated-Matrix\n",
      "\n",
      "1 5 9 13 \n",
      "\n",
      "2 6 10 14 \n",
      "\n",
      "3 7 11 15 \n",
      "\n",
      "4 8 12 16 \n",
      "\n",
      "Reverse-Matrix\n",
      "\n",
      "4 8 12 16 \n",
      "\n",
      "3 7 11 15 \n",
      "\n",
      "2 6 10 14 \n",
      "\n",
      "1 5 9 13 \n",
      "\n",
      "Rotated-180-Matrix\n",
      "\n",
      "16 15 14 13 \n",
      "\n",
      "12 11 10 9 \n",
      "\n",
      "8 7 6 5 \n",
      "\n",
      "4 3 2 1 \n",
      "\n"
     ]
    }
   ],
   "source": [
    "def rotateMatrixby90(ipMat, size):\n",
    "  opMat = [[0 for i in range(size)] for j in range(size)]\n",
    "\n",
    "  for i in range(size):\n",
    "    for j in range(size):\n",
    "      opMat[j][i] = ipMat[i][j]\n",
    "  \n",
    "  return opMat\n",
    "\n",
    "def reverseMatrix(ipMat, size):\n",
    "  opMat = [[0 for i in range(size)] for j in range(size)]\n",
    "  for i in range(size):\n",
    "    for j in range(size):\n",
    "      opMat[abs(i-(size-1))][j] = ipMat[i][j]\n",
    "  \n",
    "  return opMat\n",
    "\n",
    "def rotateMatrixby180(ipMat, size):\n",
    "  mat_1 = rotateMatrixby90(ipMat, size)\n",
    "  mat_2 = reverseMatrix(mat_1, len(mat_1))\n",
    "  mat_3 = rotateMatrixby90(mat_2, len(mat_2))\n",
    "  mat_4 = reverseMatrix(mat_3, len(mat_3))\n",
    "\n",
    "  return mat_4\n",
    "\n",
    "def printMatrix(ipMat, size):\n",
    "  for i in range(size):\n",
    "    for j in range(size):\n",
    "      print(ipMat[i][j], end=\" \")\n",
    "    print('\\n')\n",
    "\n",
    "matA = [[1,2,3,4],[5,6,7,8],[9,10,11,12],[13,14,15,16]]\n",
    "print(\"Original-Matrix\" + '\\n')\n",
    "printMatrix(matA, len(matA))\n",
    "\n",
    "print(\"Rotated-Matrix\" + '\\n')\n",
    "rotatedMat = rotateMatrixby90(matA, len(matA))\n",
    "printMatrix(rotatedMat, len(rotatedMat))\n",
    "\n",
    "matB = [[1, 5, 9, 13], [2, 6, 10, 14], [3, 7, 11, 15], [4, 8, 12, 16]]\n",
    "reverseMat = reverseMatrix(matB, len(matB))\n",
    "print(\"Reverse-Matrix\" + '\\n')\n",
    "printMatrix(reverseMat, len(reverseMat))\n",
    "\n",
    "print(\"Rotated-180-Matrix\" + '\\n')\n",
    "rotatedMat180 = rotateMatrixby180(matA, len(matA))\n",
    "printMatrix(rotatedMat180, len(rotatedMat180))"
   ]
  },
  {
   "cell_type": "markdown",
   "id": "dc6301ec",
   "metadata": {},
   "source": [
    "# 87 Bresenham Line Algorithm"
   ]
  },
  {
   "cell_type": "markdown",
   "id": "99e04222",
   "metadata": {},
   "source": [
    "Bresenham Line Algorithm (BLA) is one of the earliest algorithms developed in computer graphics. It is used for drawing lines.  It is an efficient method because it involves only integer addition, subtractions, and multiplication operations. "
   ]
  },
  {
   "cell_type": "markdown",
   "id": "e6819040",
   "metadata": {},
   "source": [
    " Algorithm:\n",
    "1. We are given the starting and ending point (x1, y1) and (x2, y2)\n",
    "2. We compute the gradient m, using the formula: m = (y2-y1)/(x2-x1)\n",
    "3. The equation of the straight line is y = m*x+c. So the next thing we need to find is the intercept c\n",
    "4. Intercept can be derived using the formula c = y1 - m*x1\n",
    "5. To get the next point, we add dx to the x-cordinate and dy to the y cordinate\n",
    "6. We continue this cycle until we reach (x2, y2)"
   ]
  },
  {
   "cell_type": "code",
   "execution_count": 2,
   "id": "5c336722",
   "metadata": {},
   "outputs": [
    {
     "name": "stdout",
     "output_type": "stream",
     "text": [
      "3 2\n",
      "4 3\n",
      "5 3\n",
      "6 3\n",
      "7 3\n",
      "8 4\n",
      "9 4\n",
      "10 4\n",
      "11 4\n",
      "12 5\n",
      "13 5\n",
      "14 5\n"
     ]
    }
   ],
   "source": [
    "def lineGenerator(x1, y1, x2, y2):\n",
    "\tdx = x2 - x1\n",
    "\tdy = y2 - y1\n",
    "\n",
    "\tslope = 2*dy - dx\n",
    "\n",
    "\tx = x1\n",
    "\ty = y1\n",
    "\twhile x < x2:\n",
    "\n",
    "\t\t#Print current coordinates\n",
    "\t\tprint(x, y)\n",
    "\n",
    "\t\t#X increases any ways\n",
    "\t\tx+= 1\n",
    "\n",
    "\t\t# 2dy is always added in the slope. Do it.\n",
    "\t\tslope += 2*dy\n",
    "\t\t#Check for the current slope\n",
    "\t\tif slope >= 0:\n",
    "\t\t\ty += 1\n",
    "\t\t\tslope -= 2 * (x2-x1)\n",
    "\n",
    "\t\telif slope <=0:\n",
    "\t\t\t#No changes are made.\n",
    "\t\t\tslope = slope\n",
    "\n",
    "\n",
    "lineGenerator(3, 2, 15, 5)"
   ]
  },
  {
   "cell_type": "markdown",
   "id": "013e5038",
   "metadata": {},
   "source": [
    "# 88 Binary Search Recursive "
   ]
  },
  {
   "cell_type": "code",
   "execution_count": 3,
   "id": "1b067e3d",
   "metadata": {},
   "outputs": [
    {
     "name": "stdout",
     "output_type": "stream",
     "text": [
      "67\n"
     ]
    }
   ],
   "source": [
    "def binarySearch(lst, key, l, r):\n",
    "    if r >= l:\n",
    "        mid = l + (r - l) // 2\n",
    "        # use print(l, mid, r) to view the process\n",
    "        if lst[mid] == key:\n",
    "            return mid\n",
    "        elif lst[mid] < key:\n",
    "            return binarySearch(lst, key, mid + 1, r)\n",
    "        elif lst[mid] > key:\n",
    "            return binarySearch(lst, key, l, mid - 1)\n",
    "    else:\n",
    "        return -1\n",
    "\n",
    "\n",
    "arr = [int(i) for i in range(101)]\n",
    "print(binarySearch(arr, 67, 0, len(arr) - 1))"
   ]
  },
  {
   "cell_type": "markdown",
   "id": "05774c84",
   "metadata": {},
   "source": [
    "# 89 First Recurring Character"
   ]
  },
  {
   "cell_type": "markdown",
   "id": "3060ebee",
   "metadata": {},
   "source": [
    "Given an input string, find the first recurring character in it."
   ]
  },
  {
   "cell_type": "code",
   "execution_count": 4,
   "id": "fc39fac7",
   "metadata": {},
   "outputs": [
    {
     "name": "stdout",
     "output_type": "stream",
     "text": [
      "G\n",
      "None\n",
      "4\n"
     ]
    }
   ],
   "source": [
    "\n",
    "def first_recurring_character(input):\n",
    "    flag = None\n",
    "    d = dict()\n",
    "    for char in input:\n",
    "        if char in d.keys():\n",
    "            flag = char\n",
    "            return flag\n",
    "        d[char] = 1\n",
    "    return flag\n",
    "\n",
    "\n",
    "result = first_recurring_character(\"DFGHJWERGBFGHJ\")\n",
    "print(result)  # G\n",
    "result = first_recurring_character(\"ABCDEFGH\")\n",
    "print(result)  # None\n",
    "result = first_recurring_character(\"12345642124345\")\n",
    "print(result)  # 4"
   ]
  },
  {
   "cell_type": "markdown",
   "id": "8f9a708a",
   "metadata": {},
   "source": [
    "# 90 Get Minimum Platforms "
   ]
  },
  {
   "cell_type": "code",
   "execution_count": 5,
   "id": "69e5af1f",
   "metadata": {},
   "outputs": [
    {
     "name": "stdout",
     "output_type": "stream",
     "text": [
      "Minimum no. of platforms for given time table are:  3\n"
     ]
    }
   ],
   "source": [
    "def getMinPlatforms(arr, dep):\n",
    "  if len(arr) != len(dep):\n",
    "    print(\"Wrong inputs given...\")\n",
    "    return\n",
    "  else:\n",
    "    sorted_arr = sorted(arr + dep)\n",
    "    \n",
    "    minPlatform = 0\n",
    "    trainsAtPlatform = 0\n",
    "\n",
    "    for i in sorted_arr:\n",
    "      if i in arr:\n",
    "        trainsAtPlatform += 1\n",
    "      if i in dep:\n",
    "        trainsAtPlatform -= 1\n",
    "      minPlatform = max(minPlatform, trainsAtPlatform)\n",
    "    \n",
    "    return minPlatform\n",
    "\n",
    "arrivalArr = [900, 940, 950, 1100, 1500, 1800] \n",
    "departureArr = [910, 1200, 1120, 1130, 1900, 2000]\n",
    "\n",
    "result = getMinPlatforms(arrivalArr, departureArr)\n",
    "\n",
    "print(\"Minimum no. of platforms for given time table are: \", result)"
   ]
  },
  {
   "cell_type": "markdown",
   "id": "78dcd366",
   "metadata": {},
   "source": [
    "# 91 Has Zero Sum "
   ]
  },
  {
   "cell_type": "code",
   "execution_count": 8,
   "id": "ca1b6895",
   "metadata": {},
   "outputs": [
    {
     "name": "stdout",
     "output_type": "stream",
     "text": [
      "True\n"
     ]
    }
   ],
   "source": [
    "def getPrefixArray(arr):\n",
    "  return [sum(arr[:i]) for i in range(1, len(arr)+1)]\n",
    "\n",
    "# This method will create a mapping of numbers\n",
    "# and the indices they are present at\n",
    "\n",
    "def getIndexMap(arr):\n",
    "  indexMap = {}\n",
    "\n",
    "  for i in range(len(arr)):\n",
    "    if arr[i] not in indexMap.keys():\n",
    "      indexMap[arr[i]] = [i,]\n",
    "    else:\n",
    "      indexMap[arr[i]].append(i)\n",
    "  \n",
    "  return indexMap\n",
    "\n",
    "# This method will create the sum prefix of the \n",
    "# current array, if the sum is repeating, then\n",
    "# there is a zero sum sub array\n",
    "\n",
    "def hasZeroSum(arr):\n",
    "  prefixArr = getPrefixArray(arr)\n",
    "  sumAtIndexMap = getIndexMap(prefixArr)\n",
    "\n",
    "  for v in sumAtIndexMap.values():\n",
    "    if len(v) > 1:\n",
    "      return True\n",
    "      break\n",
    "  return False    \n",
    "\n",
    "\n",
    "ipArray = [1, 4, -2, -2, 5, -4, 3]\n",
    "hasZeroSumTrue = hasZeroSum(ipArray)\n",
    "print(hasZeroSumTrue)"
   ]
  },
  {
   "cell_type": "markdown",
   "id": "26cc1af2",
   "metadata": {},
   "source": [
    "# 92 Intersection Arrays"
   ]
  },
  {
   "cell_type": "markdown",
   "id": "71f32a04",
   "metadata": {},
   "source": [
    " Problem: Given two sorted array of sizes m and n in which all elements are distinct. Find the common elements between them\n",
    " Constraints: in O(m+n) complexity."
   ]
  },
  {
   "cell_type": "code",
   "execution_count": 9,
   "id": "e01f2d7d",
   "metadata": {},
   "outputs": [
    {
     "name": "stdout",
     "output_type": "stream",
     "text": [
      "[2, 3, 5]\n"
     ]
    }
   ],
   "source": [
    "def inr(z):\n",
    "    return z + 1\n",
    "\n",
    "def intersectionArrays(x, y, m, n):\n",
    "    i, j = 0, 0\n",
    "    intersect_arr = []\n",
    "\n",
    "    while i < m and j < n:\n",
    "        # print(i, j)\n",
    "        if x[i] == y[j]:\n",
    "            intersect_arr.append(x[i])\n",
    "            i, j = inr(i), inr(j)\n",
    "        elif x[i] < y[j]:\n",
    "            i = inr(i)\n",
    "        else:\n",
    "            j = inr(j)\n",
    "    print(intersect_arr)\n",
    "    return\n",
    "\n",
    "list_a = [1, 2, 3, 4, 5]\n",
    "list_b = [2, 3, 5, 6]\n",
    "intersectionArrays(list_a, list_b, len(list_a), len(list_b))"
   ]
  },
  {
   "cell_type": "markdown",
   "id": "8e7e6f58",
   "metadata": {},
   "source": [
    "# 93 Is Matrix Symmetric"
   ]
  },
  {
   "cell_type": "code",
   "execution_count": 11,
   "id": "4fee0d95",
   "metadata": {},
   "outputs": [
    {
     "name": "stdout",
     "output_type": "stream",
     "text": [
      "True\n"
     ]
    }
   ],
   "source": [
    "def isMatrixSymmetric(mat, size):\n",
    "  for i in range(size):\n",
    "    for j in range(size):\n",
    "      if mat[i][j] != mat[j][i]:\n",
    "        break\n",
    "        return False\n",
    "  \n",
    "  return True\n",
    "\n",
    "ipMat = [[1,2,3],[2,4,5],[3,5,8]]\n",
    "result = isMatrixSymmetric(ipMat, len(ipMat))\n",
    "print(result)"
   ]
  },
  {
   "cell_type": "markdown",
   "id": "cb8288d3",
   "metadata": {},
   "source": [
    "# 94 Number Palindrome "
   ]
  },
  {
   "cell_type": "markdown",
   "id": "f744d976",
   "metadata": {},
   "source": [
    " Write a program to check if a  number is a palindrome or not\n"
   ]
  },
  {
   "cell_type": "code",
   "execution_count": 13,
   "id": "29228aff",
   "metadata": {},
   "outputs": [
    {
     "name": "stdout",
     "output_type": "stream",
     "text": [
      "3 3\n",
      "4 4\n",
      "5 5\n",
      "True\n"
     ]
    }
   ],
   "source": [
    "def is_num_palindrome(num):\n",
    "  temp = str(num)\n",
    "  i = 0\n",
    "  j = len(temp) - 1\n",
    "\n",
    "  while j > i:\n",
    "    print(temp[i], temp[j])\n",
    "    if temp[i] == temp[j]:\n",
    "      i = i + 1\n",
    "      j = j - 1\n",
    "    else:\n",
    "      return False\n",
    "  return True\n",
    "\n",
    "n = 3456543\n",
    "res = is_num_palindrome(n)\n",
    "print(res)"
   ]
  },
  {
   "cell_type": "markdown",
   "id": "bcc7ae4f",
   "metadata": {},
   "source": [
    "# 95 Pascal Trianlge"
   ]
  },
  {
   "cell_type": "code",
   "execution_count": 15,
   "id": "5eaec858",
   "metadata": {},
   "outputs": [
    {
     "name": "stdout",
     "output_type": "stream",
     "text": [
      "1 \n",
      "\n",
      "1 1 \n",
      "\n",
      "1 2 1 \n",
      "\n",
      "1 3 3 1 \n",
      "\n",
      "1 4 6 4 1 \n",
      "\n",
      "1 5 10 10 5 1 \n",
      "\n",
      "1 6 15 20 15 6 1 \n",
      "\n",
      "1 7 21 35 35 21 7 1 \n",
      "\n",
      "1 8 28 56 70 56 28 8 1 \n",
      "\n",
      "1 9 36 84 126 126 84 36 9 1 \n",
      "\n"
     ]
    }
   ],
   "source": [
    "# Recusrive method to create the series\n",
    "def computePascal(col, row):\n",
    "    # There are three things to compute\n",
    "    # 1. Left edge: col is 0\n",
    "    # 2. Right edge: col is same as row\n",
    "    if col == row or col == 0:\n",
    "        return 1\n",
    "    # 3. any other cell: col-1 + col of the previous row\n",
    "    else:\n",
    "        return computePascal(col - 1, row - 1) + computePascal(col, row - 1)\n",
    "\n",
    "\n",
    "# Method to create the triangle for `N` row\n",
    "def printTriangle(num):\n",
    "    for r in range(num):\n",
    "        # upon observation, we can deduce the relation\n",
    "        # num_cols = num_rows + 1\n",
    "        for c in range(r + 1):\n",
    "            print(str(computePascal(c, r)), end=\" \")\n",
    "        print(\"\\n\")\n",
    "\n",
    "\n",
    "printTriangle(10)"
   ]
  },
  {
   "cell_type": "markdown",
   "id": "d5c0c727",
   "metadata": {},
   "source": [
    "# 96 Product Puzzle "
   ]
  },
  {
   "cell_type": "markdown",
   "id": "1e133764",
   "metadata": {},
   "source": [
    "Problem: Given an array arr[] of n integers, construct a Product Array prod[] (of same size) such that prod[i] is equal to the product of all the elements of arr[] except arr[i]."
   ]
  },
  {
   "cell_type": "markdown",
   "id": "ee67a711",
   "metadata": {},
   "source": [
    "Constraints: Solve it without division operator and in O(n)"
   ]
  },
  {
   "cell_type": "code",
   "execution_count": 16,
   "id": "d0807061",
   "metadata": {},
   "outputs": [
    {
     "name": "stdout",
     "output_type": "stream",
     "text": [
      "[180, 600, 360, 300, 900]\n"
     ]
    }
   ],
   "source": [
    "def computeProductArray(array, size):\n",
    "    # initialize three arrays of the same size as given array\n",
    "    # Left: will hold the product of all the elements to the left\n",
    "    # Right: will hold the product of all the elements to the right\n",
    "    # Product: contains the product value for current element\n",
    "\n",
    "    prod = [1] * size\n",
    "    left = [1] * size\n",
    "    right = [1] * size\n",
    "\n",
    "    for i in range(1, size):\n",
    "        left[i] = array[i - 1] * left[i - 1]\n",
    "    # decreasing loop in Python {start, end, step(-ve)}\n",
    "    # equivalent to (j=size-2; j>=0; j--)\n",
    "    for j in range(size - 2, -1, -1):\n",
    "        right[j] = array[j + 1] * right[j + 1]\n",
    "    for k in range(0, size):\n",
    "        prod[k] = left[k] * right[k]\n",
    "    print(prod)\n",
    "\n",
    "\n",
    "arr = [10, 3, 5, 6, 2]\n",
    "computeProductArray(arr, len(arr))\n",
    "# Result: [180, 600, 360, 300, 900]"
   ]
  },
  {
   "cell_type": "markdown",
   "id": "7bcd4395",
   "metadata": {},
   "source": [
    "# 97 Remove chars"
   ]
  },
  {
   "cell_type": "markdown",
   "id": "00f883bf",
   "metadata": {},
   "source": [
    "Write an efficient function that deletes characters from an ASCII string where any character existing in remove must be deleted from str. For example, given a str of \"Battle of the Vowels: Hawaii vs. Grozny\" and a remove of \"aeiou\", the function should transform str to “Bttl f th Vwls: Hw vs. Grzny”."
   ]
  },
  {
   "cell_type": "code",
   "execution_count": 17,
   "id": "26b0beb8",
   "metadata": {},
   "outputs": [
    {
     "name": "stdout",
     "output_type": "stream",
     "text": [
      "Bttl f th Vwls: Hw vs. Grzny\n"
     ]
    }
   ],
   "source": [
    "def removeChars(main_string, remove_string):\n",
    "    result = \"\"\n",
    "    for char in main_string:\n",
    "        if char not in remove_string:\n",
    "            result += char\n",
    "    return result\n",
    "\n",
    "\n",
    "given_input = \"Battle of the Vowels: Hawaii vs. Grozny\"\n",
    "vowels = \"aeiou\"\n",
    "print(removeChars(given_input, vowels))"
   ]
  },
  {
   "cell_type": "markdown",
   "id": "e6a4cf69",
   "metadata": {},
   "source": [
    "# 98 Reverse String Recursive "
   ]
  },
  {
   "cell_type": "code",
   "execution_count": 18,
   "id": "8aac965c",
   "metadata": {},
   "outputs": [
    {
     "name": "stdout",
     "output_type": "stream",
     "text": [
      "ccbbaa\n"
     ]
    }
   ],
   "source": [
    "def recursive_reverse(input_str):\n",
    "    if len(input_str) == 0:\n",
    "        return \"\"\n",
    "    else:\n",
    "        return recursive_reverse(input_str[1:]) + input_str[0]\n",
    "\n",
    "\n",
    "result = recursive_reverse(\"aabbcc\")\n",
    "print(result)  # ccbbaa"
   ]
  },
  {
   "cell_type": "markdown",
   "id": "e5d70278",
   "metadata": {},
   "source": [
    "# 99 Rotate Matrix180Degree"
   ]
  },
  {
   "cell_type": "code",
   "execution_count": 19,
   "id": "eca442c1",
   "metadata": {},
   "outputs": [
    {
     "name": "stdout",
     "output_type": "stream",
     "text": [
      "Original-Matrix\n",
      "\n",
      "1 2 3 4 \n",
      "\n",
      "5 6 7 8 \n",
      "\n",
      "9 10 11 12 \n",
      "\n",
      "13 14 15 16 \n",
      "\n",
      "Rotated-Matrix\n",
      "\n",
      "1 5 9 13 \n",
      "\n",
      "2 6 10 14 \n",
      "\n",
      "3 7 11 15 \n",
      "\n",
      "4 8 12 16 \n",
      "\n",
      "Reverse-Matrix\n",
      "\n",
      "4 8 12 16 \n",
      "\n",
      "3 7 11 15 \n",
      "\n",
      "2 6 10 14 \n",
      "\n",
      "1 5 9 13 \n",
      "\n",
      "Rotated-180-Matrix\n",
      "\n",
      "16 15 14 13 \n",
      "\n",
      "12 11 10 9 \n",
      "\n",
      "8 7 6 5 \n",
      "\n",
      "4 3 2 1 \n",
      "\n"
     ]
    }
   ],
   "source": [
    "def rotateMatrixby90(ipMat, size):\n",
    "  opMat = [[0 for i in range(size)] for j in range(size)]\n",
    "\n",
    "  for i in range(size):\n",
    "    for j in range(size):\n",
    "      opMat[j][i] = ipMat[i][j]\n",
    "  \n",
    "  return opMat\n",
    "\n",
    "def reverseMatrix(ipMat, size):\n",
    "  opMat = [[0 for i in range(size)] for j in range(size)]\n",
    "  for i in range(size):\n",
    "    for j in range(size):\n",
    "      opMat[abs(i-(size-1))][j] = ipMat[i][j]\n",
    "  \n",
    "  return opMat\n",
    "\n",
    "def rotateMatrixby180(ipMat, size):\n",
    "  mat_1 = rotateMatrixby90(ipMat, size)\n",
    "  mat_2 = reverseMatrix(mat_1, len(mat_1))\n",
    "  mat_3 = rotateMatrixby90(mat_2, len(mat_2))\n",
    "  mat_4 = reverseMatrix(mat_3, len(mat_3))\n",
    "\n",
    "  return mat_4\n",
    "\n",
    "def printMatrix(ipMat, size):\n",
    "  for i in range(size):\n",
    "    for j in range(size):\n",
    "      print(ipMat[i][j], end=\" \")\n",
    "    print('\\n')\n",
    "\n",
    "matA = [[1,2,3,4],[5,6,7,8],[9,10,11,12],[13,14,15,16]]\n",
    "print(\"Original-Matrix\" + '\\n')\n",
    "printMatrix(matA, len(matA))\n",
    "\n",
    "print(\"Rotated-Matrix\" + '\\n')\n",
    "rotatedMat = rotateMatrixby90(matA, len(matA))\n",
    "printMatrix(rotatedMat, len(rotatedMat))\n",
    "\n",
    "matB = [[1, 5, 9, 13], [2, 6, 10, 14], [3, 7, 11, 15], [4, 8, 12, 16]]\n",
    "reverseMat = reverseMatrix(matB, len(matB))\n",
    "print(\"Reverse-Matrix\" + '\\n')\n",
    "printMatrix(reverseMat, len(reverseMat))\n",
    "\n",
    "print(\"Rotated-180-Matrix\" + '\\n')\n",
    "rotatedMat180 = rotateMatrixby180(matA, len(matA))\n",
    "printMatrix(rotatedMat180, len(rotatedMat180))"
   ]
  },
  {
   "cell_type": "markdown",
   "id": "a3e69c99",
   "metadata": {},
   "source": [
    "# 100 Rotate Matrix 90 Degree"
   ]
  },
  {
   "cell_type": "markdown",
   "id": "0ec757af",
   "metadata": {},
   "source": [
    "Problem: Rotate a square matrix by 90 degree with O(1) extra space"
   ]
  },
  {
   "cell_type": "code",
   "execution_count": 20,
   "id": "a460a8f7",
   "metadata": {},
   "outputs": [],
   "source": [
    "def rotate_by_90(m):\n",
    "    # unpacking arguments with zip(*) in reverse with [ : :-1]\n",
    "    tuples = zip(*m[::-1])\n",
    "    # flattening tuples to list with [list(i)]\n",
    "    return [list(i) for i in tuples]\n",
    "\n",
    "\n",
    "def makeMatrix(array, size):\n",
    "    # validating size of matrix for given array\n",
    "    if size ** 2 != len(array):\n",
    "        return -1\n",
    "    # make sub array of length size using array slicing\n",
    "    else:\n",
    "        matrix = [array[i : i + size] for i in range(0, len(array), size)]\n",
    "        return rotate_by_90(matrix)\n",
    "\n",
    "\n",
    "arr = [1, 2, 3, 4]\n",
    "dimension = 2\n",
    "result = makeMatrix(arr, dimension)"
   ]
  },
  {
   "cell_type": "code",
   "execution_count": 21,
   "id": "e342c643",
   "metadata": {},
   "outputs": [
    {
     "data": {
      "text/plain": [
       "[[3, 1], [4, 2]]"
      ]
     },
     "execution_count": 21,
     "metadata": {},
     "output_type": "execute_result"
    }
   ],
   "source": [
    "result"
   ]
  },
  {
   "cell_type": "markdown",
   "id": "758472d3",
   "metadata": {},
   "source": [
    "# 101 Find Median "
   ]
  },
  {
   "cell_type": "markdown",
   "id": "8534e8ac",
   "metadata": {},
   "source": [
    "Problem: Find Median from Data Stream"
   ]
  },
  {
   "cell_type": "code",
   "execution_count": 22,
   "id": "9762f3c4",
   "metadata": {},
   "outputs": [
    {
     "name": "stdout",
     "output_type": "stream",
     "text": [
      "[1, 1, 2, 2, 3]\n"
     ]
    }
   ],
   "source": [
    "def findMedian(stream):\n",
    "  # print(stream)\n",
    "  streamSize = len(stream)\n",
    "\n",
    "  if streamSize == 1:\n",
    "    return stream[0]\n",
    "  else:\n",
    "    stream = sorted(stream)\n",
    "    midPt = streamSize // 2\n",
    "\n",
    "    if streamSize % 2 == 1:\n",
    "      return stream[midPt]\n",
    "    else:\n",
    "      return (stream[midPt] + stream[midPt-1]) // 2\n",
    "\n",
    "def findRunningMedian(inputArray):\n",
    "  medianArray = []\n",
    "\n",
    "  for i in range(0,len(inputArray)):\n",
    "    # print(inputArray)\n",
    "    currentMedian = findMedian(inputArray[0:i+1])\n",
    "    medianArray.append(currentMedian)\n",
    "  \n",
    "  return medianArray\n",
    "\n",
    "\n",
    "solution = findRunningMedian([1, 2, 3, 4, 5])\n",
    "print(solution)  "
   ]
  },
  {
   "cell_type": "markdown",
   "id": "6130e554",
   "metadata": {},
   "source": [
    "# 102 Sum Array Recursion"
   ]
  },
  {
   "cell_type": "code",
   "execution_count": 23,
   "id": "ab44bbcc",
   "metadata": {},
   "outputs": [
    {
     "name": "stdout",
     "output_type": "stream",
     "text": [
      "7\n"
     ]
    }
   ],
   "source": [
    "# Write a program to sum a given array\n",
    "# using recursion\n",
    "\n",
    "def recur_sum(arr, i):\n",
    "  #print(arr[i])\n",
    "  if i < 1:\n",
    "    return arr[i]\n",
    "  else:\n",
    "    return arr[i] + recur_sum(arr, i-1)\n",
    "\n",
    "\n",
    "arr = [-1, 2, -3, 4, 5]\n",
    "print(recur_sum(arr, len(arr)-1))"
   ]
  },
  {
   "cell_type": "code",
   "execution_count": null,
   "id": "cd84c107",
   "metadata": {},
   "outputs": [],
   "source": []
  }
 ],
 "metadata": {
  "kernelspec": {
   "display_name": "Python 3 (ipykernel)",
   "language": "python",
   "name": "python3"
  },
  "language_info": {
   "codemirror_mode": {
    "name": "ipython",
    "version": 3
   },
   "file_extension": ".py",
   "mimetype": "text/x-python",
   "name": "python",
   "nbconvert_exporter": "python",
   "pygments_lexer": "ipython3",
   "version": "3.9.7"
  }
 },
 "nbformat": 4,
 "nbformat_minor": 5
}
