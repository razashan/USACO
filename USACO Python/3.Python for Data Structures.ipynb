{
 "cells": [
  {
   "cell_type": "markdown",
   "metadata": {},
   "source": [
    "# Stack"
   ]
  },
  {
   "cell_type": "code",
   "execution_count": 18,
   "metadata": {},
   "outputs": [],
   "source": [
    "class Node:\n",
    "    def __init__(self,data=None):\n",
    "        self.data = data\n",
    "        self.next = None\n",
    "        \n",
    "class Stack:\n",
    "    def __init__(self):\n",
    "        self.top = None\n",
    "        self.size =0\n",
    "        \n",
    "    def push(self,data):\n",
    "        node = Node(data)\n",
    "        if self.top:\n",
    "            node.next = self.top\n",
    "            self.top = node\n",
    "        else:\n",
    "            self.top =node\n",
    "        self.size +=1\n",
    "        \n",
    "    def pop(self):\n",
    "        if self.top:\n",
    "            data = self.top.data\n",
    "            self.size -=1\n",
    "            \n",
    "            if self.top.next:\n",
    "                self.top = self.top.next\n",
    "            else:\n",
    "                self.top = None\n",
    "        else:\n",
    "            return node\n",
    "        \n",
    "    def peek(self):\n",
    "        if self.top:\n",
    "            return self.top.data\n",
    "        else:\n",
    "            return None\n",
    "        \n",
    "    def check_brackets(statement):\n",
    "        stack = Stack()\n",
    "        for ch in statement:\n",
    "            if ch in ('{','[','('):\n",
    "                stack.push(ch)\n",
    "            if ch in ('}',']',')'):\n",
    "                stack.push(ch)\n",
    "            if last is '{' and ch in '}':\n",
    "                continue\n",
    "            elif last is '[' and ch is ']':\n",
    "                continue\n",
    "            elif last is '(' and ch is ')':\n",
    "                continue\n",
    "            else:\n",
    "                return False\n",
    "        if stack.size >0:\n",
    "            return False\n",
    "        else:\n",
    "            return True\n",
    "    \n",
    "        "
   ]
  },
  {
   "cell_type": "code",
   "execution_count": 3,
   "metadata": {},
   "outputs": [],
   "source": [
    "s1 = Stack()"
   ]
  },
  {
   "cell_type": "code",
   "execution_count": 15,
   "metadata": {},
   "outputs": [],
   "source": [
    "s1.push(2)\n",
    "s1.push(5)\n",
    "s1.push(10)\n",
    "s1.push(20)\n",
    "s1.push(30)\n",
    "s1.push(50)"
   ]
  },
  {
   "cell_type": "code",
   "execution_count": 16,
   "metadata": {},
   "outputs": [
    {
     "data": {
      "text/plain": [
       "50"
      ]
     },
     "execution_count": 16,
     "metadata": {},
     "output_type": "execute_result"
    }
   ],
   "source": [
    "s1.peek()"
   ]
  },
  {
   "cell_type": "markdown",
   "metadata": {},
   "source": [
    "# Queue"
   ]
  },
  {
   "cell_type": "code",
   "execution_count": 27,
   "metadata": {},
   "outputs": [],
   "source": [
    "class ListQueue:\n",
    "    def __init__(self):\n",
    "        self.items = []\n",
    "        self.size  = 0\n",
    "        \n",
    "    def empty(self):\n",
    "        return self.item == []\n",
    "    \n",
    "    def enqueue(self,data):\n",
    "        self.items.insert(0,data)\n",
    "        self.size +=1\n",
    "        \n",
    "    def dequeue(self):\n",
    "        data = self.items.pop()\n",
    "        self.size -=1\n",
    "        return data\n",
    "    def size(self):\n",
    "        self.size\n",
    "    def display(self):\n",
    "        print(self.items)\n"
   ]
  },
  {
   "cell_type": "code",
   "execution_count": 13,
   "metadata": {},
   "outputs": [],
   "source": [
    "list_queue = ListQueue()"
   ]
  },
  {
   "cell_type": "code",
   "execution_count": 14,
   "metadata": {},
   "outputs": [
    {
     "name": "stdout",
     "output_type": "stream",
     "text": [
      "----3.096996307373047 seconds ----\n"
     ]
    }
   ],
   "source": [
    "import time\n",
    "start_time = time.time()\n",
    "for i in range(100000):\n",
    "    list_queue.enqueue(i)\n",
    "    \n",
    "for i in range(100000):\n",
    "    list_queue.dequeue()\n",
    "    \n",
    "print(\"----%s seconds ----\"%(time.time()- start_time))"
   ]
  },
  {
   "cell_type": "code",
   "execution_count": 15,
   "metadata": {},
   "outputs": [
    {
     "name": "stdout",
     "output_type": "stream",
     "text": [
      "---2.8109986782073975 seconds---\n"
     ]
    }
   ],
   "source": [
    "import time\n",
    "start_time = time.time()\n",
    "for i in range(1000):\n",
    "    for j in range(100):\n",
    "        list_queue.enqueue(i)\n",
    "    for k in range(10):\n",
    "        list_queue.dequeue()\n",
    "        \n",
    "print(\"---%s seconds---\"%(time.time()- start_time))"
   ]
  },
  {
   "cell_type": "code",
   "execution_count": 28,
   "metadata": {},
   "outputs": [],
   "source": [
    "l1 = ListQueue()\n",
    "l1.enqueue(12)\n",
    "l1.enqueue(124)\n",
    "l1.enqueue(134)"
   ]
  },
  {
   "cell_type": "code",
   "execution_count": 29,
   "metadata": {},
   "outputs": [
    {
     "data": {
      "text/plain": [
       "12"
      ]
     },
     "execution_count": 29,
     "metadata": {},
     "output_type": "execute_result"
    }
   ],
   "source": [
    "l1.dequeue()"
   ]
  },
  {
   "cell_type": "code",
   "execution_count": 30,
   "metadata": {},
   "outputs": [
    {
     "name": "stdout",
     "output_type": "stream",
     "text": [
      "[134, 124]\n"
     ]
    }
   ],
   "source": [
    "l1.display()"
   ]
  },
  {
   "cell_type": "code",
   "execution_count": 31,
   "metadata": {},
   "outputs": [
    {
     "name": "stdout",
     "output_type": "stream",
     "text": [
      "[30, 20, 10, 134, 124]\n"
     ]
    }
   ],
   "source": [
    "l1.enqueue(10)\n",
    "l1.enqueue(20)\n",
    "l1.enqueue(30)\n",
    "l1.display()"
   ]
  },
  {
   "cell_type": "markdown",
   "metadata": {},
   "source": [
    "# Queue class"
   ]
  },
  {
   "cell_type": "code",
   "execution_count": 32,
   "metadata": {},
   "outputs": [],
   "source": [
    "from random import randint"
   ]
  },
  {
   "cell_type": "code",
   "execution_count": 33,
   "metadata": {},
   "outputs": [],
   "source": [
    "class Node(object):\n",
    "    def __init__(self,data=None,next = None,prev=None):\n",
    "        self.data = data\n",
    "        self.next = next\n",
    "        self.prev = prev\n",
    "        \n",
    "class Queue(object):\n",
    "    def __init__(self):\n",
    "        self.head = None\n",
    "        self.tail = None\n",
    "        self.count = 0\n",
    "        \n",
    "    def enqueue(self,data):\n",
    "        new_node = Node(data,None,None)\n",
    "        if self.head is None:\n",
    "            self.head = new_node\n",
    "            self.tail = self.head\n",
    "            \n",
    "        else:\n",
    "            new_node.prev = self.tail \n",
    "            self.tail.next = new_node\n",
    "            self.tail = new_node\n",
    "            \n",
    "        self.count +=1\n",
    "        \n",
    "    def dequeue(self):\n",
    "        current = self.head\n",
    "        if self.count == 1:\n",
    "            self.count -=1\n",
    "            self.head = None\n",
    "            self.tail = None\n",
    "        elif self.count >1:\n",
    "            self.head = self.head.next\n",
    "            self.head.prev = None\n",
    "            self.count -=1\n",
    "        return current"
   ]
  },
  {
   "cell_type": "code",
   "execution_count": 34,
   "metadata": {},
   "outputs": [],
   "source": [
    "queue = Queue()"
   ]
  },
  {
   "cell_type": "code",
   "execution_count": 36,
   "metadata": {},
   "outputs": [
    {
     "name": "stdout",
     "output_type": "stream",
     "text": [
      "----0.2989926338195801 seconds -----\n"
     ]
    }
   ],
   "source": [
    "import time \n",
    "start_time = time.time()\n",
    "for i in range(100000):\n",
    "    queue.enqueue(i)\n",
    "for i in range(100000):\n",
    "    queue.dequeue()\n",
    "    \n",
    "print(\"----%s seconds -----\"%(time.time() - start_time))"
   ]
  },
  {
   "cell_type": "code",
   "execution_count": 37,
   "metadata": {},
   "outputs": [],
   "source": [
    "class Track:\n",
    "    def __init__(self,title=None):\n",
    "        self.title = title\n",
    "        self.length = randint(5,10)"
   ]
  },
  {
   "cell_type": "code",
   "execution_count": 38,
   "metadata": {},
   "outputs": [
    {
     "name": "stdout",
     "output_type": "stream",
     "text": [
      "6\n"
     ]
    }
   ],
   "source": [
    "track1 = Track(\"White whistle\")\n",
    "track2 = Track(\"Butter butter\")\n",
    "print(track1.length)"
   ]
  },
  {
   "cell_type": "code",
   "execution_count": 39,
   "metadata": {},
   "outputs": [
    {
     "name": "stdout",
     "output_type": "stream",
     "text": [
      "10\n"
     ]
    }
   ],
   "source": [
    "print(track2.length)"
   ]
  },
  {
   "cell_type": "code",
   "execution_count": 41,
   "metadata": {},
   "outputs": [
    {
     "name": "stdout",
     "output_type": "stream",
     "text": [
      "White whistle\n"
     ]
    }
   ],
   "source": [
    "print(track1.title)"
   ]
  },
  {
   "cell_type": "code",
   "execution_count": 42,
   "metadata": {},
   "outputs": [],
   "source": [
    "class MediaPlayerQueue(Queue):\n",
    "    def __init__(self):\n",
    "        super(MediaPlayerQ:P;,ueue,self).__init__()\n",
    "        \n",
    "    def add_track(self,track):\n",
    "        self.enqueue(track)\n",
    "        \n",
    "    def play(self):\n",
    "        while self.count >0:\n",
    "            current_track_node = self.dequeue()\n",
    "            print(\"Now Playing {}\".format(current_track_node.data.title))\n",
    "            time.sleep(current_track_node.data.length)"
   ]
  },
  {
   "cell_type": "code",
   "execution_count": 43,
   "metadata": {},
   "outputs": [],
   "source": [
    "track1 = Track(\"White Whistle\")\n",
    "track2 = Track(\"butter butter\")\n",
    "track3 = Track(\"Oh black star\")\n",
    "track4 = Track(\"Watch the Chicken\")\n",
    "track5 = Track(\"Don't Go\")"
   ]
  },
  {
   "cell_type": "code",
   "execution_count": 44,
   "metadata": {},
   "outputs": [],
   "source": [
    "media_player = MediaPlayerQueue()"
   ]
  },
  {
   "cell_type": "code",
   "execution_count": 45,
   "metadata": {},
   "outputs": [
    {
     "name": "stdout",
     "output_type": "stream",
     "text": [
      "Now Playing White Whistle\n",
      "Now Playing butter butter\n",
      "Now Playing Oh black star\n",
      "Now Playing Watch the Chicken\n",
      "Now Playing Don't Go\n"
     ]
    }
   ],
   "source": [
    "media_player.add_track(track1)\n",
    "media_player.add_track(track2)\n",
    "media_player.add_track(track3)\n",
    "media_player.add_track(track4)\n",
    "media_player.add_track(track5)\n",
    "media_player.play()"
   ]
  },
  {
   "cell_type": "markdown",
   "metadata": {},
   "source": [
    "# Palindrome Check with Deque"
   ]
  },
  {
   "cell_type": "code",
   "execution_count": 3,
   "metadata": {},
   "outputs": [
    {
     "name": "stdout",
     "output_type": "stream",
     "text": [
      "(True, True)\n",
      "(False, False)\n"
     ]
    }
   ],
   "source": [
    "import string\n",
    "import collections\n",
    "\n",
    "class Deque:\n",
    "    def __init__(self):\n",
    "        self.items = []\n",
    "        \n",
    "    \n",
    "    def isEmpty(self):\n",
    "        return self.items == []\n",
    "    \n",
    "    def addFront(self,item):\n",
    "        self.items.append(item)\n",
    "        \n",
    "    def addRear(self,item):\n",
    "        self.items.insert(0,item)\n",
    "        \n",
    "    def removeFront(self):\n",
    "        return self.items.pop()\n",
    "        \n",
    "    def removeRear(self):\n",
    "        return self.items.pop(0)\n",
    "    def size(self):\n",
    "        return len(self.items)\n",
    "    \n",
    "    \n",
    "STRIP = string.whitespace + string.punctuation +  \"\\\"'\"\n",
    "def checkPalindromewithDeque(str1):\n",
    "    d1 = Deque()\n",
    "    d2 = collections.deque()\n",
    "    for s in str1.lower():\n",
    "        if s not in STRIP:\n",
    "            d2.append(s)\n",
    "            d1.addRear(s)\n",
    "            \n",
    "    eq1 = True\n",
    "    while d1.size() >1 and eq1:\n",
    "        if d1.removeFront() != d1.removeRear():\n",
    "            eq1 = False\n",
    "            \n",
    "    eq2 = True\n",
    "    while len(d2)>1 and eq2:\n",
    "        if d2.pop() != d2.popleft():\n",
    "            eq2 = False\n",
    "            \n",
    "    return eq1,eq2\n",
    "\n",
    "str1 = 'Madam Im Adam'\n",
    "str2 = 'Buffy is a Slayer'\n",
    "\n",
    "print(checkPalindromewithDeque(str1))\n",
    "print(checkPalindromewithDeque(str2))"
   ]
  },
  {
   "cell_type": "markdown",
   "metadata": {},
   "source": [
    "# Stack with Queues"
   ]
  },
  {
   "cell_type": "code",
   "execution_count": 9,
   "metadata": {},
   "outputs": [
    {
     "name": "stdout",
     "output_type": "stream",
     "text": [
      "4\n",
      "3\n",
      "2\n",
      "1\n",
      "0\n"
     ]
    }
   ],
   "source": [
    "class Queue(object):\n",
    "    def __init__(self):\n",
    "        self.queue = []\n",
    "        \n",
    "        \n",
    "    def isEmpty(self):\n",
    "        return self.queue == []\n",
    "    \n",
    "    def enqueue(self,x):\n",
    "        self.queue.append(x)\n",
    "    \n",
    "    def dequeue(self):\n",
    "        if self.queue:\n",
    "            a = self.queue[0]\n",
    "            self.queue.remove(a)\n",
    "            return a\n",
    "        else:\n",
    "            print(\"QUEUE is empty\")\n",
    "            \n",
    "            \n",
    "    def size(self):\n",
    "        return len(self.queue)\n",
    "    \n",
    "class Stack(object):\n",
    "    def __init__(self):\n",
    "        self.Q1 = Queue()\n",
    "        self.Q2 = Queue()\n",
    "        \n",
    "    def isEmpty(self):\n",
    "        return self.Q1.isEmpty() and self.Q2.isEmpty()\n",
    "        \n",
    "    def push(self,item):\n",
    "        if self.Q2.isEmpty():\n",
    "            self.Q1.enqueue(item)\n",
    "        else:\n",
    "            self.Q2.enqueue(item)\n",
    "                \n",
    "    def pop(self):\n",
    "        if self.isEmpty():\n",
    "            raise IndexError# 'stack is empty'\n",
    "                \n",
    "        elif self.Q2.isEmpty():\n",
    "            while not self.Q1.isEmpty():\n",
    "                cur = self.Q1.dequeue()\n",
    "                if self.Q1.isEmpty():\n",
    "                    return cur\n",
    "                self.Q2.enqueue(cur)\n",
    "                    \n",
    "        else:\n",
    "            while not self.Q2.isEmpty():\n",
    "                cur = self.Q2.dequeue()\n",
    "                if self.Q2.isEmpty():\n",
    "                    return cur\n",
    "                self.Q1.enqueue(cur)\n",
    "                    \n",
    "s = Stack()\n",
    "for i in range(5):\n",
    "    s.push(i)\n",
    "for i in range(5):\n",
    "    print(s.pop())\n",
    "                    "
   ]
  },
  {
   "cell_type": "code",
   "execution_count": null,
   "metadata": {},
   "outputs": [],
   "source": []
  }
 ],
 "metadata": {
  "kernelspec": {
   "display_name": "Python 3",
   "language": "python",
   "name": "python3"
  },
  "language_info": {
   "codemirror_mode": {
    "name": "ipython",
    "version": 3
   },
   "file_extension": ".py",
   "mimetype": "text/x-python",
   "name": "python",
   "nbconvert_exporter": "python",
   "pygments_lexer": "ipython3",
   "version": "3.8.8"
  }
 },
 "nbformat": 4,
 "nbformat_minor": 2
}
